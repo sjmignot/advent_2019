{
 "cells": [
  {
   "cell_type": "markdown",
   "metadata": {},
   "source": [
    "# SETUP"
   ]
  },
  {
   "cell_type": "markdown",
   "metadata": {},
   "source": [
    "## imports"
   ]
  },
  {
   "cell_type": "code",
   "execution_count": 192,
   "metadata": {},
   "outputs": [],
   "source": [
    "import string\n",
    "import numpy as np\n",
    "from itertools import cycle\n",
    "import requests\n",
    "import collections\n",
    "from collections import deque\n",
    "from pprint import pprint\n",
    "import operator\n",
    "from time import sleep\n",
    "import itertools\n",
    "import re\n",
    "import functools\n",
    "from functools import reduce\n",
    "from dataclasses import dataclass\n",
    "from copy import deepcopy\n",
    "import networkx as nx\n",
    "import matplotlib.pyplot as plt"
   ]
  },
  {
   "cell_type": "markdown",
   "metadata": {},
   "source": [
    "## constants"
   ]
  },
  {
   "cell_type": "code",
   "execution_count": 7,
   "metadata": {},
   "outputs": [],
   "source": [
    "lowercase = string.ascii_lowercase\n",
    "uppercase = string.ascii_uppercase"
   ]
  },
  {
   "cell_type": "markdown",
   "metadata": {},
   "source": [
    "## helpers"
   ]
  },
  {
   "cell_type": "code",
   "execution_count": 8,
   "metadata": {},
   "outputs": [],
   "source": [
    "def get_level_input(lvl_num):\n",
    "    with open(f\"advent_inputs/{lvl_num}.txt\") as f:\n",
    "        level_input=f.read()\n",
    "        return level_input\n",
    "    \n",
    "def print_result(answer):\n",
    "    pprint(\"RESULT: \"+str(answer))\n",
    "    print()\n",
    "    pprint(\"TIME\"+\".\"*60)\n",
    "    \n",
    "class StopExecution(Exception):\n",
    "    def _render_traceback_(self):\n",
    "        pass"
   ]
  },
  {
   "cell_type": "markdown",
   "metadata": {},
   "source": [
    "## INTCODE COMPUTER SPECS"
   ]
  },
  {
   "cell_type": "code",
   "execution_count": 5,
   "metadata": {},
   "outputs": [],
   "source": [
    "# OPCODES\n",
    "ADD = 1\n",
    "MULT = 2\n",
    "INPUT = 3\n",
    "OUTPUT = 4\n",
    "JUMP_IF_TRUE = 5\n",
    "JUMP_IF_FALSE = 6 \n",
    "LESS_THAN = 7 \n",
    "EQUALS = 8\n",
    "ADJUST_REL_BASE = 9\n",
    "END = 99\n",
    "\n",
    "# MODES\n",
    "IM_MODE = 0\n",
    "POS_MODE = 1\n",
    "REL_MODE = 2\n",
    "\n",
    "# OP_FEATURES\n",
    "operation_length = {\n",
    "    ADD: 4, \n",
    "    MULT: 4, \n",
    "    INPUT: 2, \n",
    "    OUTPUT: 2, \n",
    "    END: 1, \n",
    "    JUMP_IF_TRUE: 3, \n",
    "    JUMP_IF_FALSE: 3, \n",
    "    LESS_THAN: 4, \n",
    "    EQUALS: 4,\n",
    "    ADJUST_REL_BASE: 2\n",
    "}\n",
    "\n",
    "operation_num_inputs = {\n",
    "    ADD: 2, \n",
    "    MULT: 2, \n",
    "    INPUT: 0, \n",
    "    OUTPUT: 1, \n",
    "    JUMP_IF_TRUE: 2, \n",
    "    JUMP_IF_FALSE: 2, \n",
    "    LESS_THAN: 2, \n",
    "    EQUALS: 2,\n",
    "    ADJUST_REL_BASE: 1\n",
    "}\n",
    "\n",
    "# JUMP SET\n",
    "JUMPS = { JUMP_IF_TRUE, JUMP_IF_FALSE }\n",
    "\n",
    "# DISPLAY FUNCITONS\n",
    "def print_computer(comp_string):\n",
    "    for i in range(0, len(comp_string), 10):\n",
    "        print(f\"[{i}]    {comp_string[i:i+10]}\")\n",
    " \n",
    "def print_step(win, inputs, output):\n",
    "    print(f\"win: {win}\")\n",
    "    print(f\"inputs: {inputs}\")    \n",
    "    print(f\"output: {output}\")"
   ]
  },
  {
   "cell_type": "markdown",
   "metadata": {},
   "source": [
    "# 1"
   ]
  },
  {
   "cell_type": "markdown",
   "metadata": {},
   "source": [
    "## setup"
   ]
  },
  {
   "cell_type": "code",
   "execution_count": 56,
   "metadata": {},
   "outputs": [],
   "source": [
    "module_weights = get_level_input(\"01\").splitlines()\n",
    "module_weights = list(map(int, module_weights))"
   ]
  },
  {
   "cell_type": "markdown",
   "metadata": {},
   "source": [
    "## part one"
   ]
  },
  {
   "cell_type": "code",
   "execution_count": 6,
   "metadata": {},
   "outputs": [
    {
     "name": "stdout",
     "output_type": "stream",
     "text": [
      "'RESULT: 3432671'\n",
      "\n",
      "'TIME............................................................'\n",
      "CPU times: user 421 µs, sys: 105 µs, total: 526 µs\n",
      "Wall time: 472 µs\n"
     ]
    }
   ],
   "source": [
    "%%time\n",
    "total_weight = sum([x//3 - 2 for x in module_weights])\n",
    "print_result(total_weight)"
   ]
  },
  {
   "cell_type": "markdown",
   "metadata": {},
   "source": [
    "## part two"
   ]
  },
  {
   "cell_type": "code",
   "execution_count": 67,
   "metadata": {},
   "outputs": [
    {
     "name": "stdout",
     "output_type": "stream",
     "text": [
      "'RESULT: 5146132'\n",
      "\n",
      "'TIME............................................................'\n",
      "CPU times: user 1.14 ms, sys: 284 µs, total: 1.42 ms\n",
      "Wall time: 1.19 ms\n"
     ]
    }
   ],
   "source": [
    "%%time\n",
    "\n",
    "def weight_of_weight_gen(m_weight):\n",
    "    while m_weight>0:\n",
    "        yield m_weight\n",
    "        m_weight = m_weight//3 - 2\n",
    "    \n",
    "def get_req_fuel(m_weight): \n",
    "    return sum([i for i in weight_of_weight_gen(m_weight)][1:])\n",
    "    \n",
    "total_weight = sum([get_req_fuel(x) for x in module_weights])\n",
    "print_result(total_weight)"
   ]
  },
  {
   "cell_type": "markdown",
   "metadata": {},
   "source": [
    "# 2"
   ]
  },
  {
   "cell_type": "markdown",
   "metadata": {},
   "source": [
    "## setup"
   ]
  },
  {
   "cell_type": "code",
   "execution_count": 124,
   "metadata": {},
   "outputs": [],
   "source": [
    "OPCODE = 0\n",
    "INPUT_1 = 1\n",
    "INPUT_2 = 2\n",
    "OUTPUT = 3\n",
    "WINDOW = 4\n",
    "\n",
    "comp_string = get_level_input(\"02\")\n",
    "comp_string = list(map(int, comp_string.split(',')))\n",
    "# comp_string = [1,9,10,3,2,3,11,0,99,30,40,50]\n"
   ]
  },
  {
   "cell_type": "markdown",
   "metadata": {},
   "source": [
    "## part one"
   ]
  },
  {
   "cell_type": "code",
   "execution_count": 125,
   "metadata": {},
   "outputs": [
    {
     "name": "stdout",
     "output_type": "stream",
     "text": [
      "'RESULT: 5290681'\n",
      "\n",
      "'TIME............................................................'\n",
      "CPU times: user 425 µs, sys: 284 µs, total: 709 µs\n",
      "Wall time: 464 µs\n"
     ]
    }
   ],
   "source": [
    "%%time\n",
    "\n",
    "def run_computer(comp_string):\n",
    "    comp_string[1] = 12\n",
    "    comp_string[2] = 2\n",
    "    comp_len = len(comp_string)\n",
    "    for i in range(0, len(comp_string), 4):\n",
    "        win = comp_string[i:i+WINDOW]\n",
    "        if(win[OPCODE] == END): return comp_string\n",
    "        assert(all(x < comp_len for x in win))\n",
    "        comp_string[win[OUTPUT]] = {\n",
    "            ADD: comp_string[win[INPUT_1]]+comp_string[win[INPUT_2]],\n",
    "            MULT: comp_string[win[INPUT_1]]*comp_string[win[INPUT_2]]\n",
    "        }[win[OPCODE]]\n",
    "    \n",
    "print_result(run_computer(list(comp_string))[0])"
   ]
  },
  {
   "cell_type": "markdown",
   "metadata": {},
   "source": [
    "## part two "
   ]
  },
  {
   "cell_type": "code",
   "execution_count": 188,
   "metadata": {},
   "outputs": [
    {
     "name": "stdout",
     "output_type": "stream",
     "text": [
      "'RESULT: 5741'\n",
      "\n",
      "'TIME............................................................'\n",
      "CPU times: user 295 ms, sys: 2.75 ms, total: 298 ms\n",
      "Wall time: 298 ms\n"
     ]
    }
   ],
   "source": [
    "%%time\n",
    "\n",
    "TARGET = 19690720\n",
    "\n",
    "def run_computer(comp_string, noun, verb):\n",
    "    comp_string[1] = noun \n",
    "    comp_string[2] = verb \n",
    "    comp_len = len(comp_string)\n",
    "    for i in range(0, len(comp_string), 4):\n",
    "        win = comp_string[i:i+WINDOW]\n",
    "        if(win[OPCODE] == END): return comp_string[0]\n",
    "        if(not all(x < comp_len for x in win)): return -1\n",
    "        comp_string[win[OUTPUT]] = {\n",
    "            ADD: comp_string[win[INPUT_1]]+comp_string[win[INPUT_2]],\n",
    "            MULT: comp_string[win[INPUT_1]]*comp_string[win[INPUT_2]]\n",
    "        }[win[OPCODE]]\n",
    "    \n",
    "def find_noun_verb(comp_string):\n",
    "    for i in range(100):\n",
    "        for j in range(100):\n",
    "            res = run_computer(list(comp_string), i, j) \n",
    "            if res == -1: continue \n",
    "            if(res == TARGET): return i,j\n",
    "\n",
    "noun, verb = find_noun_verb(list(comp_string))\n",
    "\n",
    "print_result(100 * noun + verb)"
   ]
  },
  {
   "cell_type": "markdown",
   "metadata": {},
   "source": [
    "# 3"
   ]
  },
  {
   "cell_type": "markdown",
   "metadata": {},
   "source": [
    "## setup"
   ]
  },
  {
   "cell_type": "code",
   "execution_count": 87,
   "metadata": {},
   "outputs": [],
   "source": [
    "wires_input = get_level_input(\"03\").splitlines()\n",
    "wires_input = [x.split(',') for x in wires_input]\n",
    "\n",
    "X = 1\n",
    "Y = 0\n",
    "CENTER_POINT = (0,0)\n",
    "\n",
    "def md(p1, p2):\n",
    "    return (abs(p1[X]-p2[X]) + abs(p1[Y]-p2[Y]))"
   ]
  },
  {
   "cell_type": "markdown",
   "metadata": {},
   "source": [
    "## part one"
   ]
  },
  {
   "cell_type": "code",
   "execution_count": 88,
   "metadata": {},
   "outputs": [
    {
     "name": "stdout",
     "output_type": "stream",
     "text": [
      "'RESULT: 225'\n",
      "\n",
      "'TIME............................................................'\n",
      "CPU times: user 271 ms, sys: 5.11 ms, total: 276 ms\n",
      "Wall time: 276 ms\n"
     ]
    }
   ],
   "source": [
    "%%time\n",
    "\n",
    "def generate_wire(instructions):\n",
    "    wire = [CENTER_POINT]\n",
    "    for x in instructions:\n",
    "        cur_point = wire[-1]\n",
    "        wire += {\n",
    "         'U': [(cur_point[Y]-i, cur_point[X]) for i in range(1, int(x[1:])+1)],\n",
    "         'D': [(cur_point[Y]+i, cur_point[X]) for i in range(1, int(x[1:])+1)],\n",
    "         'L': [(cur_point[Y], cur_point[X]-i) for i in range(1, int(x[1:])+1)],\n",
    "         'R': [(cur_point[Y], cur_point[X]+i) for i in range(1, int(x[1:])+1)]\n",
    "        }[x[0]]\n",
    "    return wire\n",
    "                                  \n",
    "    \n",
    "wires = [set(generate_wire(w_i))-{CENTER_POINT} for w_i in wires_input]\n",
    "res = min([md(x, CENTER_POINT) for x in set.intersection(*wires)])\n",
    "print_result(res)"
   ]
  },
  {
   "cell_type": "markdown",
   "metadata": {},
   "source": [
    "## part two"
   ]
  },
  {
   "cell_type": "code",
   "execution_count": 142,
   "metadata": {},
   "outputs": [
    {
     "name": "stdout",
     "output_type": "stream",
     "text": [
      "'RESULT: 35194'\n",
      "\n",
      "'TIME............................................................'\n",
      "CPU times: user 358 ms, sys: 4.02 ms, total: 362 ms\n",
      "Wall time: 362 ms\n"
     ]
    }
   ],
   "source": [
    "%%time\n",
    "\n",
    "wires = [generate_wire(w_i) for w_i in wires_input]\n",
    "intersections = set.intersection(*[set(wire) for wire in wires])-{CENTER_POINT}\n",
    "res = min([wires[0].index(x)+wires[1].index(x) for x in intersections])\n",
    "print_result(res)"
   ]
  },
  {
   "cell_type": "code",
   "execution_count": null,
   "metadata": {},
   "outputs": [],
   "source": [
    "# 4"
   ]
  },
  {
   "cell_type": "code",
   "execution_count": null,
   "metadata": {},
   "outputs": [],
   "source": [
    "## setup"
   ]
  },
  {
   "cell_type": "code",
   "execution_count": 140,
   "metadata": {},
   "outputs": [],
   "source": [
    "r_low, r_high = map(int, get_level_input(\"04\").split(\"-\"))\n",
    "\n",
    "def check_value(val, functions):\n",
    "    num_list = [int(i) for i in list(str(val))]\n",
    "    return (all(f(num_list) for f in functions))"
   ]
  },
  {
   "cell_type": "markdown",
   "metadata": {},
   "source": [
    "## part one"
   ]
  },
  {
   "cell_type": "code",
   "execution_count": 143,
   "metadata": {},
   "outputs": [
    {
     "name": "stdout",
     "output_type": "stream",
     "text": [
      "'RESULT: 1694'\n",
      "\n",
      "'TIME............................................................'\n",
      "CPU times: user 1.67 s, sys: 4.64 ms, total: 1.67 s\n",
      "Wall time: 1.67 s\n"
     ]
    }
   ],
   "source": [
    "%%time\n",
    "\n",
    "def check_increase(l):\n",
    "    return all(l[i] <= l[i+1] for i in range(len(l)-1))\n",
    "\n",
    "def check_double(l):\n",
    "    return any(l[i] == l[i+1] for i in range(len(l)-1))\n",
    "\n",
    "num_poss_pass = 0\n",
    "for num in range(r_low, r_high+1):\n",
    "    if(check_value(num, [check_increase, check_double])): num_poss_pass+=1\n",
    "\n",
    "print_result(num_poss_pass)"
   ]
  },
  {
   "cell_type": "markdown",
   "metadata": {},
   "source": [
    "## part two "
   ]
  },
  {
   "cell_type": "code",
   "execution_count": 144,
   "metadata": {},
   "outputs": [
    {
     "name": "stdout",
     "output_type": "stream",
     "text": [
      "'RESULT: 1148'\n",
      "\n",
      "'TIME............................................................'\n",
      "CPU times: user 2.58 s, sys: 5.62 ms, total: 2.58 s\n",
      "Wall time: 2.58 s\n"
     ]
    }
   ],
   "source": [
    "%%time\n",
    "\n",
    "def check_increase(l):\n",
    "    return all(l[i] <= l[i+1] for i in range(len(l)-1))\n",
    "\n",
    "def check_ungrouped_double(l):\n",
    "    l = [-1] + l +[-1]\n",
    "    return any(l[i-1] != l[i] == l[i+1] != l[i+2] for i in range(1, len(l)-1))\n",
    "\n",
    "num_poss_pass = 0\n",
    "for num in range(r_low, r_high+1):\n",
    "    num_list = [int(i) for i in list(str(num))]\n",
    "    if(check_value(num, [check_increase, check_ungrouped_double])): num_poss_pass += 1\n",
    "\n",
    "print_result(num_poss_pass)"
   ]
  },
  {
   "cell_type": "markdown",
   "metadata": {},
   "source": [
    "# 5"
   ]
  },
  {
   "cell_type": "markdown",
   "metadata": {},
   "source": [
    "## setup"
   ]
  },
  {
   "cell_type": "code",
   "execution_count": 135,
   "metadata": {},
   "outputs": [],
   "source": [
    "comp_string = get_level_input(\"05\")\n",
    "comp_string = list(map(int, comp_string.split(',')))"
   ]
  },
  {
   "cell_type": "markdown",
   "metadata": {},
   "source": [
    "## part one"
   ]
  },
  {
   "cell_type": "code",
   "execution_count": 19,
   "metadata": {},
   "outputs": [
    {
     "name": "stdin",
     "output_type": "stream",
     "text": [
      "provide input value:  1\n"
     ]
    },
    {
     "name": "stdout",
     "output_type": "stream",
     "text": [
      "\n",
      "win: [3, 225]\n",
      "inputs: [1, 0]\n",
      "output: 225\n",
      "win: [1, 225, 6, 6]\n",
      "inputs: [1, 1100]\n",
      "output: 6\n",
      "win: [1101, 1, 238, 225]\n",
      "inputs: [1, 238]\n",
      "output: 225\n",
      "win: [104, 0]\n",
      "inputs: []\n",
      "output: 0\n",
      "OUTPUT: 3\n",
      "\n",
      "win: [1101, 86, 8, 225]\n",
      "inputs: [86, 8]\n",
      "output: 225\n",
      "win: [1101, 82, 69, 225]\n",
      "inputs: [82, 69]\n",
      "output: 225\n",
      "win: [101, 36, 65, 224]\n",
      "inputs: [36, 70]\n",
      "output: 224\n",
      "win: [1001, 224, -106, 224]\n",
      "inputs: [106, -106]\n",
      "output: 224\n",
      "win: [4, 224]\n",
      "inputs: []\n",
      "output: 224\n",
      "OUTPUT: 0\n",
      "\n",
      "win: [1002, 223, 8, 223]\n",
      "inputs: [0, 8]\n",
      "output: 223\n",
      "win: [1001, 224, 5, 224]\n",
      "inputs: [0, 5]\n",
      "output: 224\n",
      "win: [1, 223, 224, 223]\n",
      "inputs: [0, 5]\n",
      "output: 223\n",
      "win: [102, 52, 148, 224]\n",
      "inputs: [52, 22]\n",
      "output: 224\n",
      "win: [101, -1144, 224, 224]\n",
      "inputs: [-1144, 1144]\n",
      "output: 224\n",
      "win: [4, 224]\n",
      "inputs: []\n",
      "output: 224\n",
      "OUTPUT: 0\n",
      "\n",
      "win: [1002, 223, 8, 223]\n",
      "inputs: [5, 8]\n",
      "output: 223\n",
      "win: [101, 1, 224, 224]\n",
      "inputs: [1, 0]\n",
      "output: 224\n",
      "win: [1, 224, 223, 223]\n",
      "inputs: [1, 40]\n",
      "output: 223\n",
      "win: [1102, 70, 45, 225]\n",
      "inputs: [70, 45]\n",
      "output: 225\n",
      "win: [1002, 143, 48, 224]\n",
      "inputs: [28, 48]\n",
      "output: 224\n",
      "win: [1001, 224, -1344, 224]\n",
      "inputs: [1344, -1344]\n",
      "output: 224\n",
      "win: [4, 224]\n",
      "inputs: []\n",
      "output: 224\n",
      "OUTPUT: 0\n",
      "\n",
      "win: [102, 8, 223, 223]\n",
      "inputs: [8, 41]\n",
      "output: 223\n",
      "win: [101, 7, 224, 224]\n",
      "inputs: [7, 0]\n",
      "output: 224\n",
      "win: [1, 223, 224, 223]\n",
      "inputs: [328, 7]\n",
      "output: 223\n",
      "win: [1101, 69, 75, 225]\n",
      "inputs: [69, 75]\n",
      "output: 225\n",
      "win: [1001, 18, 85, 224]\n",
      "inputs: [69, 85]\n",
      "output: 224\n",
      "win: [1001, 224, -154, 224]\n",
      "inputs: [154, -154]\n",
      "output: 224\n",
      "win: [4, 224]\n",
      "inputs: []\n",
      "output: 224\n",
      "OUTPUT: 0\n",
      "\n",
      "win: [102, 8, 223, 223]\n",
      "inputs: [8, 335]\n",
      "output: 223\n",
      "win: [101, 2, 224, 224]\n",
      "inputs: [2, 0]\n",
      "output: 224\n",
      "win: [1, 224, 223, 223]\n",
      "inputs: [2, 2680]\n",
      "output: 223\n",
      "win: [1101, 15, 59, 225]\n",
      "inputs: [15, 59]\n",
      "output: 225\n",
      "win: [1102, 67, 42, 224]\n",
      "inputs: [67, 42]\n",
      "output: 224\n",
      "win: [101, -2814, 224, 224]\n",
      "inputs: [-2814, 2814]\n",
      "output: 224\n",
      "win: [4, 224]\n",
      "inputs: []\n",
      "output: 224\n",
      "OUTPUT: 0\n",
      "\n",
      "win: [1002, 223, 8, 223]\n",
      "inputs: [2682, 8]\n",
      "output: 223\n",
      "win: [101, 3, 224, 224]\n",
      "inputs: [3, 0]\n",
      "output: 224\n",
      "win: [1, 223, 224, 223]\n",
      "inputs: [21456, 3]\n",
      "output: 223\n",
      "win: [1101, 28, 63, 225]\n",
      "inputs: [28, 63]\n",
      "output: 225\n",
      "win: [1101, 45, 22, 225]\n",
      "inputs: [45, 22]\n",
      "output: 225\n",
      "win: [1101, 90, 16, 225]\n",
      "inputs: [90, 16]\n",
      "output: 225\n",
      "win: [2, 152, 92, 224]\n",
      "inputs: [16, 75]\n",
      "output: 224\n",
      "win: [1001, 224, -1200, 224]\n",
      "inputs: [1200, -1200]\n",
      "output: 224\n",
      "win: [4, 224]\n",
      "inputs: []\n",
      "output: 224\n",
      "OUTPUT: 0\n",
      "\n",
      "win: [102, 8, 223, 223]\n",
      "inputs: [8, 21459]\n",
      "output: 223\n",
      "win: [101, 7, 224, 224]\n",
      "inputs: [7, 0]\n",
      "output: 224\n",
      "win: [1, 223, 224, 223]\n",
      "inputs: [171672, 7]\n",
      "output: 223\n",
      "win: [1101, 45, 28, 224]\n",
      "inputs: [45, 28]\n",
      "output: 224\n",
      "win: [1001, 224, -73, 224]\n",
      "inputs: [73, -73]\n",
      "output: 224\n",
      "win: [4, 224]\n",
      "inputs: []\n",
      "output: 224\n",
      "OUTPUT: 0\n",
      "\n",
      "win: [1002, 223, 8, 223]\n",
      "inputs: [171679, 8]\n",
      "output: 223\n",
      "win: [101, 7, 224, 224]\n",
      "inputs: [7, 0]\n",
      "output: 224\n",
      "win: [1, 224, 223, 223]\n",
      "inputs: [7, 1373432]\n",
      "output: 223\n",
      "win: [1, 14, 118, 224]\n",
      "inputs: [8, 59]\n",
      "output: 224\n",
      "win: [101, -67, 224, 224]\n",
      "inputs: [-67, 67]\n",
      "output: 224\n",
      "win: [4, 224]\n",
      "inputs: []\n",
      "output: 224\n",
      "OUTPUT: 0\n",
      "\n",
      "win: [1002, 223, 8, 223]\n",
      "inputs: [1373439, 8]\n",
      "output: 223\n",
      "win: [1001, 224, 2, 224]\n",
      "inputs: [0, 2]\n",
      "output: 224\n",
      "win: [1, 223, 224, 223]\n",
      "inputs: [10987512, 2]\n",
      "output: 223\n",
      "win: [4, 223]\n",
      "inputs: []\n",
      "output: 223\n",
      "OUTPUT: 10987514\n",
      "\n",
      "'RESULT: 0'\n",
      "\n",
      "'TIME............................................................'\n",
      "CPU times: user 16.7 ms, sys: 6.51 ms, total: 23.3 ms\n",
      "Wall time: 1.47 s\n"
     ]
    }
   ],
   "source": [
    "%%time\n",
    "\n",
    "def run_computer(comp_string):\n",
    "    i=0\n",
    "    last_output = 0\n",
    "    # print_computer(comp_string)\n",
    "    while(True):\n",
    "        opcode_and_settings = \"0000\"+str(comp_string[i])\n",
    "        opcode = int(opcode_and_settings[-2:])\n",
    "        if(opcode == END): return comp_string, last_output\n",
    "        input_modes = [int(opcode_and_settings[-3]), int(opcode_and_settings[-4]), int(opcode_and_settings[-5])]\n",
    "        \n",
    "        window = operation_length[opcode]\n",
    "        win = comp_string[i: i+window]\n",
    "        i+=window\n",
    "        \n",
    "        output = win[-1]\n",
    "        num_inputs = operation_num_inputs[opcode]\n",
    "        inputs = [win[i+1] if input_modes[i] else comp_string[win[i+1]] for i in range(operation_num_inputs[opcode])]\n",
    "        if(opcode == INPUT): \n",
    "            inputs = [int(input(\"provide input value: \")), 0]\n",
    "            print(\"\")\n",
    "        print_step(win,inputs,output)\n",
    "        if(opcode == OUTPUT): \n",
    "            print(f\"OUTPUT: {comp_string[output]}\\n\")\n",
    "            last_output = output\n",
    "            continue\n",
    "\n",
    "        comp_string[output] = {\n",
    "            ADD: (inputs[0] + inputs[1]),\n",
    "            MULT: (inputs[0] * inputs[1]),\n",
    "            INPUT: inputs[0],\n",
    "        }[opcode]\n",
    "        # print_computer(comp_string)\n",
    "\n",
    "print_result(comp_string[run_computer(list(comp_string))[1]])"
   ]
  },
  {
   "cell_type": "code",
   "execution_count": 1,
   "metadata": {},
   "outputs": [
    {
     "ename": "NameError",
     "evalue": "name 'print_result' is not defined",
     "output_type": "error",
     "traceback": [
      "\u001b[0;31m---------------------------------------------------------------------------\u001b[0m",
      "\u001b[0;31mNameError\u001b[0m                                 Traceback (most recent call last)",
      "\u001b[0;32m<timed exec>\u001b[0m in \u001b[0;36m<module>\u001b[0;34m\u001b[0m\n",
      "\u001b[0;31mNameError\u001b[0m: name 'print_result' is not defined"
     ]
    }
   ],
   "source": [
    "%%time\n",
    "def run_computer(comp_string):\n",
    "    i=0\n",
    "    last_output = 0\n",
    "    # print_computer(comp_string)\n",
    "    while(True):\n",
    "        opcode_and_settings = \"0000\"+str(comp_string[i])\n",
    "        opcode = int(opcode_and_settings[-2:])\n",
    "        if(opcode == END): return comp_string, last_output\n",
    "        input_modes = [int(opcode_and_settings[-3]), int(opcode_and_settings[-4]), int(opcode_and_settings[-5])]\n",
    "        \n",
    "        window = operation_length[opcode]\n",
    "        win = comp_string[i: i+window]\n",
    "        i+=window\n",
    "        \n",
    "        \n",
    "        output = win[-1]\n",
    "        num_inputs = operation_num_inputs[opcode]\n",
    "        inputs = [win[i+1] if input_modes[i] else comp_string[win[i+1]] for i in range(operation_num_inputs[opcode])]\n",
    "         \n",
    "        \n",
    "        if(opcode == INPUT): \n",
    "            inputs = [int(input(\"provide input value: \")), 0]\n",
    "        \n",
    "        if(opcode == OUTPUT): \n",
    "            last_output = comp_string[output]\n",
    "            continue\n",
    "            \n",
    "        if(opcode in JUMPS):\n",
    "            i = {\n",
    "                JUMP_IF_TRUE: inputs[1] if inputs[0] != 0 else i,\n",
    "                JUMP_IF_FALSE: inputs[1] if inputs[0] == 0 else i, \n",
    "            }[opcode]\n",
    "            \n",
    "        else:\n",
    "            comp_string[output] = {\n",
    "                ADD: (inputs[0] + inputs[1]),\n",
    "                MULT: (inputs[0] * inputs[1]),\n",
    "                INPUT: inputs[0],\n",
    "                LESS_THAN: 1 if inputs[0] < inputs[1] else 0, \n",
    "                EQUALS: 1 if inputs[0] == inputs[1] else 0 \n",
    "            }[opcode]\n",
    "            # print_computer(comp_string)\n",
    "\n",
    "print_result(run_computer(list(comp_string))[1])"
   ]
  },
  {
   "cell_type": "markdown",
   "metadata": {},
   "source": [
    "# 6"
   ]
  },
  {
   "cell_type": "markdown",
   "metadata": {},
   "source": [
    "## setup "
   ]
  },
  {
   "cell_type": "code",
   "execution_count": 115,
   "metadata": {},
   "outputs": [],
   "source": [
    "orbits = get_level_input(\"06\").splitlines()\n",
    "orbits = [orbit.split(')') for orbit in orbits]"
   ]
  },
  {
   "cell_type": "markdown",
   "metadata": {},
   "source": [
    "## part one"
   ]
  },
  {
   "cell_type": "code",
   "execution_count": 113,
   "metadata": {},
   "outputs": [
    {
     "name": "stdout",
     "output_type": "stream",
     "text": [
      "'RESULT: 144909'\n",
      "\n",
      "'TIME............................................................'\n",
      "CPU times: user 448 ms, sys: 6.68 ms, total: 455 ms\n",
      "Wall time: 460 ms\n"
     ]
    }
   ],
   "source": [
    "%%time\n",
    "\n",
    "orbit_graph = nx.DiGraph()\n",
    "for orbit in orbits:\n",
    "    orbit_graph.add_edge(*orbit)\n",
    "\n",
    "orbit_checksum = sum([len(nx.descendants(orbit_graph, node)) for node in orbit_graph.nodes()])\n",
    "\n",
    "print_result(orbit_checksum)"
   ]
  },
  {
   "cell_type": "markdown",
   "metadata": {},
   "source": [
    "## part two "
   ]
  },
  {
   "cell_type": "code",
   "execution_count": 117,
   "metadata": {},
   "outputs": [
    {
     "name": "stdout",
     "output_type": "stream",
     "text": [
      "'RESULT: 259'\n",
      "\n",
      "'TIME............................................................'\n"
     ]
    }
   ],
   "source": [
    "TARGET = \"SAN\"\n",
    "START = \"YOU\"\n",
    "\n",
    "orbit_graph = nx.Graph()\n",
    "for orbit in orbits:\n",
    "    orbit_graph.add_edge(*orbit)\n",
    "\n",
    "START_SR = list(orbit_graph.neighbors(START))[0]\n",
    "SAN_SR = list(orbit_graph.neighbors(TARGET))[0]\n",
    "\n",
    "print_result(nx.shortest_path_length(orbit_graph, str(START_SR), str(SAN_SR)))\n",
    "    "
   ]
  },
  {
   "cell_type": "markdown",
   "metadata": {},
   "source": [
    "# 7"
   ]
  },
  {
   "cell_type": "markdown",
   "metadata": {},
   "source": [
    "## setup "
   ]
  },
  {
   "cell_type": "code",
   "execution_count": 44,
   "metadata": {},
   "outputs": [],
   "source": [
    "amp_prog = get_level_input(\"07\")\n",
    "amp_prog = list(map(int, amp_prog.split(',')))\n",
    "#amp_prog = [3,23,3,24,1002,24,10,24,1002,23,-1,23,101,5,23,23,1,24,23,23,4,23,99,0,0] #[3,15,3,16,1002,16,10,16,1,16,15,15,4,15,99,0,0]\n",
    "NUM_AMPS = 5\n",
    "\n",
    "def run_computer(comp_string, c_i):\n",
    "    i=0\n",
    "    last_output = 0\n",
    "    while(True):\n",
    "        opcode_and_settings = \"0000\"+str(comp_string[i])\n",
    "        opcode = int(opcode_and_settings[-2:])\n",
    "        if(opcode == END): return comp_string, last_output\n",
    "        input_modes = [int(opcode_and_settings[-3]), int(opcode_and_settings[-4]), int(opcode_and_settings[-5])]\n",
    "        \n",
    "        window = operation_length[opcode]\n",
    "        win = comp_string[i: i+window]\n",
    "        i+=window        \n",
    "        output = win[-1]\n",
    "        num_inputs = operation_num_inputs[opcode]\n",
    "        inputs = [win[j+1] if input_modes[j] else comp_string[win[j+1]] for j in range(operation_num_inputs[opcode])]\n",
    "        \n",
    "        if(opcode == INPUT): \n",
    "            inputs = [c_i.pop(0), 0]\n",
    "            \n",
    "        if(opcode == OUTPUT): \n",
    "            return comp_string[output]\n",
    "            continue\n",
    "            \n",
    "        if(opcode in JUMPS):\n",
    "            i = {\n",
    "                JUMP_IF_TRUE: inputs[1] if inputs[0] != 0 else i,\n",
    "                JUMP_IF_FALSE: inputs[1] if inputs[0] == 0 else i, \n",
    "            }[opcode]\n",
    "            \n",
    "        else:\n",
    "            comp_string[output] = {\n",
    "                ADD: (inputs[0] + inputs[1]),\n",
    "                MULT: (inputs[0] * inputs[1]),\n",
    "                INPUT: inputs[0],\n",
    "                LESS_THAN: 1 if inputs[0] < inputs[1] else 0, \n",
    "                EQUALS: 1 if inputs[0] == inputs[1] else 0 \n",
    "            }[opcode]"
   ]
  },
  {
   "cell_type": "markdown",
   "metadata": {},
   "source": [
    "## part one"
   ]
  },
  {
   "cell_type": "code",
   "execution_count": 15,
   "metadata": {},
   "outputs": [
    {
     "name": "stdout",
     "output_type": "stream",
     "text": [
      "'RESULT: 21760'\n",
      "\n",
      "'TIME............................................................'\n",
      "CPU times: user 25.1 ms, sys: 1.66 ms, total: 26.8 ms\n",
      "Wall time: 26.1 ms\n"
     ]
    }
   ],
   "source": [
    "%%time\n",
    "\n",
    "amp_pos = list(itertools.permutations(list(range(NUM_AMPS))))\n",
    "\n",
    "max_val = 0\n",
    "\n",
    "for perm in amp_pos:\n",
    "    inputs = [perm[0], 0]\n",
    "    for i in range(NUM_AMPS):\n",
    "        inputs = [perm[i+1] if i+1<NUM_AMPS else 0, run_computer(amp_prog[:], inputs)]\n",
    "        if(inputs[1]>max_val):\n",
    "            max_val = inputs[1]\n",
    "        \n",
    "print_result(max_val)"
   ]
  },
  {
   "cell_type": "markdown",
   "metadata": {},
   "source": [
    "## part two"
   ]
  },
  {
   "cell_type": "code",
   "execution_count": 45,
   "metadata": {},
   "outputs": [
    {
     "name": "stdout",
     "output_type": "stream",
     "text": [
      "'RESULT: 69816958'\n",
      "\n",
      "'TIME............................................................'\n",
      "CPU times: user 273 ms, sys: 3.63 ms, total: 276 ms\n",
      "Wall time: 278 ms\n"
     ]
    }
   ],
   "source": [
    "%%time\n",
    "\n",
    "#amp_prog = [3,26,1001,26,-4,26,3,27,1002,27,2,27,1,27,26,27,4,27,1001,28,-1,28,1005,28,6,99,0,0,5]\n",
    "\n",
    "def run_computer(ip, comp_string, c_i):\n",
    "    while(True):\n",
    "        opcode_and_settings = \"0000\"+str(comp_string[ip])\n",
    "        opcode = int(opcode_and_settings[-2:])\n",
    "        if(opcode == END): \n",
    "            return -1, ip, c_i\n",
    "        \n",
    "        input_modes = [int(opcode_and_settings[-3]), int(opcode_and_settings[-4]), int(opcode_and_settings[-5])]\n",
    "        \n",
    "        window = operation_length[opcode]\n",
    "        win = comp_string[ip: ip+window]\n",
    "        ip += window\n",
    "        \n",
    "        output = win[-1]\n",
    "        num_inputs = operation_num_inputs[opcode]\n",
    "        inputs_prog = [win[i+1] if input_modes[i] else comp_string[win[i+1]] for i in range(operation_num_inputs[opcode])] \n",
    "        if(opcode == INPUT): \n",
    "            inputs_prog = [c_i.pop(0), 0]\n",
    "        if(opcode == OUTPUT): \n",
    "            return comp_string[output], ip, c_i\n",
    "            \n",
    "        if(opcode in JUMPS):\n",
    "            ip = {\n",
    "                JUMP_IF_TRUE: inputs_prog[1] if inputs_prog[0] != 0 else ip,\n",
    "                JUMP_IF_FALSE: inputs_prog[1] if inputs_prog[0] == 0 else ip, \n",
    "            }[opcode]\n",
    "        else:\n",
    "            comp_string[output] = {\n",
    "                ADD: (inputs_prog[0] + inputs_prog[1]),\n",
    "                MULT: (inputs_prog[0] * inputs_prog[1]),\n",
    "                INPUT: inputs_prog[0],\n",
    "                LESS_THAN: 1 if inputs_prog[0] < inputs_prog[1] else 0, \n",
    "                EQUALS: 1 if inputs_prog[0] == inputs_prog[1] else 0 \n",
    "            }[opcode]\n",
    "\n",
    "amp_pos = list(itertools.permutations(list(range(NUM_AMPS, NUM_AMPS+5))))\n",
    "\n",
    "signals = []\n",
    "for perm in amp_pos:\n",
    "    i = 0\n",
    "    inputs = [[perm[j]] for j in range(NUM_AMPS)]\n",
    "    inputs[0].append(0)\n",
    "    last_e = 0\n",
    "    amp_progs = [deepcopy(amp_prog) for j in range(NUM_AMPS)]\n",
    "    ips = [0 for j in range(NUM_AMPS)]\n",
    "    while(True):\n",
    "        output, ips[i%NUM_AMPS],inputs[i%NUM_AMPS] = run_computer(ips[i%NUM_AMPS], amp_progs[i%NUM_AMPS], inputs[i%NUM_AMPS])\n",
    "        if output == -1:\n",
    "            break\n",
    "        if(i%NUM_AMPS == 4):\n",
    "            last_e = output\n",
    "        i+=1\n",
    "        inputs[i%NUM_AMPS].append(output)\n",
    "    signals.append(last_e)\n",
    "        \n",
    "print_result(max(signals))"
   ]
  },
  {
   "cell_type": "markdown",
   "metadata": {},
   "source": [
    "# 8"
   ]
  },
  {
   "cell_type": "markdown",
   "metadata": {},
   "source": [
    "## setup "
   ]
  },
  {
   "cell_type": "code",
   "execution_count": 52,
   "metadata": {},
   "outputs": [],
   "source": [
    "img = list(get_level_input(\"08\"))\n",
    "img = list(map(int, img))\n",
    "IMG_W = 25\n",
    "IMG_H = 6"
   ]
  },
  {
   "cell_type": "markdown",
   "metadata": {},
   "source": [
    "## part one"
   ]
  },
  {
   "cell_type": "code",
   "execution_count": 95,
   "metadata": {},
   "outputs": [
    {
     "name": "stdout",
     "output_type": "stream",
     "text": [
      "(100, 6, 25)\n",
      "1360\n"
     ]
    }
   ],
   "source": [
    "arr_img = np.array(img)\n",
    "lay_img = np.reshape(arr_img, (-1, IMG_H, IMG_W))\n",
    "\n",
    "print(lay_img.shape)\n",
    "\n",
    "max_zero_index = np.argmin([(lay_img[i,:,:]==0).sum() for i in range(lay_img.shape[0])])\n",
    "\n",
    "max_zero_layer = lay_img[max_zero_index, :, :]\n",
    "NUM_1_BY_2 = (max_zero_layer == 1).sum() * (max_zero_layer == 2).sum()\n",
    "print(NUM_1_BY_2)"
   ]
  },
  {
   "cell_type": "markdown",
   "metadata": {},
   "source": [
    "## part two"
   ]
  },
  {
   "cell_type": "code",
   "execution_count": 103,
   "metadata": {},
   "outputs": [
    {
     "name": "stdout",
     "output_type": "stream",
     "text": [
      "XXXX.XXX..X..X..XX..XXX..\n",
      "X....X..X.X..X.X..X.X..X.\n",
      "XXX..X..X.X..X.X..X.X..X.\n",
      "X....XXX..X..X.XXXX.XXX..\n",
      "X....X....X..X.X..X.X.X..\n",
      "X....X.....XX..X..X.X..X.\n"
     ]
    }
   ],
   "source": [
    "BLACK = 0 \n",
    "WHITE = 1 \n",
    "TRANS = 2\n",
    "\n",
    "arr_img = np.array(img)\n",
    "lay_img = np.reshape(arr_img, (-1, IMG_H, IMG_W))\n",
    "\n",
    "final_image = np.full((IMG_H, IMG_W), 2)\n",
    "\n",
    "spears = [lay_img[:, col, row] for col in range(lay_img.shape[1]) for row in range(lay_img.shape[2])]\n",
    "\n",
    "first_non_transparent = [spear[np.argmax(spear!=2)] for spear in spears]\n",
    "message = np.array(first_non_transparent).reshape((IMG_H, IMG_W))\n",
    "for row in message:\n",
    "    row = np.where(row==0, '.', row) \n",
    "    row = np.where(row=='1', 'X', row) \n",
    "    print(\"\".join(row))"
   ]
  },
  {
   "cell_type": "markdown",
   "metadata": {},
   "source": [
    "# 9"
   ]
  },
  {
   "cell_type": "markdown",
   "metadata": {},
   "source": [
    "## setup"
   ]
  },
  {
   "cell_type": "code",
   "execution_count": 83,
   "metadata": {},
   "outputs": [],
   "source": [
    "# GET LEVEL INPUT\n",
    "amp_prog = get_level_input(\"09\")\n",
    "amp_prog = list(map(int, amp_prog.split(',')))\n",
    "amp_prog += [0 for x in range(99999999)]\n",
    "amp_prog = tuple(amp_prog)\n",
    "\n",
    "# OPCODES\n",
    "ADD = 1\n",
    "MULT = 2\n",
    "INPUT = 3\n",
    "OUTPUT = 4\n",
    "JUMP_IF_TRUE = 5\n",
    "JUMP_IF_FALSE = 6 \n",
    "LESS_THAN = 7 \n",
    "EQUALS = 8\n",
    "ADJUST_REL_BASE = 9\n",
    "END = 99\n",
    "\n",
    "# OPCODE to OPNAME\n",
    "\n",
    "OPNAME = {\n",
    "    1: 'add',\n",
    "    2: 'mult',\n",
    "    3: 'input',\n",
    "    4: 'output',\n",
    "    5: 'jump if true',\n",
    "    6: 'jump if false', \n",
    "    7: 'less than', \n",
    "    8: 'equal',\n",
    "    9: 'adjust rel base',\n",
    "    99: 'end'    \n",
    "}\n",
    "# MODES\n",
    "POS_MODE = 0\n",
    "IM_MODE = 1\n",
    "REL_MODE = 2\n",
    "\n",
    "MODE_NAME = {\n",
    "    0: 'POSITION',\n",
    "    1: 'IMMEDIATE',\n",
    "    2: 'RELATIVE'\n",
    "}\n",
    "# OP_FEATURES\n",
    "operation_length = {\n",
    "    ADD: 4, \n",
    "    MULT: 4, \n",
    "    INPUT: 2, \n",
    "    OUTPUT: 2, \n",
    "    END: 1, \n",
    "    JUMP_IF_TRUE: 3, \n",
    "    JUMP_IF_FALSE: 3, \n",
    "    LESS_THAN: 4, \n",
    "    EQUALS: 4,\n",
    "    ADJUST_REL_BASE: 2\n",
    "}\n",
    "\n",
    "operation_num_inputs = {\n",
    "    ADD: 3, \n",
    "    MULT: 3, \n",
    "    INPUT: 1, \n",
    "    OUTPUT: 1, \n",
    "    JUMP_IF_TRUE: 2, \n",
    "    JUMP_IF_FALSE: 2, \n",
    "    LESS_THAN: 3, \n",
    "    EQUALS: 3,\n",
    "    ADJUST_REL_BASE: 1\n",
    "}\n",
    "\n",
    "# JUMP SET\n",
    "JUMPS = { JUMP_IF_TRUE, JUMP_IF_FALSE }\n",
    "\n",
    "WRITES = {ADD, MULT, INPUT, LESS_THAN, EQUALS}\n",
    "\n",
    "# DISPLAY FUNCITONS\n",
    "def print_computer(comp_string):\n",
    "    for i in range(0, len(comp_string), 10):\n",
    "        print(f\"[{i}]    {comp_string[i:i+10]}\")\n",
    " \n",
    "def print_step(opcode, win, input_modes, inputs, output, rel_base):\n",
    "    print(f\"{OPNAME[opcode]}\")\n",
    "    print(f\"win: {win}\")\n",
    "    print(f\"input modes: {[MODE_NAME[i] for i in input_modes]}\")\n",
    "    print(f\"inputs: {inputs}\")    \n",
    "    print(f\"output: {output}\")\n",
    "    print(f\"rel base: {rel_base}\\n\")\n",
    "          \n",
    "# TESTS\n",
    "tests = {\n",
    "    (109,1,204,-1,1001,100,1,100,1008,100,16,101,1006,101,0,99): [109,1,204,-1,1001,100,1,100,1008,100,16,101,1006,101,0,99],\n",
    "    (109, -1, 4, 1, 99): [-1], \n",
    "    (109, -1, 104, 1, 99): [1],\n",
    "    (109, -1, 204, 1, 99): [109],\n",
    "    (109, 1, 9, 2, 204, -6, 99): [204],\n",
    "    (109, 1, 109, 9, 204, -6, 99): [204],\n",
    "    (109, 1, 209, -1, 204, -106, 99): [204], \n",
    "    (109, 1, 3, 3, 204, 2, 99): [1000], #input value\n",
    "    (109, 1, 203, 2, 204, 2, 99): [1000], # input value\n",
    "    (104,1125899906842624,99): [1125899906842624], \n",
    "}\n",
    "\n",
    "def run_computer(comp_string, c_i, ip = 0, rel_base = 0):\n",
    "    while(True):\n",
    "        opcode_and_settings = str(comp_string[ip]).zfill(5)\n",
    "        opcode = int(opcode_and_settings[-2:])\n",
    "        \n",
    "        if(opcode == END): \n",
    "            return 'ENDED GRACEFULLY'\n",
    "        \n",
    "        input_modes = [int(opcode_and_settings[-3]), int(opcode_and_settings[-4]), int(opcode_and_settings[-5])]\n",
    "        \n",
    "        window = operation_length[opcode]\n",
    "        win = comp_string[ip: ip+window]\n",
    "        ip += window\n",
    "        \n",
    "        num_inputs = operation_num_inputs[opcode]\n",
    "        inputs_prog = [win[i+1] if input_modes[i]==IM_MODE\n",
    "            else comp_string[rel_base+win[i+1]] if input_modes[i]==REL_MODE\n",
    "            else comp_string[win[i+1]]\n",
    "            for i in range(operation_num_inputs[opcode]-1)]\n",
    "        \n",
    "        # WRITE OPERATIONS LOCATIONS (OUTPUT) NEVER IN POSITION MODE\n",
    "        if(opcode in WRITES):\n",
    "            inputs_prog.append(rel_base+win[-1] if input_modes[operation_num_inputs[opcode]-1]==REL_MODE else win[-1])\n",
    "        else:\n",
    "            inputs_prog.append(win[-1] if input_modes[operation_num_inputs[opcode]-1]==IM_MODE else comp_string[rel_base+win[-1]] if input_modes[operation_num_inputs[opcode]-1]==REL_MODE else comp_string[win[-1]]) \n",
    "         \n",
    "        if(opcode == INPUT): \n",
    "            inputs_prog.insert(0,c_i.pop(0))\n",
    "        \n",
    "        if(opcode == OUTPUT): \n",
    "            print(inputs_prog[-1])\n",
    "            continue\n",
    "    \n",
    "        if(opcode in JUMPS):\n",
    "            ip = {\n",
    "                JUMP_IF_TRUE: inputs_prog[1] if inputs_prog[0] != 0 else ip,\n",
    "                JUMP_IF_FALSE: inputs_prog[1] if inputs_prog[0] == 0 else ip, \n",
    "            }[opcode]\n",
    "            \n",
    "        elif(opcode == ADJUST_REL_BASE):\n",
    "            rel_base = {\n",
    "                ADJUST_REL_BASE: rel_base+inputs_prog[0]\n",
    "            }[opcode]\n",
    "            \n",
    "        else:\n",
    "            comp_string[inputs_prog[-1]] = {\n",
    "                ADD: (inputs_prog[0] + inputs_prog[1]),\n",
    "                MULT: (inputs_prog[0] * inputs_prog[1]),\n",
    "                INPUT: inputs_prog[0],\n",
    "                LESS_THAN: 1 if inputs_prog[0] < inputs_prog[1] else 0, \n",
    "                EQUALS: 1 if inputs_prog[0] == inputs_prog[1] else 0 \n",
    "            }[opcode]\n"
   ]
  },
  {
   "cell_type": "markdown",
   "metadata": {},
   "source": [
    "## part one"
   ]
  },
  {
   "cell_type": "code",
   "execution_count": 82,
   "metadata": {},
   "outputs": [
    {
     "name": "stdout",
     "output_type": "stream",
     "text": [
      "2204990589\n",
      "CPU times: user 886 ms, sys: 450 ms, total: 1.34 s\n",
      "Wall time: 1.34 s\n"
     ]
    },
    {
     "data": {
      "text/plain": [
       "'ENDED GRACEFULLY'"
      ]
     },
     "execution_count": 82,
     "metadata": {},
     "output_type": "execute_result"
    }
   ],
   "source": [
    "%%time\n",
    "BOOST_INPUT = 1\n",
    "\n",
    "run_computer(list(amp_prog)+[0 for x in range(9999)], [BOOST_INPUT])"
   ]
  },
  {
   "cell_type": "markdown",
   "metadata": {},
   "source": [
    "## part two "
   ]
  },
  {
   "cell_type": "code",
   "execution_count": 328,
   "metadata": {},
   "outputs": [
    {
     "name": "stdout",
     "output_type": "stream",
     "text": [
      "50008\n",
      "CPU times: user 2.2 s, sys: 487 ms, total: 2.69 s\n",
      "Wall time: 2.69 s\n"
     ]
    },
    {
     "data": {
      "text/plain": [
       "'ENDED GRACEFULLY'"
      ]
     },
     "execution_count": 328,
     "metadata": {},
     "output_type": "execute_result"
    }
   ],
   "source": [
    "%%time\n",
    "SENSOR_MODE = 2\n",
    "\n",
    "run_computer(list(amp_prog)+[0 for x in range(9999)], [SENSOR_MODE])"
   ]
  },
  {
   "cell_type": "markdown",
   "metadata": {},
   "source": [
    "# 10 "
   ]
  },
  {
   "cell_type": "markdown",
   "metadata": {},
   "source": [
    "## setup "
   ]
  },
  {
   "cell_type": "code",
   "execution_count": 327,
   "metadata": {},
   "outputs": [],
   "source": [
    "asteroids = get_level_input(\"10\").splitlines()\n",
    "asteroid_grid = np.array([np.array(list(belt)) for belt in asteroids])\n",
    "asteroid_set = frozenset(zip(*np.where(asteroid_grid == '#')[::-1]))\n",
    "\n",
    "X = 0\n",
    "Y = 1\n",
    "\n",
    "sort_order = {\n",
    "    '+': 1,\n",
    "    '-': -1\n",
    "}\n",
    "\n",
    "def calc_slope(p1, p2):\n",
    "    if(p1[X]-p2[X] == 0):\n",
    "        return (np.inf, '+' if (p1[Y]-p2[Y]) < 0 else '-')\n",
    "    if(p1[Y]-p2[Y]==0):\n",
    "        return (0, '-' if (p1[X]-p2[X]) > 0 else '+')\n",
    "    return ((p1[Y]-p2[Y])/(p1[X]-p2[X]), '-' if (p1[X]-p2[X]) > 0 else '+')"
   ]
  },
  {
   "cell_type": "markdown",
   "metadata": {},
   "source": [
    "## part one"
   ]
  },
  {
   "cell_type": "code",
   "execution_count": 310,
   "metadata": {},
   "outputs": [
    {
     "name": "stdout",
     "output_type": "stream",
     "text": [
      "'RESULT: 284 asteroids visible at (20, 19)'\n",
      "\n",
      "'TIME............................................................'\n",
      "CPU times: user 277 ms, sys: 4.84 ms, total: 282 ms\n",
      "Wall time: 282 ms\n"
     ]
    }
   ],
   "source": [
    "%%time\n",
    "\n",
    "visible_sets = [(asteroid, set(map(calc_slope, itertools.repeat(asteroid), asteroid_set-{asteroid}))) for asteroid in asteroid_set]\n",
    "  \n",
    "monitoring_location, visible_asteroids = max(visible_sets, key = lambda x: len(x[1]))\n",
    "print_result(f\"{len(visible_asteroids)} asteroids visible at {monitoring_location}\")\n"
   ]
  },
  {
   "cell_type": "markdown",
   "metadata": {},
   "source": [
    "## part two "
   ]
  },
  {
   "cell_type": "code",
   "execution_count": 331,
   "metadata": {},
   "outputs": [
    {
     "name": "stdout",
     "output_type": "stream",
     "text": [
      "'RESULT: 404'\n",
      "\n",
      "'TIME............................................................'\n",
      "CPU times: user 3.1 ms, sys: 414 µs, total: 3.51 ms\n",
      "Wall time: 3.14 ms\n"
     ]
    }
   ],
   "source": [
    "%%time\n",
    "MONITORING_STATION = (20, 19)\n",
    "\n",
    "def l1(p1, p2):\n",
    "    return abs(p1[X]-p2[X])+abs(p1[Y]-p2[Y])\n",
    "\n",
    "def calc_slope_and_dist(p1, p2):\n",
    "    dist = l1(p1,p2)\n",
    "    if(p1[X]-p2[X] == 0):\n",
    "        return (np.inf, '+' if (p1[Y]-p2[Y]) > 0 else '-', dist)\n",
    "    if(p1[Y]-p2[Y]==0):\n",
    "        return (0, '-' if (p1[X]-p2[X]) > 0 else '+', dist)\n",
    "    return (-(p1[Y]-p2[Y])/(p1[X]-p2[X]), '-' if (p1[X]-p2[X]) > 0 else '+', dist)\n",
    "\n",
    "visible_list = [(asteroid, calc_slope_and_dist(MONITORING_STATION, asteroid)) for asteroid in asteroid_set-{MONITORING_STATION}]\n",
    "visible_list.sort(key=lambda k: (sort_order[k[1][1]], k[1][0], -k[1][2]), reverse=True)\n",
    "\n",
    "visible_stacked = [list(g) for k, g in itertools.groupby(visible_list, key=lambda k: k[1][:1])]\n",
    "two_hundredth_vape = visible_stacked[199][0][0]\n",
    "\n",
    "output_val = two_hundredth_vape[0]*100+two_hundredth_vape[1]\n",
    "\n",
    "print_result(output_val)"
   ]
  },
  {
   "cell_type": "code",
   "execution_count": null,
   "metadata": {},
   "outputs": [],
   "source": []
  },
  {
   "cell_type": "code",
   "execution_count": null,
   "metadata": {},
   "outputs": [],
   "source": []
  }
 ],
 "metadata": {
  "kernelspec": {
   "display_name": "Python 3",
   "language": "python",
   "name": "python3"
  },
  "language_info": {
   "codemirror_mode": {
    "name": "ipython",
    "version": 3
   },
   "file_extension": ".py",
   "mimetype": "text/x-python",
   "name": "python",
   "nbconvert_exporter": "python",
   "pygments_lexer": "ipython3",
   "version": "3.7.5"
  }
 },
 "nbformat": 4,
 "nbformat_minor": 4
}
