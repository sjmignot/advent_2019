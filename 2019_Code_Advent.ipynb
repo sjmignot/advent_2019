{
 "cells": [
  {
   "cell_type": "markdown",
   "metadata": {},
   "source": [
    "# SETUP"
   ]
  },
  {
   "cell_type": "markdown",
   "metadata": {},
   "source": [
    "## imports"
   ]
  },
  {
   "cell_type": "code",
   "execution_count": 44,
   "metadata": {},
   "outputs": [],
   "source": [
    "import string\n",
    "import numpy as np\n",
    "from itertools import cycle\n",
    "import requests\n",
    "import collections\n",
    "from collections import deque\n",
    "from pprint import pprint\n",
    "import operator\n",
    "from time import sleep\n",
    "import re\n",
    "from functools import reduce\n",
    "from dataclasses import dataclass\n",
    "from copy import deepcopy\n",
    "import networkx as nx\n",
    "import matplotlib.pyplot as plt"
   ]
  },
  {
   "cell_type": "markdown",
   "metadata": {},
   "source": [
    "## constants"
   ]
  },
  {
   "cell_type": "code",
   "execution_count": 2,
   "metadata": {},
   "outputs": [],
   "source": [
    "lowercase = string.ascii_lowercase\n",
    "uppercase = string.ascii_uppercase"
   ]
  },
  {
   "cell_type": "markdown",
   "metadata": {},
   "source": [
    "## helpers"
   ]
  },
  {
   "cell_type": "code",
   "execution_count": 3,
   "metadata": {},
   "outputs": [],
   "source": [
    "def get_level_input(lvl_num):\n",
    "    with open(f\"advent_inputs/{lvl_num}.txt\") as f:\n",
    "        level_input=f.read()\n",
    "        return level_input\n",
    "    \n",
    "def print_result(answer):\n",
    "    pprint(\"RESULT: \"+str(answer))\n",
    "    print()\n",
    "    pprint(\"TIME\"+\".\"*60)\n",
    "    \n",
    "class StopExecution(Exception):\n",
    "    def _render_traceback_(self):\n",
    "        pass"
   ]
  },
  {
   "cell_type": "markdown",
   "metadata": {},
   "source": [
    "# 1"
   ]
  },
  {
   "cell_type": "markdown",
   "metadata": {},
   "source": [
    "## setup"
   ]
  },
  {
   "cell_type": "code",
   "execution_count": 44,
   "metadata": {},
   "outputs": [],
   "source": [
    "module_weights = get_level_input(\"01\").splitlines()\n",
    "module_weights = list(map(int, module_weights))"
   ]
  },
  {
   "cell_type": "markdown",
   "metadata": {},
   "source": [
    "## part one"
   ]
  },
  {
   "cell_type": "code",
   "execution_count": 45,
   "metadata": {},
   "outputs": [
    {
     "name": "stdout",
     "output_type": "stream",
     "text": [
      "'RESULT: 3432671'\n",
      "\n",
      "'TIME............................................................'\n",
      "CPU times: user 727 µs, sys: 534 µs, total: 1.26 ms\n",
      "Wall time: 803 µs\n"
     ]
    }
   ],
   "source": [
    "%%time\n",
    "total_weight = sum([x//3 - 2 for x in module_weights])\n",
    "print_result(total_weight)"
   ]
  },
  {
   "cell_type": "markdown",
   "metadata": {},
   "source": [
    "## part two"
   ]
  },
  {
   "cell_type": "code",
   "execution_count": 67,
   "metadata": {},
   "outputs": [
    {
     "name": "stdout",
     "output_type": "stream",
     "text": [
      "'RESULT: 5146132'\n",
      "\n",
      "'TIME............................................................'\n",
      "CPU times: user 1.14 ms, sys: 284 µs, total: 1.42 ms\n",
      "Wall time: 1.19 ms\n"
     ]
    }
   ],
   "source": [
    "%%time\n",
    "\n",
    "def weight_of_weight_gen(m_weight):\n",
    "    while m_weight>0:\n",
    "        yield m_weight\n",
    "        m_weight = m_weight//3 - 2\n",
    "    \n",
    "def get_req_fuel(m_weight): \n",
    "    return sum([i for i in weight_of_weight_gen(m_weight)][1:])\n",
    "    \n",
    "total_weight = sum([get_req_fuel(x) for x in module_weights])\n",
    "print_result(total_weight)"
   ]
  },
  {
   "cell_type": "markdown",
   "metadata": {},
   "source": [
    "# 2"
   ]
  },
  {
   "cell_type": "markdown",
   "metadata": {},
   "source": [
    "## setup"
   ]
  },
  {
   "cell_type": "code",
   "execution_count": 172,
   "metadata": {},
   "outputs": [],
   "source": [
    "OPCODE = 0\n",
    "INPUT_1 = 1\n",
    "INPUT_2 = 2\n",
    "OUTPUT = 3\n",
    "WINDOW = 4\n",
    "\n",
    "ADD = 1\n",
    "MULT = 2\n",
    "END = 99\n",
    "\n",
    "comp_string = get_level_input(\"02\")\n",
    "comp_string = list(map(int, comp_string.split(',')))\n",
    "# comp_string = [1,9,10,3,2,3,11,0,99,30,40,50]\n"
   ]
  },
  {
   "cell_type": "markdown",
   "metadata": {},
   "source": [
    "## part one"
   ]
  },
  {
   "cell_type": "code",
   "execution_count": 181,
   "metadata": {},
   "outputs": [
    {
     "name": "stdout",
     "output_type": "stream",
     "text": [
      "'RESULT: 5290681'\n",
      "\n",
      "'TIME............................................................'\n",
      "CPU times: user 272 µs, sys: 70 µs, total: 342 µs\n",
      "Wall time: 304 µs\n"
     ]
    }
   ],
   "source": [
    "%%time\n",
    "\n",
    "def run_computer(comp_string):\n",
    "    comp_string[1] = 12\n",
    "    comp_string[2] = 2\n",
    "    comp_len = len(comp_string)\n",
    "    for i in range(0, len(comp_string), 4):\n",
    "        win = comp_string[i:i+WINDOW]\n",
    "        if(win[OPCODE] == END): return comp_string\n",
    "        assert(all(x < comp_len for x in win))\n",
    "        comp_string[win[OUTPUT]] = {\n",
    "            ADD: comp_string[win[INPUT_1]]+comp_string[win[INPUT_2]],\n",
    "            MULT: comp_string[win[INPUT_1]]*comp_string[win[INPUT_2]]\n",
    "        }[win[OPCODE]]\n",
    "    \n",
    "print_result(run_computer(list(comp_string))[0])"
   ]
  },
  {
   "cell_type": "markdown",
   "metadata": {},
   "source": [
    "## part two "
   ]
  },
  {
   "cell_type": "code",
   "execution_count": 188,
   "metadata": {},
   "outputs": [
    {
     "name": "stdout",
     "output_type": "stream",
     "text": [
      "'RESULT: 5741'\n",
      "\n",
      "'TIME............................................................'\n",
      "CPU times: user 295 ms, sys: 2.75 ms, total: 298 ms\n",
      "Wall time: 298 ms\n"
     ]
    }
   ],
   "source": [
    "%%time\n",
    "\n",
    "TARGET = 19690720\n",
    "\n",
    "def run_computer(comp_string, noun, verb):\n",
    "    comp_string[1] = noun \n",
    "    comp_string[2] = verb \n",
    "    comp_len = len(comp_string)\n",
    "    for i in range(0, len(comp_string), 4):\n",
    "        win = comp_string[i:i+WINDOW]\n",
    "        if(win[OPCODE] == END): return comp_string[0]\n",
    "        if(not all(x < comp_len for x in win)): return -1\n",
    "        comp_string[win[OUTPUT]] = {\n",
    "            ADD: comp_string[win[INPUT_1]]+comp_string[win[INPUT_2]],\n",
    "            MULT: comp_string[win[INPUT_1]]*comp_string[win[INPUT_2]]\n",
    "        }[win[OPCODE]]\n",
    "    \n",
    "def find_noun_verb(comp_string):\n",
    "    for i in range(100):\n",
    "        for j in range(100):\n",
    "            res = run_computer(list(comp_string), i, j) \n",
    "            if res == -1: continue \n",
    "            if(res == TARGET): return i,j\n",
    "\n",
    "noun, verb = find_noun_verb(list(comp_string))\n",
    "\n",
    "print_result(100 * noun + verb)"
   ]
  },
  {
   "cell_type": "markdown",
   "metadata": {},
   "source": [
    "# 3"
   ]
  },
  {
   "cell_type": "markdown",
   "metadata": {},
   "source": [
    "## setup"
   ]
  },
  {
   "cell_type": "code",
   "execution_count": 87,
   "metadata": {},
   "outputs": [],
   "source": [
    "wires_input = get_level_input(\"03\").splitlines()\n",
    "wires_input = [x.split(',') for x in wires_input]\n",
    "\n",
    "X = 1\n",
    "Y = 0\n",
    "CENTER_POINT = (0,0)\n",
    "\n",
    "def md(p1, p2):\n",
    "    return (abs(p1[X]-p2[X]) + abs(p1[Y]-p2[Y]))"
   ]
  },
  {
   "cell_type": "markdown",
   "metadata": {},
   "source": [
    "## part one"
   ]
  },
  {
   "cell_type": "code",
   "execution_count": 88,
   "metadata": {},
   "outputs": [
    {
     "name": "stdout",
     "output_type": "stream",
     "text": [
      "'RESULT: 225'\n",
      "\n",
      "'TIME............................................................'\n",
      "CPU times: user 271 ms, sys: 5.11 ms, total: 276 ms\n",
      "Wall time: 276 ms\n"
     ]
    }
   ],
   "source": [
    "%%time\n",
    "\n",
    "def generate_wire(instructions):\n",
    "    wire = [CENTER_POINT]\n",
    "    for x in instructions:\n",
    "        cur_point = wire[-1]\n",
    "        wire += {\n",
    "         'U': [(cur_point[Y]-i, cur_point[X]) for i in range(1, int(x[1:])+1)],\n",
    "         'D': [(cur_point[Y]+i, cur_point[X]) for i in range(1, int(x[1:])+1)],\n",
    "         'L': [(cur_point[Y], cur_point[X]-i) for i in range(1, int(x[1:])+1)],\n",
    "         'R': [(cur_point[Y], cur_point[X]+i) for i in range(1, int(x[1:])+1)]\n",
    "        }[x[0]]\n",
    "    return wire\n",
    "                                  \n",
    "    \n",
    "wires = [set(generate_wire(w_i))-{CENTER_POINT} for w_i in wires_input]\n",
    "res = min([md(x, CENTER_POINT) for x in set.intersection(*wires)])\n",
    "print_result(res)"
   ]
  },
  {
   "cell_type": "markdown",
   "metadata": {},
   "source": [
    "## part two"
   ]
  },
  {
   "cell_type": "code",
   "execution_count": 142,
   "metadata": {},
   "outputs": [
    {
     "name": "stdout",
     "output_type": "stream",
     "text": [
      "'RESULT: 35194'\n",
      "\n",
      "'TIME............................................................'\n",
      "CPU times: user 358 ms, sys: 4.02 ms, total: 362 ms\n",
      "Wall time: 362 ms\n"
     ]
    }
   ],
   "source": [
    "%%time\n",
    "\n",
    "wires = [generate_wire(w_i) for w_i in wires_input]\n",
    "intersections = set.intersection(*[set(wire) for wire in wires])-{CENTER_POINT}\n",
    "res = min([wires[0].index(x)+wires[1].index(x) for x in intersections])\n",
    "print_result(res)"
   ]
  },
  {
   "cell_type": "code",
   "execution_count": null,
   "metadata": {},
   "outputs": [],
   "source": [
    "# 4"
   ]
  },
  {
   "cell_type": "code",
   "execution_count": null,
   "metadata": {},
   "outputs": [],
   "source": [
    "## setup"
   ]
  },
  {
   "cell_type": "code",
   "execution_count": 140,
   "metadata": {},
   "outputs": [],
   "source": [
    "r_low, r_high = map(int, get_level_input(\"04\").split(\"-\"))\n",
    "\n",
    "def check_value(val, functions):\n",
    "    num_list = [int(i) for i in list(str(val))]\n",
    "    return (all(f(num_list) for f in functions))"
   ]
  },
  {
   "cell_type": "markdown",
   "metadata": {},
   "source": [
    "## part one"
   ]
  },
  {
   "cell_type": "code",
   "execution_count": 143,
   "metadata": {},
   "outputs": [
    {
     "name": "stdout",
     "output_type": "stream",
     "text": [
      "'RESULT: 1694'\n",
      "\n",
      "'TIME............................................................'\n",
      "CPU times: user 1.67 s, sys: 4.64 ms, total: 1.67 s\n",
      "Wall time: 1.67 s\n"
     ]
    }
   ],
   "source": [
    "%%time\n",
    "\n",
    "def check_increase(l):\n",
    "    return all(l[i] <= l[i+1] for i in range(len(l)-1))\n",
    "\n",
    "def check_double(l):\n",
    "    return any(l[i] == l[i+1] for i in range(len(l)-1))\n",
    "\n",
    "num_poss_pass = 0\n",
    "for num in range(r_low, r_high+1):\n",
    "    if(check_value(num, [check_increase, check_double])): num_poss_pass+=1\n",
    "\n",
    "print_result(num_poss_pass)"
   ]
  },
  {
   "cell_type": "markdown",
   "metadata": {},
   "source": [
    "## part two "
   ]
  },
  {
   "cell_type": "code",
   "execution_count": 144,
   "metadata": {},
   "outputs": [
    {
     "name": "stdout",
     "output_type": "stream",
     "text": [
      "'RESULT: 1148'\n",
      "\n",
      "'TIME............................................................'\n",
      "CPU times: user 2.58 s, sys: 5.62 ms, total: 2.58 s\n",
      "Wall time: 2.58 s\n"
     ]
    }
   ],
   "source": [
    "%%time\n",
    "\n",
    "def check_increase(l):\n",
    "    return all(l[i] <= l[i+1] for i in range(len(l)-1))\n",
    "\n",
    "def check_ungrouped_double(l):\n",
    "    l = [-1] + l +[-1]\n",
    "    return any(l[i-1] != l[i] == l[i+1] != l[i+2] for i in range(1, len(l)-1))\n",
    "\n",
    "num_poss_pass = 0\n",
    "for num in range(r_low, r_high+1):\n",
    "    num_list = [int(i) for i in list(str(num))]\n",
    "    if(check_value(num, [check_increase, check_ungrouped_double])): num_poss_pass += 1\n",
    "\n",
    "print_result(num_poss_pass)"
   ]
  },
  {
   "cell_type": "markdown",
   "metadata": {},
   "source": [
    "# 5"
   ]
  },
  {
   "cell_type": "markdown",
   "metadata": {},
   "source": [
    "## setup"
   ]
  },
  {
   "cell_type": "code",
   "execution_count": 33,
   "metadata": {},
   "outputs": [],
   "source": [
    "ADD = 1\n",
    "MULT = 2\n",
    "INPUT = 3\n",
    "OUTPUT = 4\n",
    "JUMP_IF_TRUE = 5\n",
    "JUMP_IF_FALSE = 6 \n",
    "LESS_THAN = 7 \n",
    "EQUALS = 8\n",
    "\n",
    "END = 99\n",
    "\n",
    "operation_length = {\n",
    "    ADD: 4, \n",
    "    MULT: 4, \n",
    "    INPUT: 2, \n",
    "    OUTPUT: 2, \n",
    "    END: 1, \n",
    "    JUMP_IF_TRUE: 3, \n",
    "    JUMP_IF_FALSE: 3, \n",
    "    LESS_THAN: 4, \n",
    "    EQUALS: 4\n",
    "}\n",
    "\n",
    "operation_num_inputs = {\n",
    "    ADD: 2, \n",
    "    MULT: 2, \n",
    "    INPUT: 0, \n",
    "    OUTPUT: 0, \n",
    "    JUMP_IF_TRUE: 2, \n",
    "    JUMP_IF_FALSE: 2, \n",
    "    LESS_THAN: 2, \n",
    "    EQUALS: 2\n",
    "}\n",
    "\n",
    "JUMPS = { JUMP_IF_TRUE, JUMP_IF_FALSE }\n",
    "\n",
    "comp_string = get_level_input(\"05\")\n",
    "comp_string = list(map(int, comp_string.split(',')))\n",
    "\n",
    "def print_computer(comp_string):\n",
    "    for i in range(0, len(comp_string), 10):\n",
    "        print(f\"[{i}]    {comp_string[i:i+10]}\")\n",
    " "
   ]
  },
  {
   "cell_type": "markdown",
   "metadata": {},
   "source": [
    "## part one"
   ]
  },
  {
   "cell_type": "code",
   "execution_count": 41,
   "metadata": {},
   "outputs": [
    {
     "name": "stdin",
     "output_type": "stream",
     "text": [
      "provide input value:  1\n"
     ]
    },
    {
     "name": "stdout",
     "output_type": "stream",
     "text": [
      "\n",
      "OUTPUT: 3\n",
      "\n",
      "OUTPUT: 0\n",
      "\n",
      "OUTPUT: 0\n",
      "\n",
      "OUTPUT: 0\n",
      "\n",
      "OUTPUT: 0\n",
      "\n",
      "OUTPUT: 0\n",
      "\n",
      "OUTPUT: 0\n",
      "\n",
      "OUTPUT: 0\n",
      "\n",
      "OUTPUT: 0\n",
      "\n",
      "OUTPUT: 10987514\n",
      "\n",
      "'RESULT: 0'\n",
      "\n",
      "'TIME............................................................'\n",
      "CPU times: user 3.04 ms, sys: 1.87 ms, total: 4.91 ms\n",
      "Wall time: 1.2 s\n"
     ]
    }
   ],
   "source": [
    "%%time\n",
    "\n",
    "def run_computer(comp_string):\n",
    "    i=0\n",
    "    last_output = 0\n",
    "    # print_computer(comp_string)\n",
    "    while(True):\n",
    "        opcode_and_settings = \"0000\"+str(comp_string[i])\n",
    "        opcode = int(opcode_and_settings[-2:])\n",
    "        if(opcode == END): return comp_string, last_output\n",
    "        input_modes = [int(opcode_and_settings[-3]), int(opcode_and_settings[-4]), int(opcode_and_settings[-5])]\n",
    "        \n",
    "        window = operation_length[opcode]\n",
    "        win = comp_string[i: i+window]\n",
    "        i+=window\n",
    "        \n",
    "        output = win[-1]\n",
    "        num_inputs = operation_num_inputs[opcode]\n",
    "        inputs = [win[i+1] if input_modes[i] else comp_string[win[i+1]] for i in range(operation_num_inputs[opcode])]\n",
    "        if(opcode == INPUT): \n",
    "            inputs = [int(input(\"provide input value: \")), 0]\n",
    "            print(\"\")\n",
    "        if(opcode == OUTPUT): \n",
    "            print(f\"OUTPUT: {comp_string[output]}\\n\")\n",
    "            last_output = output\n",
    "            continue\n",
    "\n",
    "        comp_string[output] = {\n",
    "            ADD: (inputs[0] + inputs[1]),\n",
    "            MULT: (inputs[0] * inputs[1]),\n",
    "            INPUT: inputs[0],\n",
    "        }[opcode]\n",
    "        # print_computer(comp_string)\n",
    "\n",
    "print_result(comp_string[run_computer(list(comp_string))[1]])"
   ]
  },
  {
   "cell_type": "code",
   "execution_count": 43,
   "metadata": {},
   "outputs": [
    {
     "name": "stdin",
     "output_type": "stream",
     "text": [
      "provide input value:  5\n"
     ]
    },
    {
     "name": "stdout",
     "output_type": "stream",
     "text": [
      "\n",
      "OUTPUT: 14195011\n",
      "\n",
      "'RESULT: 14195011'\n",
      "\n",
      "'TIME............................................................'\n",
      "CPU times: user 3.26 ms, sys: 1.82 ms, total: 5.08 ms\n",
      "Wall time: 1.35 s\n"
     ]
    }
   ],
   "source": [
    "%%time\n",
    "def run_computer(comp_string):\n",
    "    i=0\n",
    "    last_output = 0\n",
    "    # print_computer(comp_string)\n",
    "    while(True):\n",
    "        opcode_and_settings = \"0000\"+str(comp_string[i])\n",
    "        opcode = int(opcode_and_settings[-2:])\n",
    "        if(opcode == END): return comp_string, last_output\n",
    "        input_modes = [int(opcode_and_settings[-3]), int(opcode_and_settings[-4]), int(opcode_and_settings[-5])]\n",
    "        \n",
    "        window = operation_length[opcode]\n",
    "        win = comp_string[i: i+window]\n",
    "        i+=window\n",
    "        \n",
    "        output = win[-1]\n",
    "        num_inputs = operation_num_inputs[opcode]\n",
    "        inputs = [win[i+1] if input_modes[i] else comp_string[win[i+1]] for i in range(operation_num_inputs[opcode])]\n",
    "        \n",
    "        if(opcode == INPUT): \n",
    "            inputs = [int(input(\"provide input value: \")), 0]\n",
    "            print(\"\")\n",
    "            \n",
    "        if(opcode == OUTPUT): \n",
    "            print(f\"OUTPUT: {comp_string[output]}\\n\")\n",
    "            last_output = comp_string[output]\n",
    "            continue\n",
    "            \n",
    "        if(opcode in JUMPS):\n",
    "            i = {\n",
    "                JUMP_IF_TRUE: inputs[1] if inputs[0] != 0 else i,\n",
    "                JUMP_IF_FALSE: inputs[1] if inputs[0] == 0 else i, \n",
    "            }[opcode]\n",
    "            \n",
    "        else:\n",
    "            comp_string[output] = {\n",
    "                ADD: (inputs[0] + inputs[1]),\n",
    "                MULT: (inputs[0] * inputs[1]),\n",
    "                INPUT: inputs[0],\n",
    "                LESS_THAN: 1 if inputs[0] < inputs[1] else 0, \n",
    "                EQUALS: 1 if inputs[0] == inputs[1] else 0 \n",
    "            }[opcode]\n",
    "            # print_computer(comp_string)\n",
    "\n",
    "print_result(run_computer(list(comp_string))[1])"
   ]
  },
  {
   "cell_type": "code",
   "execution_count": null,
   "metadata": {},
   "outputs": [],
   "source": [
    "orbits = get_level_input(\"06\").splitlines\n",
    "\n",
    "def check_value(val, functions):\n",
    "    num_list = [int(i) for i in list(str(val))]\n",
    "    return (all(f(num_list) for f in functions))"
   ]
  }
 ],
 "metadata": {
  "kernelspec": {
   "display_name": "Python 3",
   "language": "python",
   "name": "python3"
  },
  "language_info": {
   "codemirror_mode": {
    "name": "ipython",
    "version": 3
   },
   "file_extension": ".py",
   "mimetype": "text/x-python",
   "name": "python",
   "nbconvert_exporter": "python",
   "pygments_lexer": "ipython3",
   "version": "3.7.5"
  }
 },
 "nbformat": 4,
 "nbformat_minor": 4
}
