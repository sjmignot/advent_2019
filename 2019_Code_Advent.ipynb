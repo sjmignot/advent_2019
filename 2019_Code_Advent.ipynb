{
 "cells": [
  {
   "cell_type": "markdown",
   "metadata": {},
   "source": [
    "# SETUP"
   ]
  },
  {
   "cell_type": "markdown",
   "metadata": {},
   "source": [
    "## imports"
   ]
  },
  {
   "cell_type": "code",
   "execution_count": 1,
   "metadata": {},
   "outputs": [],
   "source": [
    "import string\n",
    "import numpy as np\n",
    "from itertools import cycle\n",
    "import requests\n",
    "import collections\n",
    "from collections import deque\n",
    "from pprint import pprint\n",
    "import operator\n",
    "from time import sleep\n",
    "import itertools\n",
    "import re\n",
    "import functools\n",
    "from functools import reduce\n",
    "from dataclasses import dataclass\n",
    "from copy import deepcopy\n",
    "import networkx as nx\n",
    "import matplotlib.pyplot as plt\n",
    "import intcomp"
   ]
  },
  {
   "cell_type": "markdown",
   "metadata": {},
   "source": [
    "## constants"
   ]
  },
  {
   "cell_type": "code",
   "execution_count": 2,
   "metadata": {},
   "outputs": [],
   "source": [
    "lowercase = string.ascii_lowercase\n",
    "uppercase = string.ascii_uppercase"
   ]
  },
  {
   "cell_type": "markdown",
   "metadata": {},
   "source": [
    "## helpers"
   ]
  },
  {
   "cell_type": "code",
   "execution_count": 3,
   "metadata": {},
   "outputs": [],
   "source": [
    "def get_level_input(lvl_num):\n",
    "    with open(f\"advent_inputs/{lvl_num}.txt\") as f:\n",
    "        level_input=f.read()\n",
    "        return level_input\n",
    "    \n",
    "def print_result(answer):\n",
    "    pprint(\"RESULT: \"+str(answer))\n",
    "    print()\n",
    "    pprint(\"TIME\"+\".\"*60)\n",
    "    \n",
    "class StopExecution(Exception):\n",
    "    def _render_traceback_(self):\n",
    "        pass"
   ]
  },
  {
   "cell_type": "markdown",
   "metadata": {},
   "source": [
    "# 1"
   ]
  },
  {
   "cell_type": "markdown",
   "metadata": {},
   "source": [
    "## setup"
   ]
  },
  {
   "cell_type": "code",
   "execution_count": 4,
   "metadata": {},
   "outputs": [],
   "source": [
    "module_weights = get_level_input(\"01\").splitlines()\n",
    "module_weights = list(map(int, module_weights))"
   ]
  },
  {
   "cell_type": "markdown",
   "metadata": {},
   "source": [
    "## part one"
   ]
  },
  {
   "cell_type": "code",
   "execution_count": 5,
   "metadata": {},
   "outputs": [
    {
     "name": "stdout",
     "output_type": "stream",
     "text": [
      "'RESULT: 3432671'\n",
      "\n",
      "'TIME............................................................'\n",
      "CPU times: user 190 µs, sys: 92 µs, total: 282 µs\n",
      "Wall time: 240 µs\n"
     ]
    }
   ],
   "source": [
    "%%time\n",
    "total_weight = sum([x//3 - 2 for x in module_weights])\n",
    "print_result(total_weight)"
   ]
  },
  {
   "cell_type": "markdown",
   "metadata": {},
   "source": [
    "## part two"
   ]
  },
  {
   "cell_type": "code",
   "execution_count": 6,
   "metadata": {},
   "outputs": [
    {
     "name": "stdout",
     "output_type": "stream",
     "text": [
      "'RESULT: 5146132'\n",
      "\n",
      "'TIME............................................................'\n",
      "CPU times: user 404 µs, sys: 35 µs, total: 439 µs\n",
      "Wall time: 423 µs\n"
     ]
    }
   ],
   "source": [
    "%%time\n",
    "\n",
    "def weight_of_weight_gen(m_weight):\n",
    "    while m_weight>0:\n",
    "        yield m_weight\n",
    "        m_weight = m_weight//3 - 2\n",
    "    \n",
    "def get_req_fuel(m_weight): \n",
    "    return sum([i for i in weight_of_weight_gen(m_weight)][1:])\n",
    "    \n",
    "total_weight = sum([get_req_fuel(x) for x in module_weights])\n",
    "print_result(total_weight)"
   ]
  },
  {
   "cell_type": "markdown",
   "metadata": {},
   "source": [
    "# 2"
   ]
  },
  {
   "cell_type": "markdown",
   "metadata": {},
   "source": [
    "## setup"
   ]
  },
  {
   "cell_type": "code",
   "execution_count": 7,
   "metadata": {},
   "outputs": [],
   "source": [
    "comp_string = get_level_input(\"02\")\n",
    "comp_string = list(map(int, comp_string.split(',')))"
   ]
  },
  {
   "cell_type": "markdown",
   "metadata": {},
   "source": [
    "## part one"
   ]
  },
  {
   "cell_type": "code",
   "execution_count": 8,
   "metadata": {},
   "outputs": [
    {
     "name": "stdout",
     "output_type": "stream",
     "text": [
      "'RESULT: 5290681'\n",
      "\n",
      "'TIME............................................................'\n",
      "CPU times: user 569 µs, sys: 256 µs, total: 825 µs\n",
      "Wall time: 609 µs\n"
     ]
    }
   ],
   "source": [
    "%%time\n",
    "\n",
    "comp_string_prog = comp_string[:]\n",
    "comp_string_prog[1] = 12\n",
    "comp_string_prog[2] = 2\n",
    "res = intcomp.run_computer(comp_string_prog, [])\n",
    "print_result(comp_string_prog[0])"
   ]
  },
  {
   "cell_type": "markdown",
   "metadata": {},
   "source": [
    "## part two "
   ]
  },
  {
   "cell_type": "code",
   "execution_count": 9,
   "metadata": {},
   "outputs": [
    {
     "name": "stdout",
     "output_type": "stream",
     "text": [
      "'RESULT: 5741'\n",
      "\n",
      "'TIME............................................................'\n",
      "CPU times: user 822 ms, sys: 7.95 ms, total: 830 ms\n",
      "Wall time: 836 ms\n"
     ]
    }
   ],
   "source": [
    "%%time\n",
    "\n",
    "TARGET = 19690720\n",
    "NOUN_POS = 1\n",
    "VERB_POS = 2\n",
    "    \n",
    "def find_noun_verb(comp_string):\n",
    "    for noun in range(100):\n",
    "        for verb in range(100):\n",
    "            comp_string_copy = comp_string[:]\n",
    "            comp_string_copy[NOUN_POS] = noun\n",
    "            comp_string_copy[VERB_POS] = verb\n",
    "            res = intcomp.run_computer(comp_string_copy, []) \n",
    "            if comp_string_copy[0] == -1: continue \n",
    "            if(comp_string_copy[0] == TARGET): return noun,verb\n",
    "\n",
    "noun, verb = find_noun_verb(list(comp_string))\n",
    "\n",
    "print_result(100 * noun + verb)"
   ]
  },
  {
   "cell_type": "markdown",
   "metadata": {},
   "source": [
    "# 3"
   ]
  },
  {
   "cell_type": "markdown",
   "metadata": {},
   "source": [
    "## setup"
   ]
  },
  {
   "cell_type": "code",
   "execution_count": 10,
   "metadata": {},
   "outputs": [],
   "source": [
    "wires_input = get_level_input(\"03\").splitlines()\n",
    "wires_input = [x.split(',') for x in wires_input]\n",
    "\n",
    "X = 1\n",
    "Y = 0\n",
    "CENTER_POINT = (0,0)\n",
    "\n",
    "def md(p1, p2):\n",
    "    return (abs(p1[X]-p2[X]) + abs(p1[Y]-p2[Y]))"
   ]
  },
  {
   "cell_type": "markdown",
   "metadata": {},
   "source": [
    "## part one"
   ]
  },
  {
   "cell_type": "code",
   "execution_count": 11,
   "metadata": {},
   "outputs": [
    {
     "name": "stdout",
     "output_type": "stream",
     "text": [
      "'RESULT: 225'\n",
      "\n",
      "'TIME............................................................'\n",
      "CPU times: user 338 ms, sys: 20.7 ms, total: 359 ms\n",
      "Wall time: 362 ms\n"
     ]
    }
   ],
   "source": [
    "%%time\n",
    "\n",
    "def generate_wire(instructions):\n",
    "    wire = [CENTER_POINT]\n",
    "    for x in instructions:\n",
    "        cur_point = wire[-1]\n",
    "        wire += {\n",
    "         'U': [(cur_point[Y]-i, cur_point[X]) for i in range(1, int(x[1:])+1)],\n",
    "         'D': [(cur_point[Y]+i, cur_point[X]) for i in range(1, int(x[1:])+1)],\n",
    "         'L': [(cur_point[Y], cur_point[X]-i) for i in range(1, int(x[1:])+1)],\n",
    "         'R': [(cur_point[Y], cur_point[X]+i) for i in range(1, int(x[1:])+1)]\n",
    "        }[x[0]]\n",
    "    return wire\n",
    "                                  \n",
    "    \n",
    "wires = [set(generate_wire(w_i))-{CENTER_POINT} for w_i in wires_input]\n",
    "res = min([md(x, CENTER_POINT) for x in set.intersection(*wires)])\n",
    "print_result(res)"
   ]
  },
  {
   "cell_type": "markdown",
   "metadata": {},
   "source": [
    "## part two"
   ]
  },
  {
   "cell_type": "code",
   "execution_count": 12,
   "metadata": {},
   "outputs": [
    {
     "name": "stdout",
     "output_type": "stream",
     "text": [
      "'RESULT: 35194'\n",
      "\n",
      "'TIME............................................................'\n",
      "CPU times: user 441 ms, sys: 19.2 ms, total: 460 ms\n",
      "Wall time: 463 ms\n"
     ]
    }
   ],
   "source": [
    "%%time\n",
    "\n",
    "wires = [generate_wire(w_i) for w_i in wires_input]\n",
    "intersections = set.intersection(*[set(wire) for wire in wires])-{CENTER_POINT}\n",
    "res = min([wires[0].index(x)+wires[1].index(x) for x in intersections])\n",
    "print_result(res)"
   ]
  },
  {
   "cell_type": "markdown",
   "metadata": {},
   "source": [
    "# 4"
   ]
  },
  {
   "cell_type": "markdown",
   "metadata": {},
   "source": [
    "## setup"
   ]
  },
  {
   "cell_type": "code",
   "execution_count": 13,
   "metadata": {},
   "outputs": [],
   "source": [
    "r_low, r_high = map(int, get_level_input(\"04\").split(\"-\"))\n",
    "\n",
    "def check_value(val, functions):\n",
    "    num_list = [int(i) for i in list(str(val))]\n",
    "    return (all(f(num_list) for f in functions))"
   ]
  },
  {
   "cell_type": "markdown",
   "metadata": {},
   "source": [
    "## part one"
   ]
  },
  {
   "cell_type": "code",
   "execution_count": 14,
   "metadata": {},
   "outputs": [
    {
     "name": "stdout",
     "output_type": "stream",
     "text": [
      "'RESULT: 1694'\n",
      "\n",
      "'TIME............................................................'\n",
      "CPU times: user 1.83 s, sys: 15.3 ms, total: 1.84 s\n",
      "Wall time: 1.86 s\n"
     ]
    }
   ],
   "source": [
    "%%time\n",
    "\n",
    "def check_increase(l):\n",
    "    return all(l[i] <= l[i+1] for i in range(len(l)-1))\n",
    "\n",
    "def check_double(l):\n",
    "    return any(l[i] == l[i+1] for i in range(len(l)-1))\n",
    "\n",
    "num_poss_pass = 0\n",
    "for num in range(r_low, r_high+1):\n",
    "    if(check_value(num, [check_increase, check_double])): num_poss_pass+=1\n",
    "\n",
    "print_result(num_poss_pass)"
   ]
  },
  {
   "cell_type": "markdown",
   "metadata": {},
   "source": [
    "## part two "
   ]
  },
  {
   "cell_type": "code",
   "execution_count": 15,
   "metadata": {},
   "outputs": [
    {
     "name": "stdout",
     "output_type": "stream",
     "text": [
      "'RESULT: 1148'\n",
      "\n",
      "'TIME............................................................'\n",
      "CPU times: user 2.67 s, sys: 14.9 ms, total: 2.68 s\n",
      "Wall time: 2.7 s\n"
     ]
    }
   ],
   "source": [
    "%%time\n",
    "\n",
    "def check_increase(l):\n",
    "    return all(l[i] <= l[i+1] for i in range(len(l)-1))\n",
    "\n",
    "def check_ungrouped_double(l):\n",
    "    l = [-1] + l +[-1]\n",
    "    return any(l[i-1] != l[i] == l[i+1] != l[i+2] for i in range(1, len(l)-1))\n",
    "\n",
    "num_poss_pass = 0\n",
    "for num in range(r_low, r_high+1):\n",
    "    num_list = [int(i) for i in list(str(num))]\n",
    "    if(check_value(num, [check_increase, check_ungrouped_double])): num_poss_pass += 1\n",
    "\n",
    "print_result(num_poss_pass)"
   ]
  },
  {
   "cell_type": "markdown",
   "metadata": {},
   "source": [
    "# 5"
   ]
  },
  {
   "cell_type": "markdown",
   "metadata": {},
   "source": [
    "## setup"
   ]
  },
  {
   "cell_type": "code",
   "execution_count": 16,
   "metadata": {},
   "outputs": [],
   "source": [
    "comp_string = get_level_input(\"05\")\n",
    "comp_string = list(map(int, comp_string.split(',')))"
   ]
  },
  {
   "cell_type": "markdown",
   "metadata": {},
   "source": [
    "## part one"
   ]
  },
  {
   "cell_type": "code",
   "execution_count": 17,
   "metadata": {},
   "outputs": [
    {
     "name": "stdout",
     "output_type": "stream",
     "text": [
      "'RESULT: 10987514'\n",
      "\n",
      "'TIME............................................................'\n",
      "CPU times: user 454 µs, sys: 61 µs, total: 515 µs\n",
      "Wall time: 494 µs\n"
     ]
    }
   ],
   "source": [
    "%%time\n",
    "\n",
    "_, outputs = intcomp.run_computer(comp_string[:], [1])\n",
    "print_result(outputs[-1])"
   ]
  },
  {
   "cell_type": "code",
   "execution_count": 18,
   "metadata": {},
   "outputs": [
    {
     "name": "stdout",
     "output_type": "stream",
     "text": [
      "'RESULT: 14195011'\n",
      "\n",
      "'TIME............................................................'\n",
      "CPU times: user 634 µs, sys: 90 µs, total: 724 µs\n",
      "Wall time: 671 µs\n"
     ]
    }
   ],
   "source": [
    "%%time\n",
    "\n",
    "_, outputs = intcomp.run_computer(comp_string[:], [5])\n",
    "print_result(outputs[0])"
   ]
  },
  {
   "cell_type": "markdown",
   "metadata": {},
   "source": [
    "# 6"
   ]
  },
  {
   "cell_type": "markdown",
   "metadata": {},
   "source": [
    "## setup "
   ]
  },
  {
   "cell_type": "code",
   "execution_count": 19,
   "metadata": {},
   "outputs": [],
   "source": [
    "orbits = get_level_input(\"06\").splitlines()\n",
    "orbits = [orbit.split(')') for orbit in orbits]"
   ]
  },
  {
   "cell_type": "markdown",
   "metadata": {},
   "source": [
    "## part one"
   ]
  },
  {
   "cell_type": "code",
   "execution_count": 20,
   "metadata": {},
   "outputs": [
    {
     "name": "stdout",
     "output_type": "stream",
     "text": [
      "'RESULT: 144909'\n",
      "\n",
      "'TIME............................................................'\n",
      "CPU times: user 450 ms, sys: 7.72 ms, total: 457 ms\n",
      "Wall time: 460 ms\n"
     ]
    }
   ],
   "source": [
    "%%time\n",
    "\n",
    "orbit_graph = nx.DiGraph()\n",
    "for orbit in orbits:\n",
    "    orbit_graph.add_edge(*orbit)\n",
    "\n",
    "orbit_checksum = sum([len(nx.descendants(orbit_graph, node)) for node in orbit_graph.nodes()])\n",
    "\n",
    "print_result(orbit_checksum)"
   ]
  },
  {
   "cell_type": "markdown",
   "metadata": {},
   "source": [
    "## part two "
   ]
  },
  {
   "cell_type": "code",
   "execution_count": 21,
   "metadata": {},
   "outputs": [
    {
     "name": "stdout",
     "output_type": "stream",
     "text": [
      "'RESULT: 259'\n",
      "\n",
      "'TIME............................................................'\n"
     ]
    }
   ],
   "source": [
    "TARGET = \"SAN\"\n",
    "START = \"YOU\"\n",
    "\n",
    "orbit_graph = nx.Graph()\n",
    "for orbit in orbits:\n",
    "    orbit_graph.add_edge(*orbit)\n",
    "\n",
    "START_SR = list(orbit_graph.neighbors(START))[0]\n",
    "SAN_SR = list(orbit_graph.neighbors(TARGET))[0]\n",
    "\n",
    "print_result(nx.shortest_path_length(orbit_graph, str(START_SR), str(SAN_SR)))\n",
    "    "
   ]
  },
  {
   "cell_type": "markdown",
   "metadata": {},
   "source": [
    "# 7"
   ]
  },
  {
   "cell_type": "markdown",
   "metadata": {},
   "source": [
    "## setup "
   ]
  },
  {
   "cell_type": "code",
   "execution_count": 22,
   "metadata": {},
   "outputs": [],
   "source": [
    "amp_prog = get_level_input(\"07\")\n",
    "amp_prog = list(map(int, amp_prog.split(',')))\n",
    "NUM_AMPS = 5"
   ]
  },
  {
   "cell_type": "markdown",
   "metadata": {},
   "source": [
    "## part one"
   ]
  },
  {
   "cell_type": "code",
   "execution_count": 23,
   "metadata": {},
   "outputs": [
    {
     "name": "stdout",
     "output_type": "stream",
     "text": [
      "'RESULT: 21760'\n",
      "\n",
      "'TIME............................................................'\n",
      "CPU times: user 22.1 ms, sys: 1.18 ms, total: 23.3 ms\n",
      "Wall time: 22.6 ms\n"
     ]
    }
   ],
   "source": [
    "%%time\n",
    "\n",
    "amp_pos = list(itertools.permutations(list(range(NUM_AMPS))))\n",
    "\n",
    "max_val = 0\n",
    "\n",
    "for perm in amp_pos:\n",
    "    inputs = [perm[0], 0]\n",
    "    for i in range(NUM_AMPS):\n",
    "        inputs = [perm[i+1] if i+1<NUM_AMPS else 0, intcomp.run_computer(amp_prog[:], inputs)[1][0]]\n",
    "        if(inputs[1]>max_val):\n",
    "            max_val = inputs[1]\n",
    "        \n",
    "print_result(max_val)"
   ]
  },
  {
   "cell_type": "markdown",
   "metadata": {},
   "source": [
    "## part two"
   ]
  },
  {
   "cell_type": "code",
   "execution_count": 24,
   "metadata": {},
   "outputs": [
    {
     "name": "stdout",
     "output_type": "stream",
     "text": [
      "'RESULT: 69816958'\n",
      "\n",
      "'TIME............................................................'\n",
      "CPU times: user 263 ms, sys: 3.2 ms, total: 266 ms\n",
      "Wall time: 267 ms\n"
     ]
    }
   ],
   "source": [
    "%%time\n",
    "\n",
    "amp_pos = list(itertools.permutations(list(range(NUM_AMPS, NUM_AMPS+5))))\n",
    "\n",
    "signals = []\n",
    "for perm in amp_pos:\n",
    "    i = 0\n",
    "    inputs = [[perm[j]] for j in range(NUM_AMPS)]\n",
    "    inputs[0].append(0)\n",
    "    last_e = 0\n",
    "    amp_progs = [deepcopy(amp_prog) for j in range(NUM_AMPS)]\n",
    "    ips = [0 for j in range(NUM_AMPS)]\n",
    "    while(True):\n",
    "        ips[i%NUM_AMPS], outputs = intcomp.run_computer(amp_progs[i%NUM_AMPS], inputs[i%NUM_AMPS], ip=ips[i%NUM_AMPS], return_on_output=True)\n",
    "        if outputs == []:\n",
    "            break\n",
    "        if(i%NUM_AMPS == 4):\n",
    "            last_e = outputs[0]\n",
    "        i+=1\n",
    "        inputs[i%NUM_AMPS].append(outputs[0])\n",
    "    signals.append(last_e)\n",
    "        \n",
    "print_result(max(signals))"
   ]
  },
  {
   "cell_type": "markdown",
   "metadata": {},
   "source": [
    "# 8"
   ]
  },
  {
   "cell_type": "markdown",
   "metadata": {},
   "source": [
    "## setup "
   ]
  },
  {
   "cell_type": "code",
   "execution_count": 25,
   "metadata": {},
   "outputs": [],
   "source": [
    "img = list(get_level_input(\"08\"))\n",
    "img = list(map(int, img))\n",
    "IMG_W = 25\n",
    "IMG_H = 6"
   ]
  },
  {
   "cell_type": "markdown",
   "metadata": {},
   "source": [
    "## part one"
   ]
  },
  {
   "cell_type": "code",
   "execution_count": 26,
   "metadata": {},
   "outputs": [
    {
     "name": "stdout",
     "output_type": "stream",
     "text": [
      "(100, 6, 25)\n",
      "1360\n"
     ]
    }
   ],
   "source": [
    "arr_img = np.array(img)\n",
    "lay_img = np.reshape(arr_img, (-1, IMG_H, IMG_W))\n",
    "\n",
    "print(lay_img.shape)\n",
    "\n",
    "max_zero_index = np.argmin([(lay_img[i,:,:]==0).sum() for i in range(lay_img.shape[0])])\n",
    "\n",
    "max_zero_layer = lay_img[max_zero_index, :, :]\n",
    "NUM_1_BY_2 = (max_zero_layer == 1).sum() * (max_zero_layer == 2).sum()\n",
    "print(NUM_1_BY_2)"
   ]
  },
  {
   "cell_type": "markdown",
   "metadata": {},
   "source": [
    "## part two"
   ]
  },
  {
   "cell_type": "code",
   "execution_count": 27,
   "metadata": {},
   "outputs": [
    {
     "name": "stdout",
     "output_type": "stream",
     "text": [
      "XXXX.XXX..X..X..XX..XXX..\n",
      "X....X..X.X..X.X..X.X..X.\n",
      "XXX..X..X.X..X.X..X.X..X.\n",
      "X....XXX..X..X.XXXX.XXX..\n",
      "X....X....X..X.X..X.X.X..\n",
      "X....X.....XX..X..X.X..X.\n"
     ]
    }
   ],
   "source": [
    "BLACK = 0 \n",
    "WHITE = 1 \n",
    "TRANS = 2\n",
    "\n",
    "arr_img = np.array(img)\n",
    "lay_img = np.reshape(arr_img, (-1, IMG_H, IMG_W))\n",
    "\n",
    "final_image = np.full((IMG_H, IMG_W), 2)\n",
    "\n",
    "spears = [lay_img[:, col, row] for col in range(lay_img.shape[1]) for row in range(lay_img.shape[2])]\n",
    "\n",
    "first_non_transparent = [spear[np.argmax(spear!=2)] for spear in spears]\n",
    "message = np.array(first_non_transparent).reshape((IMG_H, IMG_W))\n",
    "for row in message:\n",
    "    row = np.where(row==0, '.', row) \n",
    "    row = np.where(row=='1', 'X', row) \n",
    "    print(\"\".join(row))"
   ]
  },
  {
   "cell_type": "markdown",
   "metadata": {},
   "source": [
    "# 9"
   ]
  },
  {
   "cell_type": "markdown",
   "metadata": {},
   "source": [
    "## setup"
   ]
  },
  {
   "cell_type": "code",
   "execution_count": 31,
   "metadata": {},
   "outputs": [],
   "source": [
    "# GET LEVEL INPUT\n",
    "boost_prog_raw = get_level_input(\"09\")\n",
    "boost_prog_list = list(map(int, boost_prog_raw.split(',')))\n",
    "boost_prog = tuple(boost_prog_list)"
   ]
  },
  {
   "cell_type": "markdown",
   "metadata": {},
   "source": [
    "## part one"
   ]
  },
  {
   "cell_type": "code",
   "execution_count": 32,
   "metadata": {},
   "outputs": [
    {
     "name": "stdout",
     "output_type": "stream",
     "text": [
      "'RESULT: 2204990589'\n",
      "\n",
      "'TIME............................................................'\n",
      "CPU times: user 1.53 ms, sys: 122 µs, total: 1.66 ms\n",
      "Wall time: 1.63 ms\n"
     ]
    }
   ],
   "source": [
    "%%time\n",
    "BOOST_INPUT = 1\n",
    "\n",
    "_, outputs = intcomp.run_computer(list(boost_prog)+[0 for x in range(9999)], [BOOST_INPUT])\n",
    "print_result(outputs[0])"
   ]
  },
  {
   "cell_type": "markdown",
   "metadata": {},
   "source": [
    "## part two "
   ]
  },
  {
   "cell_type": "code",
   "execution_count": 33,
   "metadata": {},
   "outputs": [
    {
     "name": "stdout",
     "output_type": "stream",
     "text": [
      "'RESULT: 50008'\n",
      "\n",
      "'TIME............................................................'\n",
      "CPU times: user 1.2 s, sys: 7.05 ms, total: 1.21 s\n",
      "Wall time: 1.21 s\n"
     ]
    }
   ],
   "source": [
    "%%time\n",
    "SENSOR_MODE = 2\n",
    "\n",
    "_, outputs = intcomp.run_computer(list(boost_prog)+[0 for x in range(9999)], [SENSOR_MODE])\n",
    "print_result(outputs[0])"
   ]
  },
  {
   "cell_type": "markdown",
   "metadata": {},
   "source": [
    "# 10 "
   ]
  },
  {
   "cell_type": "markdown",
   "metadata": {},
   "source": [
    "## setup "
   ]
  },
  {
   "cell_type": "code",
   "execution_count": 34,
   "metadata": {},
   "outputs": [],
   "source": [
    "asteroids = get_level_input(\"10\").splitlines()\n",
    "asteroid_grid = np.array([np.array(list(belt)) for belt in asteroids])\n",
    "asteroid_set = frozenset(zip(*np.where(asteroid_grid == '#')[::-1]))\n",
    "\n",
    "X = 0\n",
    "Y = 1\n",
    "\n",
    "sort_order = {\n",
    "    '+': 1,\n",
    "    '-': -1\n",
    "}\n",
    "\n",
    "def calc_slope(p1, p2):\n",
    "    if(p1[X]-p2[X] == 0):\n",
    "        return (np.inf, '+' if (p1[Y]-p2[Y]) < 0 else '-')\n",
    "    if(p1[Y]-p2[Y]==0):\n",
    "        return (0, '-' if (p1[X]-p2[X]) > 0 else '+')\n",
    "    return ((p1[Y]-p2[Y])/(p1[X]-p2[X]), '-' if (p1[X]-p2[X]) > 0 else '+')"
   ]
  },
  {
   "cell_type": "markdown",
   "metadata": {},
   "source": [
    "## part one"
   ]
  },
  {
   "cell_type": "code",
   "execution_count": 35,
   "metadata": {},
   "outputs": [
    {
     "name": "stdout",
     "output_type": "stream",
     "text": [
      "'RESULT: 284 asteroids visible at (20, 19)'\n",
      "\n",
      "'TIME............................................................'\n",
      "CPU times: user 273 ms, sys: 4.07 ms, total: 277 ms\n",
      "Wall time: 277 ms\n"
     ]
    }
   ],
   "source": [
    "%%time\n",
    "\n",
    "visible_sets = [(asteroid, set(map(calc_slope, itertools.repeat(asteroid), asteroid_set-{asteroid}))) for asteroid in asteroid_set]\n",
    "  \n",
    "monitoring_location, visible_asteroids = max(visible_sets, key = lambda x: len(x[1]))\n",
    "print_result(f\"{len(visible_asteroids)} asteroids visible at {monitoring_location}\")"
   ]
  },
  {
   "cell_type": "markdown",
   "metadata": {},
   "source": [
    "## part two "
   ]
  },
  {
   "cell_type": "code",
   "execution_count": 36,
   "metadata": {},
   "outputs": [
    {
     "name": "stdout",
     "output_type": "stream",
     "text": [
      "'RESULT: 404'\n",
      "\n",
      "'TIME............................................................'\n",
      "CPU times: user 3.6 ms, sys: 738 µs, total: 4.34 ms\n",
      "Wall time: 3.7 ms\n"
     ]
    }
   ],
   "source": [
    "%%time\n",
    "MONITORING_STATION = (20, 19)\n",
    "REMAINING_ASTEROIDS = asteroid_set-{MONITORING_STATION}\n",
    "\n",
    "def l1(p1, p2):\n",
    "    return abs(p1[X]-p2[X])+abs(p1[Y]-p2[Y])\n",
    "\n",
    "def calc_slope_and_dist(p1, p2):\n",
    "    dist = l1(p1,p2)\n",
    "    if(p1[X]-p2[X] == 0):\n",
    "        return (np.inf, '+' if (p1[Y]-p2[Y]) > 0 else '-', dist)\n",
    "    if(p1[Y]-p2[Y]==0):\n",
    "        return (0, '-' if (p1[X]-p2[X]) > 0 else '+', dist)\n",
    "    return (-(p1[Y]-p2[Y])/(p1[X]-p2[X]), '-' if (p1[X]-p2[X]) > 0 else '+', dist)\n",
    "\n",
    "visible_list = [(asteroid, calc_slope_and_dist(MONITORING_STATION, asteroid)) for asteroid in REMAINING_ASTEROIDS]\n",
    "visible_list.sort(key=lambda k: (sort_order[k[1][1]], k[1][0], -k[1][2]), reverse=True)\n",
    "\n",
    "visible_stacked = [list(g) for k, g in itertools.groupby(visible_list, key=lambda k: k[1][:1])]\n",
    "two_hundredth_vape = visible_stacked[199][0][0]\n",
    "\n",
    "output_val = two_hundredth_vape[0]*100+two_hundredth_vape[1]\n",
    "\n",
    "print_result(output_val)"
   ]
  },
  {
   "cell_type": "markdown",
   "metadata": {},
   "source": [
    "# 11 "
   ]
  },
  {
   "cell_type": "markdown",
   "metadata": {},
   "source": [
    "## setup "
   ]
  },
  {
   "cell_type": "code",
   "execution_count": 60,
   "metadata": {},
   "outputs": [],
   "source": [
    "paint_prog = get_level_input(\"11\")\n",
    "paint_prog = list(map(int, paint_prog.split(',')))\n",
    "paint_prog = tuple(paint_prog)"
   ]
  },
  {
   "cell_type": "code",
   "execution_count": null,
   "metadata": {},
   "outputs": [],
   "source": []
  }
 ],
 "metadata": {
  "kernelspec": {
   "display_name": "Python 3",
   "language": "python",
   "name": "python3"
  },
  "language_info": {
   "codemirror_mode": {
    "name": "ipython",
    "version": 3
   },
   "file_extension": ".py",
   "mimetype": "text/x-python",
   "name": "python",
   "nbconvert_exporter": "python",
   "pygments_lexer": "ipython3",
   "version": "3.7.5"
  }
 },
 "nbformat": 4,
 "nbformat_minor": 4
}
