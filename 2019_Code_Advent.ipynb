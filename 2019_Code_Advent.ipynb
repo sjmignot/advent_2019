{
 "cells": [
  {
   "cell_type": "markdown",
   "metadata": {},
   "source": [
    "# SETUP"
   ]
  },
  {
   "cell_type": "markdown",
   "metadata": {},
   "source": [
    "## imports"
   ]
  },
  {
   "cell_type": "code",
   "execution_count": 56,
   "metadata": {},
   "outputs": [],
   "source": [
    "import string\n",
    "import numpy as np\n",
    "from itertools import cycle\n",
    "import requests\n",
    "import collections\n",
    "from collections import deque\n",
    "from pprint import pprint\n",
    "import operator\n",
    "from time import sleep\n",
    "import itertools\n",
    "import re\n",
    "import functools\n",
    "from functools import reduce\n",
    "from dataclasses import dataclass\n",
    "from copy import deepcopy\n",
    "import networkx as nx\n",
    "import matplotlib.pyplot as plt\n",
    "import intcomp"
   ]
  },
  {
   "cell_type": "markdown",
   "metadata": {},
   "source": [
    "## constants"
   ]
  },
  {
   "cell_type": "code",
   "execution_count": 57,
   "metadata": {},
   "outputs": [],
   "source": [
    "lowercase = string.ascii_lowercase\n",
    "uppercase = string.ascii_uppercase"
   ]
  },
  {
   "cell_type": "markdown",
   "metadata": {},
   "source": [
    "## helpers"
   ]
  },
  {
   "cell_type": "code",
   "execution_count": 58,
   "metadata": {},
   "outputs": [],
   "source": [
    "def get_level_input(lvl_num):\n",
    "    with open(f\"advent_inputs/{lvl_num}.txt\") as f:\n",
    "        level_input=f.read()\n",
    "        return level_input\n",
    "    \n",
    "def print_result(answer):\n",
    "    pprint(\"RESULT: \"+str(answer))\n",
    "    print()\n",
    "    pprint(\"TIME\"+\".\"*60)\n",
    "    \n",
    "class StopExecution(Exception):\n",
    "    def _render_traceback_(self):\n",
    "        pass"
   ]
  },
  {
   "cell_type": "markdown",
   "metadata": {},
   "source": [
    "# 1"
   ]
  },
  {
   "cell_type": "markdown",
   "metadata": {},
   "source": [
    "## setup"
   ]
  },
  {
   "cell_type": "code",
   "execution_count": 17,
   "metadata": {},
   "outputs": [],
   "source": [
    "module_weights = get_level_input(\"01\").splitlines()\n",
    "module_weights = list(map(int, module_weights))"
   ]
  },
  {
   "cell_type": "markdown",
   "metadata": {},
   "source": [
    "## part one"
   ]
  },
  {
   "cell_type": "code",
   "execution_count": 18,
   "metadata": {},
   "outputs": [
    {
     "name": "stdout",
     "output_type": "stream",
     "text": [
      "'RESULT: 3432671'\n",
      "\n",
      "'TIME............................................................'\n",
      "CPU times: user 531 µs, sys: 424 µs, total: 955 µs\n",
      "Wall time: 814 µs\n"
     ]
    }
   ],
   "source": [
    "%%time\n",
    "total_weight = sum([x//3 - 2 for x in module_weights])\n",
    "print_result(total_weight)"
   ]
  },
  {
   "cell_type": "markdown",
   "metadata": {},
   "source": [
    "## part two"
   ]
  },
  {
   "cell_type": "code",
   "execution_count": 6,
   "metadata": {},
   "outputs": [
    {
     "name": "stdout",
     "output_type": "stream",
     "text": [
      "'RESULT: 5146132'\n",
      "\n",
      "'TIME............................................................'\n",
      "CPU times: user 402 µs, sys: 46 µs, total: 448 µs\n",
      "Wall time: 429 µs\n"
     ]
    }
   ],
   "source": [
    "%%time\n",
    "\n",
    "def weight_of_weight_gen(m_weight):\n",
    "    while m_weight>0:\n",
    "        yield m_weight\n",
    "        m_weight = m_weight//3 - 2\n",
    "    \n",
    "def get_req_fuel(m_weight): \n",
    "    return sum([i for i in weight_of_weight_gen(m_weight)][1:])\n",
    "    \n",
    "total_weight = sum([get_req_fuel(x) for x in module_weights])\n",
    "print_result(total_weight)"
   ]
  },
  {
   "cell_type": "markdown",
   "metadata": {},
   "source": [
    "# 2"
   ]
  },
  {
   "cell_type": "markdown",
   "metadata": {},
   "source": [
    "## setup"
   ]
  },
  {
   "cell_type": "code",
   "execution_count": 48,
   "metadata": {},
   "outputs": [
    {
     "name": "stdout",
     "output_type": "stream",
     "text": [
      "[1, 0, 0, 3, 1, 1, 2, 3, 1, 3, 4, 3, 1, 5, 0, 3, 2, 6, 1, 19, 1, 5, 19, 23, 1, 13, 23, 27, 1, 6, 27, 31, 2, 31, 13, 35, 1, 9, 35, 39, 2, 39, 13, 43, 1, 43, 10, 47, 1, 47, 13, 51, 2, 13, 51, 55, 1, 55, 9, 59, 1, 59, 5, 63, 1, 6, 63, 67, 1, 13, 67, 71, 2, 71, 10, 75, 1, 6, 75, 79, 1, 79, 10, 83, 1, 5, 83, 87, 2, 10, 87, 91, 1, 6, 91, 95, 1, 9, 95, 99, 1, 99, 9, 103, 2, 103, 10, 107, 1, 5, 107, 111, 1, 9, 111, 115, 2, 13, 115, 119, 1, 119, 10, 123, 1, 123, 10, 127, 2, 127, 10, 131, 1, 5, 131, 135, 1, 10, 135, 139, 1, 139, 2, 143, 1, 6, 143, 0, 99, 2, 14, 0, 0]\n"
     ]
    }
   ],
   "source": [
    "OPCODE = 0\n",
    "INPUT_1 = 1\n",
    "INPUT_2 = 2\n",
    "OUTPUT = 3\n",
    "WINDOW = 4\n",
    "\n",
    "comp_string = get_level_input(\"02\")\n",
    "comp_string = list(map(int, comp_string.split(',')))\n",
    "print(comp_string)\n",
    "# comp_string = [1,9,10,3,2,3,11,0,99,30,40,50]\n"
   ]
  },
  {
   "cell_type": "markdown",
   "metadata": {},
   "source": [
    "## part one"
   ]
  },
  {
   "cell_type": "code",
   "execution_count": 46,
   "metadata": {},
   "outputs": [
    {
     "name": "stdout",
     "output_type": "stream",
     "text": [
      "'RESULT: 5290681'\n",
      "\n",
      "'TIME............................................................'\n",
      "CPU times: user 1.64 ms, sys: 805 µs, total: 2.45 ms\n",
      "Wall time: 1.83 ms\n"
     ]
    }
   ],
   "source": [
    "%%time\n",
    "\n",
    "comp_string_prog = comp_string[:]\n",
    "comp_string_prog[1] = 12\n",
    "comp_string_prog[2] = 2\n",
    "res = intcomp.run_computer(comp_string_prog, [])\n",
    "print_result(comp_string_prog[0])"
   ]
  },
  {
   "cell_type": "markdown",
   "metadata": {},
   "source": [
    "## part two "
   ]
  },
  {
   "cell_type": "code",
   "execution_count": 55,
   "metadata": {},
   "outputs": [
    {
     "name": "stdout",
     "output_type": "stream",
     "text": [
      "'RESULT: 5741'\n",
      "\n",
      "'TIME............................................................'\n",
      "CPU times: user 1.59 s, sys: 9.47 ms, total: 1.6 s\n",
      "Wall time: 1.61 s\n"
     ]
    }
   ],
   "source": [
    "%%time\n",
    "\n",
    "TARGET = 19690720\n",
    "NOUN_POS = 1\n",
    "VERB_POS = 2\n",
    "    \n",
    "def find_noun_verb(comp_string):\n",
    "    for noun in range(100):\n",
    "        for verb in range(100):\n",
    "            comp_string_copy = comp_string[:]\n",
    "            comp_string_copy[NOUN_POS] = noun\n",
    "            comp_string_copy[VERB_POS] = verb\n",
    "            res = intcomp.run_computer(comp_string_copy, []) \n",
    "            if comp_string_copy[0] == -1: continue \n",
    "            if(comp_string_copy[0] == TARGET): return noun,verb\n",
    "\n",
    "noun, verb = find_noun_verb(list(comp_string))\n",
    "\n",
    "print_result(100 * noun + verb)"
   ]
  },
  {
   "cell_type": "markdown",
   "metadata": {},
   "source": [
    "# 3"
   ]
  },
  {
   "cell_type": "markdown",
   "metadata": {},
   "source": [
    "## setup"
   ]
  },
  {
   "cell_type": "code",
   "execution_count": 56,
   "metadata": {},
   "outputs": [],
   "source": [
    "wires_input = get_level_input(\"03\").splitlines()\n",
    "wires_input = [x.split(',') for x in wires_input]\n",
    "\n",
    "X = 1\n",
    "Y = 0\n",
    "CENTER_POINT = (0,0)\n",
    "\n",
    "def md(p1, p2):\n",
    "    return (abs(p1[X]-p2[X]) + abs(p1[Y]-p2[Y]))"
   ]
  },
  {
   "cell_type": "markdown",
   "metadata": {},
   "source": [
    "## part one"
   ]
  },
  {
   "cell_type": "code",
   "execution_count": 88,
   "metadata": {},
   "outputs": [
    {
     "name": "stdout",
     "output_type": "stream",
     "text": [
      "'RESULT: 225'\n",
      "\n",
      "'TIME............................................................'\n",
      "CPU times: user 271 ms, sys: 5.11 ms, total: 276 ms\n",
      "Wall time: 276 ms\n"
     ]
    }
   ],
   "source": [
    "%%time\n",
    "\n",
    "def generate_wire(instructions):\n",
    "    wire = [CENTER_POINT]\n",
    "    for x in instructions:\n",
    "        cur_point = wire[-1]\n",
    "        wire += {\n",
    "         'U': [(cur_point[Y]-i, cur_point[X]) for i in range(1, int(x[1:])+1)],\n",
    "         'D': [(cur_point[Y]+i, cur_point[X]) for i in range(1, int(x[1:])+1)],\n",
    "         'L': [(cur_point[Y], cur_point[X]-i) for i in range(1, int(x[1:])+1)],\n",
    "         'R': [(cur_point[Y], cur_point[X]+i) for i in range(1, int(x[1:])+1)]\n",
    "        }[x[0]]\n",
    "    return wire\n",
    "                                  \n",
    "    \n",
    "wires = [set(generate_wire(w_i))-{CENTER_POINT} for w_i in wires_input]\n",
    "res = min([md(x, CENTER_POINT) for x in set.intersection(*wires)])\n",
    "print_result(res)"
   ]
  },
  {
   "cell_type": "markdown",
   "metadata": {},
   "source": [
    "## part two"
   ]
  },
  {
   "cell_type": "code",
   "execution_count": 142,
   "metadata": {},
   "outputs": [
    {
     "name": "stdout",
     "output_type": "stream",
     "text": [
      "'RESULT: 35194'\n",
      "\n",
      "'TIME............................................................'\n",
      "CPU times: user 358 ms, sys: 4.02 ms, total: 362 ms\n",
      "Wall time: 362 ms\n"
     ]
    }
   ],
   "source": [
    "%%time\n",
    "\n",
    "wires = [generate_wire(w_i) for w_i in wires_input]\n",
    "intersections = set.intersection(*[set(wire) for wire in wires])-{CENTER_POINT}\n",
    "res = min([wires[0].index(x)+wires[1].index(x) for x in intersections])\n",
    "print_result(res)"
   ]
  },
  {
   "cell_type": "markdown",
   "metadata": {},
   "source": [
    "# 4"
   ]
  },
  {
   "cell_type": "markdown",
   "metadata": {},
   "source": [
    "## setup"
   ]
  },
  {
   "cell_type": "code",
   "execution_count": 140,
   "metadata": {},
   "outputs": [],
   "source": [
    "r_low, r_high = map(int, get_level_input(\"04\").split(\"-\"))\n",
    "\n",
    "def check_value(val, functions):\n",
    "    num_list = [int(i) for i in list(str(val))]\n",
    "    return (all(f(num_list) for f in functions))"
   ]
  },
  {
   "cell_type": "markdown",
   "metadata": {},
   "source": [
    "## part one"
   ]
  },
  {
   "cell_type": "code",
   "execution_count": 143,
   "metadata": {},
   "outputs": [
    {
     "name": "stdout",
     "output_type": "stream",
     "text": [
      "'RESULT: 1694'\n",
      "\n",
      "'TIME............................................................'\n",
      "CPU times: user 1.67 s, sys: 4.64 ms, total: 1.67 s\n",
      "Wall time: 1.67 s\n"
     ]
    }
   ],
   "source": [
    "%%time\n",
    "\n",
    "def check_increase(l):\n",
    "    return all(l[i] <= l[i+1] for i in range(len(l)-1))\n",
    "\n",
    "def check_double(l):\n",
    "    return any(l[i] == l[i+1] for i in range(len(l)-1))\n",
    "\n",
    "num_poss_pass = 0\n",
    "for num in range(r_low, r_high+1):\n",
    "    if(check_value(num, [check_increase, check_double])): num_poss_pass+=1\n",
    "\n",
    "print_result(num_poss_pass)"
   ]
  },
  {
   "cell_type": "markdown",
   "metadata": {},
   "source": [
    "## part two "
   ]
  },
  {
   "cell_type": "code",
   "execution_count": 144,
   "metadata": {},
   "outputs": [
    {
     "name": "stdout",
     "output_type": "stream",
     "text": [
      "'RESULT: 1148'\n",
      "\n",
      "'TIME............................................................'\n",
      "CPU times: user 2.58 s, sys: 5.62 ms, total: 2.58 s\n",
      "Wall time: 2.58 s\n"
     ]
    }
   ],
   "source": [
    "%%time\n",
    "\n",
    "def check_increase(l):\n",
    "    return all(l[i] <= l[i+1] for i in range(len(l)-1))\n",
    "\n",
    "def check_ungrouped_double(l):\n",
    "    l = [-1] + l +[-1]\n",
    "    return any(l[i-1] != l[i] == l[i+1] != l[i+2] for i in range(1, len(l)-1))\n",
    "\n",
    "num_poss_pass = 0\n",
    "for num in range(r_low, r_high+1):\n",
    "    num_list = [int(i) for i in list(str(num))]\n",
    "    if(check_value(num, [check_increase, check_ungrouped_double])): num_poss_pass += 1\n",
    "\n",
    "print_result(num_poss_pass)"
   ]
  },
  {
   "cell_type": "markdown",
   "metadata": {},
   "source": [
    "# 5"
   ]
  },
  {
   "cell_type": "markdown",
   "metadata": {},
   "source": [
    "## setup"
   ]
  },
  {
   "cell_type": "code",
   "execution_count": 26,
   "metadata": {},
   "outputs": [],
   "source": [
    "comp_string = get_level_input(\"05\")\n",
    "comp_string = list(map(int, comp_string.split(',')))"
   ]
  },
  {
   "cell_type": "markdown",
   "metadata": {},
   "source": [
    "## part one"
   ]
  },
  {
   "cell_type": "code",
   "execution_count": 27,
   "metadata": {},
   "outputs": [
    {
     "name": "stdout",
     "output_type": "stream",
     "text": [
      "0\n",
      "0\n",
      "0\n",
      "0\n",
      "0\n",
      "0\n",
      "0\n",
      "0\n",
      "0\n",
      "10987514\n",
      "'RESULT: 10987514'\n",
      "\n",
      "'TIME............................................................'\n",
      "CPU times: user 1.04 ms, sys: 316 µs, total: 1.35 ms\n",
      "Wall time: 1.06 ms\n"
     ]
    }
   ],
   "source": [
    "%%time\n",
    "\n",
    "outputs = intcomp.run_computer(comp_string[:], [1])\n",
    "print_result(outputs[-1])"
   ]
  },
  {
   "cell_type": "code",
   "execution_count": 29,
   "metadata": {},
   "outputs": [
    {
     "name": "stdout",
     "output_type": "stream",
     "text": [
      "14195011\n",
      "'RESULT: 14195011'\n",
      "\n",
      "'TIME............................................................'\n",
      "CPU times: user 672 µs, sys: 79 µs, total: 751 µs\n",
      "Wall time: 706 µs\n"
     ]
    }
   ],
   "source": [
    "%%time\n",
    "\n",
    "outputs = intcomp.run_computer(comp_string[:], [5])\n",
    "print_result(outputs[0])"
   ]
  },
  {
   "cell_type": "markdown",
   "metadata": {},
   "source": [
    "# 6"
   ]
  },
  {
   "cell_type": "markdown",
   "metadata": {},
   "source": [
    "## setup "
   ]
  },
  {
   "cell_type": "code",
   "execution_count": 30,
   "metadata": {},
   "outputs": [],
   "source": [
    "orbits = get_level_input(\"06\").splitlines()\n",
    "orbits = [orbit.split(')') for orbit in orbits]"
   ]
  },
  {
   "cell_type": "markdown",
   "metadata": {},
   "source": [
    "## part one"
   ]
  },
  {
   "cell_type": "code",
   "execution_count": 31,
   "metadata": {},
   "outputs": [
    {
     "name": "stdout",
     "output_type": "stream",
     "text": [
      "'RESULT: 144909'\n",
      "\n",
      "'TIME............................................................'\n",
      "CPU times: user 386 ms, sys: 4.07 ms, total: 390 ms\n",
      "Wall time: 391 ms\n"
     ]
    }
   ],
   "source": [
    "%%time\n",
    "\n",
    "orbit_graph = nx.DiGraph()\n",
    "for orbit in orbits:\n",
    "    orbit_graph.add_edge(*orbit)\n",
    "\n",
    "orbit_checksum = sum([len(nx.descendants(orbit_graph, node)) for node in orbit_graph.nodes()])\n",
    "\n",
    "print_result(orbit_checksum)"
   ]
  },
  {
   "cell_type": "markdown",
   "metadata": {},
   "source": [
    "## part two "
   ]
  },
  {
   "cell_type": "code",
   "execution_count": 32,
   "metadata": {},
   "outputs": [
    {
     "name": "stdout",
     "output_type": "stream",
     "text": [
      "'RESULT: 259'\n",
      "\n",
      "'TIME............................................................'\n"
     ]
    }
   ],
   "source": [
    "TARGET = \"SAN\"\n",
    "START = \"YOU\"\n",
    "\n",
    "orbit_graph = nx.Graph()\n",
    "for orbit in orbits:\n",
    "    orbit_graph.add_edge(*orbit)\n",
    "\n",
    "START_SR = list(orbit_graph.neighbors(START))[0]\n",
    "SAN_SR = list(orbit_graph.neighbors(TARGET))[0]\n",
    "\n",
    "print_result(nx.shortest_path_length(orbit_graph, str(START_SR), str(SAN_SR)))\n",
    "    "
   ]
  },
  {
   "cell_type": "markdown",
   "metadata": {},
   "source": [
    "# 7"
   ]
  },
  {
   "cell_type": "markdown",
   "metadata": {},
   "source": [
    "## setup "
   ]
  },
  {
   "cell_type": "code",
   "execution_count": 59,
   "metadata": {},
   "outputs": [],
   "source": [
    "amp_prog = get_level_input(\"07\")\n",
    "amp_prog = list(map(int, amp_prog.split(',')))\n",
    "#amp_prog = [3,23,3,24,1002,24,10,24,1002,23,-1,23,101,5,23,23,1,24,23,23,4,23,99,0,0] #[3,15,3,16,1002,16,10,16,1,16,15,15,4,15,99,0,0]\n",
    "NUM_AMPS = 5\n",
    "\n",
    "# def run_computer(comp_string, c_i):\n",
    "#     i=0\n",
    "#     last_output = 0\n",
    "#     while(True):\n",
    "#         opcode_and_settings = \"0000\"+str(comp_string[i])\n",
    "#         opcode = int(opcode_and_settings[-2:])\n",
    "#         if(opcode == END): return comp_string, last_output\n",
    "#         input_modes = [int(opcode_and_settings[-3]), int(opcode_and_settings[-4]), int(opcode_and_settings[-5])]\n",
    "        \n",
    "#         window = operation_length[opcode]\n",
    "#         win = comp_string[i: i+window]\n",
    "#         i+=window        \n",
    "#         output = win[-1]\n",
    "#         num_inputs = operation_num_inputs[opcode]\n",
    "#         inputs = [win[j+1] if input_modes[j] else comp_string[win[j+1]] for j in range(operation_num_inputs[opcode])]\n",
    "        \n",
    "#         if(opcode == INPUT): \n",
    "#             inputs = [c_i.pop(0), 0]\n",
    "            \n",
    "#         if(opcode == OUTPUT): \n",
    "#             return comp_string[output]\n",
    "#             continue\n",
    "            \n",
    "#         if(opcode in JUMPS):\n",
    "#             i = {\n",
    "#                 JUMP_IF_TRUE: inputs[1] if inputs[0] != 0 else i,\n",
    "#                 JUMP_IF_FALSE: inputs[1] if inputs[0] == 0 else i, \n",
    "#             }[opcode]\n",
    "            \n",
    "#         else:\n",
    "#             comp_string[output] = {\n",
    "#                 ADD: (inputs[0] + inputs[1]),\n",
    "#                 MULT: (inputs[0] * inputs[1]),\n",
    "#                 INPUT: inputs[0],\n",
    "#                 LESS_THAN: 1 if inputs[0] < inputs[1] else 0, \n",
    "#                 EQUALS: 1 if inputs[0] == inputs[1] else 0 \n",
    "#             }[opcode]"
   ]
  },
  {
   "cell_type": "markdown",
   "metadata": {},
   "source": [
    "## part one"
   ]
  },
  {
   "cell_type": "code",
   "execution_count": 60,
   "metadata": {},
   "outputs": [
    {
     "name": "stdout",
     "output_type": "stream",
     "text": [
      "13\n",
      "31\n",
      "124\n",
      "501\n",
      "12540\n",
      "13\n",
      "31\n",
      "124\n",
      "3115\n",
      "12465\n",
      "13\n",
      "31\n",
      "129\n",
      "516\n",
      "12915\n",
      "13\n",
      "31\n",
      "129\n",
      "3240\n",
      "12960\n",
      "13\n",
      "31\n",
      "790\n",
      "3160\n",
      "12645\n",
      "13\n",
      "31\n",
      "790\n",
      "3165\n",
      "12660\n",
      "13\n",
      "52\n",
      "109\n",
      "441\n",
      "11040\n",
      "13\n",
      "52\n",
      "109\n",
      "2740\n",
      "10965\n",
      "13\n",
      "52\n",
      "213\n",
      "431\n",
      "10790\n",
      "13\n",
      "52\n",
      "213\n",
      "5340\n",
      "10685\n",
      "13\n",
      "52\n",
      "1315\n",
      "2635\n",
      "10545\n",
      "13\n",
      "52\n",
      "1315\n",
      "5265\n",
      "10535\n",
      "13\n",
      "57\n",
      "119\n",
      "476\n",
      "11915\n",
      "13\n",
      "57\n",
      "119\n",
      "2990\n",
      "11960\n",
      "13\n",
      "57\n",
      "228\n",
      "461\n",
      "11540\n",
      "13\n",
      "57\n",
      "228\n",
      "5715\n",
      "11435\n",
      "13\n",
      "57\n",
      "1440\n",
      "2885\n",
      "11540\n",
      "13\n",
      "57\n",
      "1440\n",
      "5760\n",
      "11525\n",
      "13\n",
      "340\n",
      "685\n",
      "2740\n",
      "10965\n",
      "13\n",
      "340\n",
      "685\n",
      "2745\n",
      "10980\n",
      "13\n",
      "340\n",
      "1360\n",
      "2725\n",
      "10905\n",
      "13\n",
      "340\n",
      "1360\n",
      "5445\n",
      "10895\n",
      "13\n",
      "340\n",
      "1365\n",
      "2735\n",
      "10940\n",
      "13\n",
      "340\n",
      "1365\n",
      "5460\n",
      "10925\n",
      "5\n",
      "53\n",
      "212\n",
      "853\n",
      "21340\n",
      "5\n",
      "53\n",
      "212\n",
      "5315\n",
      "21265\n",
      "5\n",
      "53\n",
      "217\n",
      "868\n",
      "21715\n",
      "5\n",
      "53\n",
      "217\n",
      "5440\n",
      "21760\n",
      "5\n",
      "53\n",
      "1340\n",
      "5360\n",
      "21445\n",
      "5\n",
      "53\n",
      "1340\n",
      "5365\n",
      "21460\n",
      "5\n",
      "20\n",
      "173\n",
      "697\n",
      "17440\n",
      "5\n",
      "20\n",
      "173\n",
      "4340\n",
      "17365\n",
      "5\n",
      "20\n",
      "85\n",
      "693\n",
      "17340\n",
      "5\n",
      "20\n",
      "85\n",
      "2140\n",
      "17133\n",
      "5\n",
      "20\n",
      "515\n",
      "4133\n",
      "16537\n",
      "5\n",
      "20\n",
      "515\n",
      "2065\n",
      "16533\n",
      "5\n",
      "25\n",
      "213\n",
      "852\n",
      "21315\n",
      "5\n",
      "25\n",
      "213\n",
      "5340\n",
      "21360\n",
      "5\n",
      "25\n",
      "100\n",
      "813\n",
      "20340\n",
      "5\n",
      "25\n",
      "100\n",
      "2515\n",
      "20133\n",
      "5\n",
      "25\n",
      "640\n",
      "5133\n",
      "20532\n",
      "5\n",
      "25\n",
      "640\n",
      "2560\n",
      "20493\n",
      "5\n",
      "140\n",
      "1133\n",
      "4532\n",
      "18133\n",
      "5\n",
      "140\n",
      "1133\n",
      "4537\n",
      "18148\n",
      "5\n",
      "140\n",
      "560\n",
      "4493\n",
      "17977\n",
      "5\n",
      "140\n",
      "560\n",
      "2245\n",
      "17973\n",
      "5\n",
      "140\n",
      "565\n",
      "4533\n",
      "18132\n",
      "5\n",
      "140\n",
      "565\n",
      "2260\n",
      "18093\n",
      "0\n",
      "13\n",
      "31\n",
      "129\n",
      "3240\n",
      "0\n",
      "13\n",
      "31\n",
      "790\n",
      "3165\n",
      "0\n",
      "13\n",
      "57\n",
      "119\n",
      "2990\n",
      "0\n",
      "13\n",
      "57\n",
      "1440\n",
      "2885\n",
      "0\n",
      "13\n",
      "340\n",
      "685\n",
      "2745\n",
      "0\n",
      "13\n",
      "340\n",
      "1365\n",
      "2735\n",
      "0\n",
      "5\n",
      "53\n",
      "217\n",
      "5440\n",
      "0\n",
      "5\n",
      "53\n",
      "1340\n",
      "5365\n",
      "0\n",
      "5\n",
      "25\n",
      "213\n",
      "5340\n",
      "0\n",
      "5\n",
      "25\n",
      "640\n",
      "5133\n",
      "0\n",
      "5\n",
      "140\n",
      "1133\n",
      "4537\n",
      "0\n",
      "5\n",
      "140\n",
      "565\n",
      "4533\n",
      "0\n",
      "5\n",
      "53\n",
      "111\n",
      "2790\n",
      "0\n",
      "5\n",
      "53\n",
      "1340\n",
      "2685\n",
      "0\n",
      "5\n",
      "15\n",
      "133\n",
      "3340\n",
      "0\n",
      "5\n",
      "15\n",
      "390\n",
      "3133\n",
      "0\n",
      "5\n",
      "140\n",
      "1133\n",
      "2271\n",
      "0\n",
      "5\n",
      "140\n",
      "285\n",
      "2293\n",
      "0\n",
      "15\n",
      "133\n",
      "271\n",
      "1089\n",
      "0\n",
      "15\n",
      "133\n",
      "537\n",
      "1079\n",
      "0\n",
      "15\n",
      "35\n",
      "293\n",
      "1177\n",
      "0\n",
      "15\n",
      "35\n",
      "145\n",
      "1173\n",
      "0\n",
      "15\n",
      "65\n",
      "533\n",
      "1071\n",
      "0\n",
      "15\n",
      "65\n",
      "135\n",
      "1093\n",
      "5\n",
      "53\n",
      "111\n",
      "444\n",
      "11115\n",
      "5\n",
      "53\n",
      "111\n",
      "2790\n",
      "11160\n",
      "5\n",
      "53\n",
      "212\n",
      "429\n",
      "10740\n",
      "5\n",
      "53\n",
      "212\n",
      "5315\n",
      "10635\n",
      "5\n",
      "53\n",
      "1340\n",
      "2685\n",
      "10740\n",
      "5\n",
      "53\n",
      "1340\n",
      "5360\n",
      "10725\n",
      "5\n",
      "15\n",
      "133\n",
      "532\n",
      "13315\n",
      "5\n",
      "15\n",
      "133\n",
      "3340\n",
      "13360\n",
      "5\n",
      "15\n",
      "60\n",
      "493\n",
      "12340\n",
      "5\n",
      "15\n",
      "60\n",
      "1515\n",
      "12133\n",
      "5\n",
      "15\n",
      "390\n",
      "3133\n",
      "12532\n",
      "5\n",
      "15\n",
      "390\n",
      "1560\n",
      "12493\n",
      "5\n",
      "20\n",
      "173\n",
      "351\n",
      "8790\n",
      "5\n",
      "20\n",
      "173\n",
      "4340\n",
      "8685\n",
      "5\n",
      "20\n",
      "45\n",
      "373\n",
      "9340\n",
      "5\n",
      "20\n",
      "45\n",
      "1140\n",
      "9133\n",
      "5\n",
      "20\n",
      "515\n",
      "4133\n",
      "8271\n",
      "5\n",
      "20\n",
      "515\n",
      "1035\n",
      "8293\n",
      "5\n",
      "140\n",
      "1133\n",
      "2271\n",
      "9084\n",
      "5\n",
      "140\n",
      "1133\n",
      "4532\n",
      "9069\n",
      "5\n",
      "140\n",
      "285\n",
      "2293\n",
      "9172\n",
      "5\n",
      "140\n",
      "285\n",
      "1140\n",
      "9133\n",
      "5\n",
      "140\n",
      "560\n",
      "4493\n",
      "8991\n",
      "5\n",
      "140\n",
      "560\n",
      "1125\n",
      "9013\n",
      "15\n",
      "133\n",
      "271\n",
      "1084\n",
      "4341\n",
      "15\n",
      "133\n",
      "271\n",
      "1089\n",
      "4356\n",
      "15\n",
      "133\n",
      "532\n",
      "1069\n",
      "4281\n",
      "15\n",
      "133\n",
      "532\n",
      "2133\n",
      "4271\n",
      "15\n",
      "133\n",
      "537\n",
      "1079\n",
      "4316\n",
      "15\n",
      "133\n",
      "537\n",
      "2148\n",
      "4301\n",
      "15\n",
      "35\n",
      "293\n",
      "1172\n",
      "4693\n",
      "15\n",
      "35\n",
      "293\n",
      "1177\n",
      "4708\n",
      "15\n",
      "35\n",
      "140\n",
      "1133\n",
      "4537\n",
      "15\n",
      "35\n",
      "140\n",
      "565\n",
      "4533\n",
      "15\n",
      "35\n",
      "145\n",
      "1173\n",
      "4692\n",
      "15\n",
      "35\n",
      "145\n",
      "580\n",
      "4653\n",
      "15\n",
      "60\n",
      "493\n",
      "991\n",
      "3969\n",
      "15\n",
      "60\n",
      "493\n",
      "1977\n",
      "3959\n",
      "15\n",
      "60\n",
      "125\n",
      "1013\n",
      "4057\n",
      "15\n",
      "60\n",
      "125\n",
      "505\n",
      "4053\n",
      "15\n",
      "60\n",
      "245\n",
      "1973\n",
      "3951\n",
      "15\n",
      "60\n",
      "245\n",
      "495\n",
      "3973\n",
      "15\n",
      "65\n",
      "533\n",
      "1071\n",
      "4284\n",
      "15\n",
      "65\n",
      "533\n",
      "2132\n",
      "4269\n",
      "15\n",
      "65\n",
      "135\n",
      "1093\n",
      "4372\n",
      "15\n",
      "65\n",
      "135\n",
      "540\n",
      "4333\n",
      "15\n",
      "65\n",
      "260\n",
      "2093\n",
      "4191\n",
      "15\n",
      "65\n",
      "260\n",
      "525\n",
      "4213\n",
      "'RESULT: 21760'\n",
      "\n",
      "'TIME............................................................'\n",
      "CPU times: user 70.2 ms, sys: 19.9 ms, total: 90.1 ms\n",
      "Wall time: 77.5 ms\n"
     ]
    }
   ],
   "source": [
    "%%time\n",
    "\n",
    "amp_pos = list(itertools.permutations(list(range(NUM_AMPS))))\n",
    "\n",
    "max_val = 0\n",
    "\n",
    "for perm in amp_pos:\n",
    "    inputs = [perm[0], 0]\n",
    "    for i in range(NUM_AMPS):\n",
    "        inputs = [perm[i+1] if i+1<NUM_AMPS else 0, intcomp.run_computer(amp_prog[:], inputs)[0]]\n",
    "        if(inputs[1]>max_val):\n",
    "            max_val = inputs[1]\n",
    "        \n",
    "print_result(max_val)"
   ]
  },
  {
   "cell_type": "markdown",
   "metadata": {},
   "source": [
    "## part two"
   ]
  },
  {
   "cell_type": "code",
   "execution_count": 47,
   "metadata": {},
   "outputs": [
    {
     "ename": "NameError",
     "evalue": "name 'END' is not defined",
     "output_type": "error",
     "traceback": [
      "\u001b[0;31m---------------------------------------------------------------------------\u001b[0m",
      "\u001b[0;31mNameError\u001b[0m                                 Traceback (most recent call last)",
      "\u001b[0;32m<timed exec>\u001b[0m in \u001b[0;36m<module>\u001b[0;34m\u001b[0m\n",
      "\u001b[0;32m<timed exec>\u001b[0m in \u001b[0;36mrun_computer\u001b[0;34m(ip, comp_string, c_i)\u001b[0m\n",
      "\u001b[0;31mNameError\u001b[0m: name 'END' is not defined"
     ]
    }
   ],
   "source": [
    "%%time\n",
    "\n",
    "#amp_prog = [3,26,1001,26,-4,26,3,27,1002,27,2,27,1,27,26,27,4,27,1001,28,-1,28,1005,28,6,99,0,0,5]\n",
    "\n",
    "def run_computer(ip, comp_string, c_i):\n",
    "    while(True):\n",
    "        opcode_and_settings = \"0000\"+str(comp_string[ip])\n",
    "        opcode = int(opcode_and_settings[-2:])\n",
    "        if(opcode == END): \n",
    "            return -1, ip, c_i\n",
    "        \n",
    "        input_modes = [int(opcode_and_settings[-3]), int(opcode_and_settings[-4]), int(opcode_and_settings[-5])]\n",
    "        \n",
    "        window = operation_length[opcode]\n",
    "        win = comp_string[ip: ip+window]\n",
    "        ip += window\n",
    "        \n",
    "        output = win[-1]\n",
    "        num_inputs = operation_num_inputs[opcode]\n",
    "        inputs_prog = [win[i+1] if input_modes[i] else comp_string[win[i+1]] for i in range(operation_num_inputs[opcode])] \n",
    "        if(opcode == INPUT): \n",
    "            inputs_prog = [c_i.pop(0), 0]\n",
    "        if(opcode == OUTPUT): \n",
    "            return comp_string[output], ip, c_i\n",
    "            \n",
    "        if(opcode in JUMPS):\n",
    "            ip = {\n",
    "                JUMP_IF_TRUE: inputs_prog[1] if inputs_prog[0] != 0 else ip,\n",
    "                JUMP_IF_FALSE: inputs_prog[1] if inputs_prog[0] == 0 else ip, \n",
    "            }[opcode]\n",
    "        else:\n",
    "            comp_string[output] = {\n",
    "                ADD: (inputs_prog[0] + inputs_prog[1]),\n",
    "                MULT: (inputs_prog[0] * inputs_prog[1]),\n",
    "                INPUT: inputs_prog[0],\n",
    "                LESS_THAN: 1 if inputs_prog[0] < inputs_prog[1] else 0, \n",
    "                EQUALS: 1 if inputs_prog[0] == inputs_prog[1] else 0 \n",
    "            }[opcode]\n",
    "\n",
    "amp_pos = list(itertools.permutations(list(range(NUM_AMPS, NUM_AMPS+5))))\n",
    "\n",
    "signals = []\n",
    "for perm in amp_pos:\n",
    "    i = 0\n",
    "    inputs = [[perm[j]] for j in range(NUM_AMPS)]\n",
    "    inputs[0].append(0)\n",
    "    last_e = 0\n",
    "    amp_progs = [deepcopy(amp_prog) for j in range(NUM_AMPS)]\n",
    "    ips = [0 for j in range(NUM_AMPS)]\n",
    "    while(True):\n",
    "        output, ips[i%NUM_AMPS],inputs[i%NUM_AMPS] = run_computer(ips[i%NUM_AMPS], amp_progs[i%NUM_AMPS], inputs[i%NUM_AMPS])\n",
    "        if output == -1:\n",
    "            break\n",
    "        if(i%NUM_AMPS == 4):\n",
    "            last_e = output\n",
    "        i+=1\n",
    "        inputs[i%NUM_AMPS].append(output)\n",
    "    signals.append(last_e)\n",
    "        \n",
    "print_result(max(signals))"
   ]
  },
  {
   "cell_type": "markdown",
   "metadata": {},
   "source": [
    "# 8"
   ]
  },
  {
   "cell_type": "markdown",
   "metadata": {},
   "source": [
    "## setup "
   ]
  },
  {
   "cell_type": "code",
   "execution_count": 52,
   "metadata": {},
   "outputs": [],
   "source": [
    "img = list(get_level_input(\"08\"))\n",
    "img = list(map(int, img))\n",
    "IMG_W = 25\n",
    "IMG_H = 6"
   ]
  },
  {
   "cell_type": "markdown",
   "metadata": {},
   "source": [
    "## part one"
   ]
  },
  {
   "cell_type": "code",
   "execution_count": 95,
   "metadata": {},
   "outputs": [
    {
     "name": "stdout",
     "output_type": "stream",
     "text": [
      "(100, 6, 25)\n",
      "1360\n"
     ]
    }
   ],
   "source": [
    "arr_img = np.array(img)\n",
    "lay_img = np.reshape(arr_img, (-1, IMG_H, IMG_W))\n",
    "\n",
    "print(lay_img.shape)\n",
    "\n",
    "max_zero_index = np.argmin([(lay_img[i,:,:]==0).sum() for i in range(lay_img.shape[0])])\n",
    "\n",
    "max_zero_layer = lay_img[max_zero_index, :, :]\n",
    "NUM_1_BY_2 = (max_zero_layer == 1).sum() * (max_zero_layer == 2).sum()\n",
    "print(NUM_1_BY_2)"
   ]
  },
  {
   "cell_type": "markdown",
   "metadata": {},
   "source": [
    "## part two"
   ]
  },
  {
   "cell_type": "code",
   "execution_count": 103,
   "metadata": {},
   "outputs": [
    {
     "name": "stdout",
     "output_type": "stream",
     "text": [
      "XXXX.XXX..X..X..XX..XXX..\n",
      "X....X..X.X..X.X..X.X..X.\n",
      "XXX..X..X.X..X.X..X.X..X.\n",
      "X....XXX..X..X.XXXX.XXX..\n",
      "X....X....X..X.X..X.X.X..\n",
      "X....X.....XX..X..X.X..X.\n"
     ]
    }
   ],
   "source": [
    "BLACK = 0 \n",
    "WHITE = 1 \n",
    "TRANS = 2\n",
    "\n",
    "arr_img = np.array(img)\n",
    "lay_img = np.reshape(arr_img, (-1, IMG_H, IMG_W))\n",
    "\n",
    "final_image = np.full((IMG_H, IMG_W), 2)\n",
    "\n",
    "spears = [lay_img[:, col, row] for col in range(lay_img.shape[1]) for row in range(lay_img.shape[2])]\n",
    "\n",
    "first_non_transparent = [spear[np.argmax(spear!=2)] for spear in spears]\n",
    "message = np.array(first_non_transparent).reshape((IMG_H, IMG_W))\n",
    "for row in message:\n",
    "    row = np.where(row==0, '.', row) \n",
    "    row = np.where(row=='1', 'X', row) \n",
    "    print(\"\".join(row))"
   ]
  },
  {
   "cell_type": "markdown",
   "metadata": {},
   "source": [
    "# 9"
   ]
  },
  {
   "cell_type": "markdown",
   "metadata": {},
   "source": [
    "## setup"
   ]
  },
  {
   "cell_type": "code",
   "execution_count": 13,
   "metadata": {},
   "outputs": [],
   "source": [
    "# GET LEVEL INPUT\n",
    "amp_prog = get_level_input(\"09\")\n",
    "amp_prog = list(map(int, amp_prog.split(',')))\n",
    "amp_prog = tuple(amp_prog)\n",
    "\n",
    "# OPCODES\n",
    "ADD = 1\n",
    "MULT = 2\n",
    "INPUT = 3\n",
    "OUTPUT = 4\n",
    "JUMP_IF_TRUE = 5\n",
    "JUMP_IF_FALSE = 6 \n",
    "LESS_THAN = 7 \n",
    "EQUALS = 8\n",
    "ADJUST_REL_BASE = 9\n",
    "END = 99\n",
    "\n",
    "# OPCODE to OPNAME\n",
    "\n",
    "OPNAME = {\n",
    "    1: 'add',\n",
    "    2: 'mult',\n",
    "    3: 'input',\n",
    "    4: 'output',\n",
    "    5: 'jump if true',\n",
    "    6: 'jump if false', \n",
    "    7: 'less than', \n",
    "    8: 'equal',\n",
    "    9: 'adjust rel base',\n",
    "    99: 'end'    \n",
    "}\n",
    "# MODES\n",
    "POS_MODE = 0\n",
    "IM_MODE = 1\n",
    "REL_MODE = 2\n",
    "\n",
    "MODE_NAME = {\n",
    "    0: 'POSITION',\n",
    "    1: 'IMMEDIATE',\n",
    "    2: 'RELATIVE'\n",
    "}\n",
    "# OP_FEATURES\n",
    "operation_length = {\n",
    "    ADD: 4, \n",
    "    MULT: 4, \n",
    "    INPUT: 2, \n",
    "    OUTPUT: 2, \n",
    "    END: 1, \n",
    "    JUMP_IF_TRUE: 3, \n",
    "    JUMP_IF_FALSE: 3, \n",
    "    LESS_THAN: 4, \n",
    "    EQUALS: 4,\n",
    "    ADJUST_REL_BASE: 2\n",
    "}\n",
    "\n",
    "operation_num_inputs = {\n",
    "    ADD: 3, \n",
    "    MULT: 3, \n",
    "    INPUT: 1, \n",
    "    OUTPUT: 1, \n",
    "    JUMP_IF_TRUE: 2, \n",
    "    JUMP_IF_FALSE: 2, \n",
    "    LESS_THAN: 3, \n",
    "    EQUALS: 3,\n",
    "    ADJUST_REL_BASE: 1\n",
    "}\n",
    "\n",
    "# JUMP SET\n",
    "JUMPS = { JUMP_IF_TRUE, JUMP_IF_FALSE }\n",
    "\n",
    "WRITES = {ADD, MULT, INPUT, LESS_THAN, EQUALS}\n",
    "\n",
    "# DISPLAY FUNCITONS\n",
    "def print_computer(comp_string):\n",
    "    for i in range(0, len(comp_string), 10):\n",
    "        print(f\"[{i}]    {comp_string[i:i+10]}\")\n",
    " \n",
    "def print_step(opcode, win, input_modes, inputs, output, rel_base):\n",
    "    print(f\"{OPNAME[opcode]}\")\n",
    "    print(f\"win: {win}\")\n",
    "    print(f\"input modes: {[MODE_NAME[i] for i in input_modes]}\")\n",
    "    print(f\"inputs: {inputs}\")    \n",
    "    print(f\"output: {output}\")\n",
    "    print(f\"rel base: {rel_base}\\n\")\n",
    "          \n",
    "# TESTS\n",
    "tests = {\n",
    "    (109,1,204,-1,1001,100,1,100,1008,100,16,101,1006,101,0,99): [109,1,204,-1,1001,100,1,100,1008,100,16,101,1006,101,0,99],\n",
    "    (109, -1, 4, 1, 99): [-1], \n",
    "    (109, -1, 104, 1, 99): [1],\n",
    "    (109, -1, 204, 1, 99): [109],\n",
    "    (109, 1, 9, 2, 204, -6, 99): [204],\n",
    "    (109, 1, 109, 9, 204, -6, 99): [204],\n",
    "    (109, 1, 209, -1, 204, -106, 99): [204], \n",
    "    (109, 1, 3, 3, 204, 2, 99): [1000], #input value\n",
    "    (109, 1, 203, 2, 204, 2, 99): [1000], # input value\n",
    "    (104,1125899906842624,99): [1125899906842624], \n",
    "}\n",
    "\n",
    "def run_computer(comp_string, c_i, ip = 0, rel_base = 0):\n",
    "    while(True):\n",
    "        opcode_and_settings = str(comp_string[ip]).zfill(5)\n",
    "        opcode = int(opcode_and_settings[-2:])\n",
    "        \n",
    "        if(opcode == END): \n",
    "            return 'ENDED GRACEFULLY'\n",
    "        \n",
    "        input_modes = [int(opcode_and_settings[-3]), int(opcode_and_settings[-4]), int(opcode_and_settings[-5])]\n",
    "        \n",
    "        window = operation_length[opcode]\n",
    "        win = comp_string[ip: ip+window]\n",
    "        ip += window\n",
    "        \n",
    "        num_inputs = operation_num_inputs[opcode]\n",
    "        inputs_prog = [win[i+1] if input_modes[i]==IM_MODE\n",
    "            else comp_string[rel_base+win[i+1]] if input_modes[i]==REL_MODE\n",
    "            else comp_string[win[i+1]]\n",
    "            for i in range(operation_num_inputs[opcode]-1)]\n",
    "        \n",
    "        # WRITE OPERATIONS LOCATIONS (OUTPUT) NEVER IN POSITION MODE\n",
    "        if(opcode in WRITES):\n",
    "            inputs_prog.append(rel_base+win[-1] if input_modes[operation_num_inputs[opcode]-1]==REL_MODE else win[-1])\n",
    "        else:\n",
    "            inputs_prog.append(win[-1] if input_modes[operation_num_inputs[opcode]-1]==IM_MODE else comp_string[rel_base+win[-1]] if input_modes[operation_num_inputs[opcode]-1]==REL_MODE else comp_string[win[-1]]) \n",
    "         \n",
    "        if(opcode == INPUT): \n",
    "            inputs_prog.insert(0,c_i.pop(0))\n",
    "        \n",
    "        if(opcode == OUTPUT): \n",
    "            print(inputs_prog[-1])\n",
    "            continue\n",
    "    \n",
    "        if(opcode in JUMPS):\n",
    "            ip = {\n",
    "                JUMP_IF_TRUE: inputs_prog[1] if inputs_prog[0] != 0 else ip,\n",
    "                JUMP_IF_FALSE: inputs_prog[1] if inputs_prog[0] == 0 else ip, \n",
    "            }[opcode]\n",
    "            \n",
    "        elif(opcode == ADJUST_REL_BASE):\n",
    "            rel_base = {\n",
    "                ADJUST_REL_BASE: rel_base+inputs_prog[0]\n",
    "            }[opcode]\n",
    "            \n",
    "        else:\n",
    "            comp_string[inputs_prog[-1]] = {\n",
    "                ADD: (inputs_prog[0] + inputs_prog[1]),\n",
    "                MULT: (inputs_prog[0] * inputs_prog[1]),\n",
    "                INPUT: inputs_prog[0],\n",
    "                LESS_THAN: 1 if inputs_prog[0] < inputs_prog[1] else 0, \n",
    "                EQUALS: 1 if inputs_prog[0] == inputs_prog[1] else 0 \n",
    "            }[opcode]\n"
   ]
  },
  {
   "cell_type": "markdown",
   "metadata": {},
   "source": [
    "## part one"
   ]
  },
  {
   "cell_type": "code",
   "execution_count": 14,
   "metadata": {},
   "outputs": [
    {
     "name": "stdout",
     "output_type": "stream",
     "text": [
      "2204990589\n",
      "CPU times: user 1.51 ms, sys: 86 µs, total: 1.6 ms\n",
      "Wall time: 1.59 ms\n"
     ]
    },
    {
     "data": {
      "text/plain": [
       "'ENDED GRACEFULLY'"
      ]
     },
     "execution_count": 14,
     "metadata": {},
     "output_type": "execute_result"
    }
   ],
   "source": [
    "%%time\n",
    "BOOST_INPUT = 1\n",
    "\n",
    "run_computer(list(amp_prog)+[0 for x in range(9999)], [BOOST_INPUT])"
   ]
  },
  {
   "cell_type": "markdown",
   "metadata": {},
   "source": [
    "## part two "
   ]
  },
  {
   "cell_type": "code",
   "execution_count": 15,
   "metadata": {},
   "outputs": [
    {
     "name": "stdout",
     "output_type": "stream",
     "text": [
      "50008\n",
      "CPU times: user 1.21 s, sys: 5.68 ms, total: 1.21 s\n",
      "Wall time: 1.22 s\n"
     ]
    },
    {
     "data": {
      "text/plain": [
       "'ENDED GRACEFULLY'"
      ]
     },
     "execution_count": 15,
     "metadata": {},
     "output_type": "execute_result"
    }
   ],
   "source": [
    "%%time\n",
    "SENSOR_MODE = 2\n",
    "\n",
    "run_computer(list(amp_prog)+[0 for x in range(9999)], [SENSOR_MODE])"
   ]
  },
  {
   "cell_type": "markdown",
   "metadata": {},
   "source": [
    "# 10 "
   ]
  },
  {
   "cell_type": "markdown",
   "metadata": {},
   "source": [
    "## setup "
   ]
  },
  {
   "cell_type": "code",
   "execution_count": 8,
   "metadata": {},
   "outputs": [],
   "source": [
    "asteroids = get_level_input(\"10\").splitlines()\n",
    "asteroid_grid = np.array([np.array(list(belt)) for belt in asteroids])\n",
    "asteroid_set = frozenset(zip(*np.where(asteroid_grid == '#')[::-1]))\n",
    "\n",
    "X = 0\n",
    "Y = 1\n",
    "\n",
    "sort_order = {\n",
    "    '+': 1,\n",
    "    '-': -1\n",
    "}\n",
    "\n",
    "def calc_slope(p1, p2):\n",
    "    if(p1[X]-p2[X] == 0):\n",
    "        return (np.inf, '+' if (p1[Y]-p2[Y]) < 0 else '-')\n",
    "    if(p1[Y]-p2[Y]==0):\n",
    "        return (0, '-' if (p1[X]-p2[X]) > 0 else '+')\n",
    "    return ((p1[Y]-p2[Y])/(p1[X]-p2[X]), '-' if (p1[X]-p2[X]) > 0 else '+')"
   ]
  },
  {
   "cell_type": "markdown",
   "metadata": {},
   "source": [
    "## part one"
   ]
  },
  {
   "cell_type": "code",
   "execution_count": 10,
   "metadata": {},
   "outputs": [
    {
     "name": "stdout",
     "output_type": "stream",
     "text": [
      "'RESULT: 284 asteroids visible at (20, 19)'\n",
      "\n",
      "'TIME............................................................'\n",
      "CPU times: user 259 ms, sys: 6.86 ms, total: 265 ms\n",
      "Wall time: 266 ms\n"
     ]
    }
   ],
   "source": [
    "%%time\n",
    "\n",
    "visible_sets = [(asteroid, set(map(calc_slope, itertools.repeat(asteroid), asteroid_set-{asteroid}))) for asteroid in asteroid_set]\n",
    "  \n",
    "monitoring_location, visible_asteroids = max(visible_sets, key = lambda x: len(x[1]))\n",
    "print_result(f\"{len(visible_asteroids)} asteroids visible at {monitoring_location}\")"
   ]
  },
  {
   "cell_type": "markdown",
   "metadata": {},
   "source": [
    "## part two "
   ]
  },
  {
   "cell_type": "code",
   "execution_count": 24,
   "metadata": {},
   "outputs": [
    {
     "name": "stdout",
     "output_type": "stream",
     "text": [
      "'RESULT: 404'\n",
      "\n",
      "'TIME............................................................'\n",
      "CPU times: user 2.83 ms, sys: 363 µs, total: 3.19 ms\n",
      "Wall time: 2.87 ms\n"
     ]
    }
   ],
   "source": [
    "%%time\n",
    "MONITORING_STATION = (20, 19)\n",
    "REMAINING_ASTEROIDS = asteroid_set-{MONITORING_STATION}\n",
    "\n",
    "def l1(p1, p2):\n",
    "    return abs(p1[X]-p2[X])+abs(p1[Y]-p2[Y])\n",
    "\n",
    "def calc_slope_and_dist(p1, p2):\n",
    "    dist = l1(p1,p2)\n",
    "    if(p1[X]-p2[X] == 0):\n",
    "        return (np.inf, '+' if (p1[Y]-p2[Y]) > 0 else '-', dist)\n",
    "    if(p1[Y]-p2[Y]==0):\n",
    "        return (0, '-' if (p1[X]-p2[X]) > 0 else '+', dist)\n",
    "    return (-(p1[Y]-p2[Y])/(p1[X]-p2[X]), '-' if (p1[X]-p2[X]) > 0 else '+', dist)\n",
    "\n",
    "visible_list = [(asteroid, calc_slope_and_dist(MONITORING_STATION, asteroid)) for asteroid in REMAINING_ASTEROIDS]\n",
    "visible_list.sort(key=lambda k: (sort_order[k[1][1]], k[1][0], -k[1][2]), reverse=True)\n",
    "\n",
    "visible_stacked = [list(g) for k, g in itertools.groupby(visible_list, key=lambda k: k[1][:1])]\n",
    "two_hundredth_vape = visible_stacked[199][0][0]\n",
    "\n",
    "output_val = two_hundredth_vape[0]*100+two_hundredth_vape[1]\n",
    "\n",
    "print_result(output_val)"
   ]
  },
  {
   "cell_type": "markdown",
   "metadata": {},
   "source": [
    "# 11 "
   ]
  },
  {
   "cell_type": "markdown",
   "metadata": {},
   "source": [
    "## setup "
   ]
  },
  {
   "cell_type": "code",
   "execution_count": 2,
   "metadata": {},
   "outputs": [
    {
     "ename": "SyntaxError",
     "evalue": "invalid syntax (<ipython-input-2-428b7f29a61e>, line 4)",
     "output_type": "error",
     "traceback": [
      "\u001b[0;36m  File \u001b[0;32m\"<ipython-input-2-428b7f29a61e>\"\u001b[0;36m, line \u001b[0;32m4\u001b[0m\n\u001b[0;31m    import incode_comp/intcomp\u001b[0m\n\u001b[0m                      ^\u001b[0m\n\u001b[0;31mSyntaxError\u001b[0m\u001b[0;31m:\u001b[0m invalid syntax\n"
     ]
    }
   ],
   "source": [
    "paint_prog = get_level_input(\"11\")\n",
    "paint_prog = list(map(int, paint_prog.split(',')))\n",
    "paint_prog = tuple(paint_prog)\n",
    "import incode_comp/intcomp"
   ]
  },
  {
   "cell_type": "code",
   "execution_count": null,
   "metadata": {},
   "outputs": [],
   "source": []
  }
 ],
 "metadata": {
  "kernelspec": {
   "display_name": "Python 3",
   "language": "python",
   "name": "python3"
  },
  "language_info": {
   "codemirror_mode": {
    "name": "ipython",
    "version": 3
   },
   "file_extension": ".py",
   "mimetype": "text/x-python",
   "name": "python",
   "nbconvert_exporter": "python",
   "pygments_lexer": "ipython3",
   "version": "3.7.5"
  }
 },
 "nbformat": 4,
 "nbformat_minor": 4
}
