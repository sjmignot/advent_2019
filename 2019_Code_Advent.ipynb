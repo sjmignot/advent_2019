{
 "cells": [
  {
   "cell_type": "markdown",
   "metadata": {},
   "source": [
    "# SETUP"
   ]
  },
  {
   "cell_type": "markdown",
   "metadata": {},
   "source": [
    "## imports"
   ]
  },
  {
   "cell_type": "code",
   "execution_count": 1,
   "metadata": {},
   "outputs": [],
   "source": [
    "import string\n",
    "import numpy as np\n",
    "from itertools import cycle\n",
    "import requests\n",
    "import collections\n",
    "from collections import deque\n",
    "from pprint import pprint\n",
    "import operator\n",
    "from time import sleep\n",
    "import itertools\n",
    "import re\n",
    "from functools import reduce\n",
    "from dataclasses import dataclass\n",
    "from copy import deepcopy\n",
    "import networkx as nx\n",
    "import matplotlib.pyplot as plt"
   ]
  },
  {
   "cell_type": "markdown",
   "metadata": {},
   "source": [
    "## constants"
   ]
  },
  {
   "cell_type": "code",
   "execution_count": 2,
   "metadata": {},
   "outputs": [],
   "source": [
    "lowercase = string.ascii_lowercase\n",
    "uppercase = string.ascii_uppercase"
   ]
  },
  {
   "cell_type": "markdown",
   "metadata": {},
   "source": [
    "## helpers"
   ]
  },
  {
   "cell_type": "code",
   "execution_count": 3,
   "metadata": {},
   "outputs": [],
   "source": [
    "def get_level_input(lvl_num):\n",
    "    with open(f\"advent_inputs/{lvl_num}.txt\") as f:\n",
    "        level_input=f.read()\n",
    "        return level_input\n",
    "    \n",
    "def print_result(answer):\n",
    "    pprint(\"RESULT: \"+str(answer))\n",
    "    print()\n",
    "    pprint(\"TIME\"+\".\"*60)\n",
    "    \n",
    "class StopExecution(Exception):\n",
    "    def _render_traceback_(self):\n",
    "        pass"
   ]
  },
  {
   "cell_type": "markdown",
   "metadata": {},
   "source": [
    "## INTCODE COMPUTER SPECS"
   ]
  },
  {
   "cell_type": "code",
   "execution_count": 18,
   "metadata": {},
   "outputs": [],
   "source": [
    "ADD = 1\n",
    "MULT = 2\n",
    "INPUT = 3\n",
    "OUTPUT = 4\n",
    "JUMP_IF_TRUE = 5\n",
    "JUMP_IF_FALSE = 6 \n",
    "LESS_THAN = 7 \n",
    "EQUALS = 8\n",
    "\n",
    "END = 99\n",
    "\n",
    "operation_length = {\n",
    "    ADD: 4, \n",
    "    MULT: 4, \n",
    "    INPUT: 2, \n",
    "    OUTPUT: 2, \n",
    "    END: 1, \n",
    "    JUMP_IF_TRUE: 3, \n",
    "    JUMP_IF_FALSE: 3, \n",
    "    LESS_THAN: 4, \n",
    "    EQUALS: 4\n",
    "}\n",
    "\n",
    "operation_num_inputs = {\n",
    "    ADD: 2, \n",
    "    MULT: 2, \n",
    "    INPUT: 0, \n",
    "    OUTPUT: 0, \n",
    "    JUMP_IF_TRUE: 2, \n",
    "    JUMP_IF_FALSE: 2, \n",
    "    LESS_THAN: 2, \n",
    "    EQUALS: 2\n",
    "}\n",
    "\n",
    "JUMPS = { JUMP_IF_TRUE, JUMP_IF_FALSE }\n",
    "\n",
    "comp_string = get_level_input(\"05\")\n",
    "comp_string = list(map(int, comp_string.split(',')))\n",
    "\n",
    "def print_computer(comp_string):\n",
    "    for i in range(0, len(comp_string), 10):\n",
    "        print(f\"[{i}]    {comp_string[i:i+10]}\")\n",
    " \n",
    "def print_step(win, inputs, output):\n",
    "    print(f\"win: {win}\")\n",
    "    print(f\"inputs: {inputs}\")    \n",
    "    print(f\"output: {output}\")"
   ]
  },
  {
   "cell_type": "markdown",
   "metadata": {},
   "source": [
    "# 1"
   ]
  },
  {
   "cell_type": "markdown",
   "metadata": {},
   "source": [
    "## setup"
   ]
  },
  {
   "cell_type": "code",
   "execution_count": 5,
   "metadata": {},
   "outputs": [],
   "source": [
    "module_weights = get_level_input(\"01\").splitlines()\n",
    "module_weights = list(map(int, module_weights))"
   ]
  },
  {
   "cell_type": "markdown",
   "metadata": {},
   "source": [
    "## part one"
   ]
  },
  {
   "cell_type": "code",
   "execution_count": 6,
   "metadata": {},
   "outputs": [
    {
     "name": "stdout",
     "output_type": "stream",
     "text": [
      "'RESULT: 3432671'\n",
      "\n",
      "'TIME............................................................'\n",
      "CPU times: user 421 µs, sys: 105 µs, total: 526 µs\n",
      "Wall time: 472 µs\n"
     ]
    }
   ],
   "source": [
    "%%time\n",
    "total_weight = sum([x//3 - 2 for x in module_weights])\n",
    "print_result(total_weight)"
   ]
  },
  {
   "cell_type": "markdown",
   "metadata": {},
   "source": [
    "## part two"
   ]
  },
  {
   "cell_type": "code",
   "execution_count": 67,
   "metadata": {},
   "outputs": [
    {
     "name": "stdout",
     "output_type": "stream",
     "text": [
      "'RESULT: 5146132'\n",
      "\n",
      "'TIME............................................................'\n",
      "CPU times: user 1.14 ms, sys: 284 µs, total: 1.42 ms\n",
      "Wall time: 1.19 ms\n"
     ]
    }
   ],
   "source": [
    "%%time\n",
    "\n",
    "def weight_of_weight_gen(m_weight):\n",
    "    while m_weight>0:\n",
    "        yield m_weight\n",
    "        m_weight = m_weight//3 - 2\n",
    "    \n",
    "def get_req_fuel(m_weight): \n",
    "    return sum([i for i in weight_of_weight_gen(m_weight)][1:])\n",
    "    \n",
    "total_weight = sum([get_req_fuel(x) for x in module_weights])\n",
    "print_result(total_weight)"
   ]
  },
  {
   "cell_type": "markdown",
   "metadata": {},
   "source": [
    "# 2"
   ]
  },
  {
   "cell_type": "markdown",
   "metadata": {},
   "source": [
    "## setup"
   ]
  },
  {
   "cell_type": "code",
   "execution_count": 124,
   "metadata": {},
   "outputs": [],
   "source": [
    "OPCODE = 0\n",
    "INPUT_1 = 1\n",
    "INPUT_2 = 2\n",
    "OUTPUT = 3\n",
    "WINDOW = 4\n",
    "\n",
    "comp_string = get_level_input(\"02\")\n",
    "comp_string = list(map(int, comp_string.split(',')))\n",
    "# comp_string = [1,9,10,3,2,3,11,0,99,30,40,50]\n"
   ]
  },
  {
   "cell_type": "markdown",
   "metadata": {},
   "source": [
    "## part one"
   ]
  },
  {
   "cell_type": "code",
   "execution_count": 125,
   "metadata": {},
   "outputs": [
    {
     "name": "stdout",
     "output_type": "stream",
     "text": [
      "'RESULT: 5290681'\n",
      "\n",
      "'TIME............................................................'\n",
      "CPU times: user 425 µs, sys: 284 µs, total: 709 µs\n",
      "Wall time: 464 µs\n"
     ]
    }
   ],
   "source": [
    "%%time\n",
    "\n",
    "def run_computer(comp_string):\n",
    "    comp_string[1] = 12\n",
    "    comp_string[2] = 2\n",
    "    comp_len = len(comp_string)\n",
    "    for i in range(0, len(comp_string), 4):\n",
    "        win = comp_string[i:i+WINDOW]\n",
    "        if(win[OPCODE] == END): return comp_string\n",
    "        assert(all(x < comp_len for x in win))\n",
    "        comp_string[win[OUTPUT]] = {\n",
    "            ADD: comp_string[win[INPUT_1]]+comp_string[win[INPUT_2]],\n",
    "            MULT: comp_string[win[INPUT_1]]*comp_string[win[INPUT_2]]\n",
    "        }[win[OPCODE]]\n",
    "    \n",
    "print_result(run_computer(list(comp_string))[0])"
   ]
  },
  {
   "cell_type": "markdown",
   "metadata": {},
   "source": [
    "## part two "
   ]
  },
  {
   "cell_type": "code",
   "execution_count": 188,
   "metadata": {},
   "outputs": [
    {
     "name": "stdout",
     "output_type": "stream",
     "text": [
      "'RESULT: 5741'\n",
      "\n",
      "'TIME............................................................'\n",
      "CPU times: user 295 ms, sys: 2.75 ms, total: 298 ms\n",
      "Wall time: 298 ms\n"
     ]
    }
   ],
   "source": [
    "%%time\n",
    "\n",
    "TARGET = 19690720\n",
    "\n",
    "def run_computer(comp_string, noun, verb):\n",
    "    comp_string[1] = noun \n",
    "    comp_string[2] = verb \n",
    "    comp_len = len(comp_string)\n",
    "    for i in range(0, len(comp_string), 4):\n",
    "        win = comp_string[i:i+WINDOW]\n",
    "        if(win[OPCODE] == END): return comp_string[0]\n",
    "        if(not all(x < comp_len for x in win)): return -1\n",
    "        comp_string[win[OUTPUT]] = {\n",
    "            ADD: comp_string[win[INPUT_1]]+comp_string[win[INPUT_2]],\n",
    "            MULT: comp_string[win[INPUT_1]]*comp_string[win[INPUT_2]]\n",
    "        }[win[OPCODE]]\n",
    "    \n",
    "def find_noun_verb(comp_string):\n",
    "    for i in range(100):\n",
    "        for j in range(100):\n",
    "            res = run_computer(list(comp_string), i, j) \n",
    "            if res == -1: continue \n",
    "            if(res == TARGET): return i,j\n",
    "\n",
    "noun, verb = find_noun_verb(list(comp_string))\n",
    "\n",
    "print_result(100 * noun + verb)"
   ]
  },
  {
   "cell_type": "markdown",
   "metadata": {},
   "source": [
    "# 3"
   ]
  },
  {
   "cell_type": "markdown",
   "metadata": {},
   "source": [
    "## setup"
   ]
  },
  {
   "cell_type": "code",
   "execution_count": 87,
   "metadata": {},
   "outputs": [],
   "source": [
    "wires_input = get_level_input(\"03\").splitlines()\n",
    "wires_input = [x.split(',') for x in wires_input]\n",
    "\n",
    "X = 1\n",
    "Y = 0\n",
    "CENTER_POINT = (0,0)\n",
    "\n",
    "def md(p1, p2):\n",
    "    return (abs(p1[X]-p2[X]) + abs(p1[Y]-p2[Y]))"
   ]
  },
  {
   "cell_type": "markdown",
   "metadata": {},
   "source": [
    "## part one"
   ]
  },
  {
   "cell_type": "code",
   "execution_count": 88,
   "metadata": {},
   "outputs": [
    {
     "name": "stdout",
     "output_type": "stream",
     "text": [
      "'RESULT: 225'\n",
      "\n",
      "'TIME............................................................'\n",
      "CPU times: user 271 ms, sys: 5.11 ms, total: 276 ms\n",
      "Wall time: 276 ms\n"
     ]
    }
   ],
   "source": [
    "%%time\n",
    "\n",
    "def generate_wire(instructions):\n",
    "    wire = [CENTER_POINT]\n",
    "    for x in instructions:\n",
    "        cur_point = wire[-1]\n",
    "        wire += {\n",
    "         'U': [(cur_point[Y]-i, cur_point[X]) for i in range(1, int(x[1:])+1)],\n",
    "         'D': [(cur_point[Y]+i, cur_point[X]) for i in range(1, int(x[1:])+1)],\n",
    "         'L': [(cur_point[Y], cur_point[X]-i) for i in range(1, int(x[1:])+1)],\n",
    "         'R': [(cur_point[Y], cur_point[X]+i) for i in range(1, int(x[1:])+1)]\n",
    "        }[x[0]]\n",
    "    return wire\n",
    "                                  \n",
    "    \n",
    "wires = [set(generate_wire(w_i))-{CENTER_POINT} for w_i in wires_input]\n",
    "res = min([md(x, CENTER_POINT) for x in set.intersection(*wires)])\n",
    "print_result(res)"
   ]
  },
  {
   "cell_type": "markdown",
   "metadata": {},
   "source": [
    "## part two"
   ]
  },
  {
   "cell_type": "code",
   "execution_count": 142,
   "metadata": {},
   "outputs": [
    {
     "name": "stdout",
     "output_type": "stream",
     "text": [
      "'RESULT: 35194'\n",
      "\n",
      "'TIME............................................................'\n",
      "CPU times: user 358 ms, sys: 4.02 ms, total: 362 ms\n",
      "Wall time: 362 ms\n"
     ]
    }
   ],
   "source": [
    "%%time\n",
    "\n",
    "wires = [generate_wire(w_i) for w_i in wires_input]\n",
    "intersections = set.intersection(*[set(wire) for wire in wires])-{CENTER_POINT}\n",
    "res = min([wires[0].index(x)+wires[1].index(x) for x in intersections])\n",
    "print_result(res)"
   ]
  },
  {
   "cell_type": "code",
   "execution_count": null,
   "metadata": {},
   "outputs": [],
   "source": [
    "# 4"
   ]
  },
  {
   "cell_type": "code",
   "execution_count": null,
   "metadata": {},
   "outputs": [],
   "source": [
    "## setup"
   ]
  },
  {
   "cell_type": "code",
   "execution_count": 140,
   "metadata": {},
   "outputs": [],
   "source": [
    "r_low, r_high = map(int, get_level_input(\"04\").split(\"-\"))\n",
    "\n",
    "def check_value(val, functions):\n",
    "    num_list = [int(i) for i in list(str(val))]\n",
    "    return (all(f(num_list) for f in functions))"
   ]
  },
  {
   "cell_type": "markdown",
   "metadata": {},
   "source": [
    "## part one"
   ]
  },
  {
   "cell_type": "code",
   "execution_count": 143,
   "metadata": {},
   "outputs": [
    {
     "name": "stdout",
     "output_type": "stream",
     "text": [
      "'RESULT: 1694'\n",
      "\n",
      "'TIME............................................................'\n",
      "CPU times: user 1.67 s, sys: 4.64 ms, total: 1.67 s\n",
      "Wall time: 1.67 s\n"
     ]
    }
   ],
   "source": [
    "%%time\n",
    "\n",
    "def check_increase(l):\n",
    "    return all(l[i] <= l[i+1] for i in range(len(l)-1))\n",
    "\n",
    "def check_double(l):\n",
    "    return any(l[i] == l[i+1] for i in range(len(l)-1))\n",
    "\n",
    "num_poss_pass = 0\n",
    "for num in range(r_low, r_high+1):\n",
    "    if(check_value(num, [check_increase, check_double])): num_poss_pass+=1\n",
    "\n",
    "print_result(num_poss_pass)"
   ]
  },
  {
   "cell_type": "markdown",
   "metadata": {},
   "source": [
    "## part two "
   ]
  },
  {
   "cell_type": "code",
   "execution_count": 144,
   "metadata": {},
   "outputs": [
    {
     "name": "stdout",
     "output_type": "stream",
     "text": [
      "'RESULT: 1148'\n",
      "\n",
      "'TIME............................................................'\n",
      "CPU times: user 2.58 s, sys: 5.62 ms, total: 2.58 s\n",
      "Wall time: 2.58 s\n"
     ]
    }
   ],
   "source": [
    "%%time\n",
    "\n",
    "def check_increase(l):\n",
    "    return all(l[i] <= l[i+1] for i in range(len(l)-1))\n",
    "\n",
    "def check_ungrouped_double(l):\n",
    "    l = [-1] + l +[-1]\n",
    "    return any(l[i-1] != l[i] == l[i+1] != l[i+2] for i in range(1, len(l)-1))\n",
    "\n",
    "num_poss_pass = 0\n",
    "for num in range(r_low, r_high+1):\n",
    "    num_list = [int(i) for i in list(str(num))]\n",
    "    if(check_value(num, [check_increase, check_ungrouped_double])): num_poss_pass += 1\n",
    "\n",
    "print_result(num_poss_pass)"
   ]
  },
  {
   "cell_type": "markdown",
   "metadata": {},
   "source": [
    "# 5"
   ]
  },
  {
   "cell_type": "markdown",
   "metadata": {},
   "source": [
    "## setup"
   ]
  },
  {
   "cell_type": "code",
   "execution_count": 135,
   "metadata": {},
   "outputs": [],
   "source": [
    "comp_string = get_level_input(\"05\")\n",
    "comp_string = list(map(int, comp_string.split(',')))"
   ]
  },
  {
   "cell_type": "markdown",
   "metadata": {},
   "source": [
    "## part one"
   ]
  },
  {
   "cell_type": "code",
   "execution_count": 19,
   "metadata": {},
   "outputs": [
    {
     "name": "stdin",
     "output_type": "stream",
     "text": [
      "provide input value:  1\n"
     ]
    },
    {
     "name": "stdout",
     "output_type": "stream",
     "text": [
      "\n",
      "win: [3, 225]\n",
      "inputs: [1, 0]\n",
      "output: 225\n",
      "win: [1, 225, 6, 6]\n",
      "inputs: [1, 1100]\n",
      "output: 6\n",
      "win: [1101, 1, 238, 225]\n",
      "inputs: [1, 238]\n",
      "output: 225\n",
      "win: [104, 0]\n",
      "inputs: []\n",
      "output: 0\n",
      "OUTPUT: 3\n",
      "\n",
      "win: [1101, 86, 8, 225]\n",
      "inputs: [86, 8]\n",
      "output: 225\n",
      "win: [1101, 82, 69, 225]\n",
      "inputs: [82, 69]\n",
      "output: 225\n",
      "win: [101, 36, 65, 224]\n",
      "inputs: [36, 70]\n",
      "output: 224\n",
      "win: [1001, 224, -106, 224]\n",
      "inputs: [106, -106]\n",
      "output: 224\n",
      "win: [4, 224]\n",
      "inputs: []\n",
      "output: 224\n",
      "OUTPUT: 0\n",
      "\n",
      "win: [1002, 223, 8, 223]\n",
      "inputs: [0, 8]\n",
      "output: 223\n",
      "win: [1001, 224, 5, 224]\n",
      "inputs: [0, 5]\n",
      "output: 224\n",
      "win: [1, 223, 224, 223]\n",
      "inputs: [0, 5]\n",
      "output: 223\n",
      "win: [102, 52, 148, 224]\n",
      "inputs: [52, 22]\n",
      "output: 224\n",
      "win: [101, -1144, 224, 224]\n",
      "inputs: [-1144, 1144]\n",
      "output: 224\n",
      "win: [4, 224]\n",
      "inputs: []\n",
      "output: 224\n",
      "OUTPUT: 0\n",
      "\n",
      "win: [1002, 223, 8, 223]\n",
      "inputs: [5, 8]\n",
      "output: 223\n",
      "win: [101, 1, 224, 224]\n",
      "inputs: [1, 0]\n",
      "output: 224\n",
      "win: [1, 224, 223, 223]\n",
      "inputs: [1, 40]\n",
      "output: 223\n",
      "win: [1102, 70, 45, 225]\n",
      "inputs: [70, 45]\n",
      "output: 225\n",
      "win: [1002, 143, 48, 224]\n",
      "inputs: [28, 48]\n",
      "output: 224\n",
      "win: [1001, 224, -1344, 224]\n",
      "inputs: [1344, -1344]\n",
      "output: 224\n",
      "win: [4, 224]\n",
      "inputs: []\n",
      "output: 224\n",
      "OUTPUT: 0\n",
      "\n",
      "win: [102, 8, 223, 223]\n",
      "inputs: [8, 41]\n",
      "output: 223\n",
      "win: [101, 7, 224, 224]\n",
      "inputs: [7, 0]\n",
      "output: 224\n",
      "win: [1, 223, 224, 223]\n",
      "inputs: [328, 7]\n",
      "output: 223\n",
      "win: [1101, 69, 75, 225]\n",
      "inputs: [69, 75]\n",
      "output: 225\n",
      "win: [1001, 18, 85, 224]\n",
      "inputs: [69, 85]\n",
      "output: 224\n",
      "win: [1001, 224, -154, 224]\n",
      "inputs: [154, -154]\n",
      "output: 224\n",
      "win: [4, 224]\n",
      "inputs: []\n",
      "output: 224\n",
      "OUTPUT: 0\n",
      "\n",
      "win: [102, 8, 223, 223]\n",
      "inputs: [8, 335]\n",
      "output: 223\n",
      "win: [101, 2, 224, 224]\n",
      "inputs: [2, 0]\n",
      "output: 224\n",
      "win: [1, 224, 223, 223]\n",
      "inputs: [2, 2680]\n",
      "output: 223\n",
      "win: [1101, 15, 59, 225]\n",
      "inputs: [15, 59]\n",
      "output: 225\n",
      "win: [1102, 67, 42, 224]\n",
      "inputs: [67, 42]\n",
      "output: 224\n",
      "win: [101, -2814, 224, 224]\n",
      "inputs: [-2814, 2814]\n",
      "output: 224\n",
      "win: [4, 224]\n",
      "inputs: []\n",
      "output: 224\n",
      "OUTPUT: 0\n",
      "\n",
      "win: [1002, 223, 8, 223]\n",
      "inputs: [2682, 8]\n",
      "output: 223\n",
      "win: [101, 3, 224, 224]\n",
      "inputs: [3, 0]\n",
      "output: 224\n",
      "win: [1, 223, 224, 223]\n",
      "inputs: [21456, 3]\n",
      "output: 223\n",
      "win: [1101, 28, 63, 225]\n",
      "inputs: [28, 63]\n",
      "output: 225\n",
      "win: [1101, 45, 22, 225]\n",
      "inputs: [45, 22]\n",
      "output: 225\n",
      "win: [1101, 90, 16, 225]\n",
      "inputs: [90, 16]\n",
      "output: 225\n",
      "win: [2, 152, 92, 224]\n",
      "inputs: [16, 75]\n",
      "output: 224\n",
      "win: [1001, 224, -1200, 224]\n",
      "inputs: [1200, -1200]\n",
      "output: 224\n",
      "win: [4, 224]\n",
      "inputs: []\n",
      "output: 224\n",
      "OUTPUT: 0\n",
      "\n",
      "win: [102, 8, 223, 223]\n",
      "inputs: [8, 21459]\n",
      "output: 223\n",
      "win: [101, 7, 224, 224]\n",
      "inputs: [7, 0]\n",
      "output: 224\n",
      "win: [1, 223, 224, 223]\n",
      "inputs: [171672, 7]\n",
      "output: 223\n",
      "win: [1101, 45, 28, 224]\n",
      "inputs: [45, 28]\n",
      "output: 224\n",
      "win: [1001, 224, -73, 224]\n",
      "inputs: [73, -73]\n",
      "output: 224\n",
      "win: [4, 224]\n",
      "inputs: []\n",
      "output: 224\n",
      "OUTPUT: 0\n",
      "\n",
      "win: [1002, 223, 8, 223]\n",
      "inputs: [171679, 8]\n",
      "output: 223\n",
      "win: [101, 7, 224, 224]\n",
      "inputs: [7, 0]\n",
      "output: 224\n",
      "win: [1, 224, 223, 223]\n",
      "inputs: [7, 1373432]\n",
      "output: 223\n",
      "win: [1, 14, 118, 224]\n",
      "inputs: [8, 59]\n",
      "output: 224\n",
      "win: [101, -67, 224, 224]\n",
      "inputs: [-67, 67]\n",
      "output: 224\n",
      "win: [4, 224]\n",
      "inputs: []\n",
      "output: 224\n",
      "OUTPUT: 0\n",
      "\n",
      "win: [1002, 223, 8, 223]\n",
      "inputs: [1373439, 8]\n",
      "output: 223\n",
      "win: [1001, 224, 2, 224]\n",
      "inputs: [0, 2]\n",
      "output: 224\n",
      "win: [1, 223, 224, 223]\n",
      "inputs: [10987512, 2]\n",
      "output: 223\n",
      "win: [4, 223]\n",
      "inputs: []\n",
      "output: 223\n",
      "OUTPUT: 10987514\n",
      "\n",
      "'RESULT: 0'\n",
      "\n",
      "'TIME............................................................'\n",
      "CPU times: user 16.7 ms, sys: 6.51 ms, total: 23.3 ms\n",
      "Wall time: 1.47 s\n"
     ]
    }
   ],
   "source": [
    "%%time\n",
    "\n",
    "def run_computer(comp_string):\n",
    "    i=0\n",
    "    last_output = 0\n",
    "    # print_computer(comp_string)\n",
    "    while(True):\n",
    "        opcode_and_settings = \"0000\"+str(comp_string[i])\n",
    "        opcode = int(opcode_and_settings[-2:])\n",
    "        if(opcode == END): return comp_string, last_output\n",
    "        input_modes = [int(opcode_and_settings[-3]), int(opcode_and_settings[-4]), int(opcode_and_settings[-5])]\n",
    "        \n",
    "        window = operation_length[opcode]\n",
    "        win = comp_string[i: i+window]\n",
    "        i+=window\n",
    "        \n",
    "        output = win[-1]\n",
    "        num_inputs = operation_num_inputs[opcode]\n",
    "        inputs = [win[i+1] if input_modes[i] else comp_string[win[i+1]] for i in range(operation_num_inputs[opcode])]\n",
    "        if(opcode == INPUT): \n",
    "            inputs = [int(input(\"provide input value: \")), 0]\n",
    "            print(\"\")\n",
    "        print_step(win,inputs,output)\n",
    "        if(opcode == OUTPUT): \n",
    "            print(f\"OUTPUT: {comp_string[output]}\\n\")\n",
    "            last_output = output\n",
    "            continue\n",
    "\n",
    "        comp_string[output] = {\n",
    "            ADD: (inputs[0] + inputs[1]),\n",
    "            MULT: (inputs[0] * inputs[1]),\n",
    "            INPUT: inputs[0],\n",
    "        }[opcode]\n",
    "        # print_computer(comp_string)\n",
    "\n",
    "print_result(comp_string[run_computer(list(comp_string))[1]])"
   ]
  },
  {
   "cell_type": "code",
   "execution_count": 17,
   "metadata": {},
   "outputs": [
    {
     "name": "stdin",
     "output_type": "stream",
     "text": [
      "provide input value:  1\n"
     ]
    },
    {
     "name": "stdout",
     "output_type": "stream",
     "text": [
      "\n",
      "window: 3\n",
      "inputs: [1, 0]\n",
      "output: 225\n",
      "window: 1\n",
      "inputs: [1, 1100]\n",
      "output: 6\n",
      "window: 1\n",
      "inputs: [1, 238]\n",
      "output: 225\n",
      "window: 4\n",
      "inputs: []\n",
      "output: 0\n",
      "OUTPUT: 3\n",
      "\n",
      "window: 1\n",
      "inputs: [86, 8]\n",
      "output: 225\n",
      "window: 1\n",
      "inputs: [82, 69]\n",
      "output: 225\n",
      "window: 1\n",
      "inputs: [36, 70]\n",
      "output: 224\n",
      "window: 1\n",
      "inputs: [106, -106]\n",
      "output: 224\n",
      "window: 4\n",
      "inputs: []\n",
      "output: 224\n",
      "OUTPUT: 0\n",
      "\n",
      "window: 2\n",
      "inputs: [0, 8]\n",
      "output: 223\n",
      "window: 1\n",
      "inputs: [0, 5]\n",
      "output: 224\n",
      "window: 1\n",
      "inputs: [0, 5]\n",
      "output: 223\n",
      "window: 2\n",
      "inputs: [52, 22]\n",
      "output: 224\n",
      "window: 1\n",
      "inputs: [-1144, 1144]\n",
      "output: 224\n",
      "window: 4\n",
      "inputs: []\n",
      "output: 224\n",
      "OUTPUT: 0\n",
      "\n",
      "window: 2\n",
      "inputs: [5, 8]\n",
      "output: 223\n",
      "window: 1\n",
      "inputs: [1, 0]\n",
      "output: 224\n",
      "window: 1\n",
      "inputs: [1, 40]\n",
      "output: 223\n",
      "window: 2\n",
      "inputs: [70, 45]\n",
      "output: 225\n",
      "window: 2\n",
      "inputs: [28, 48]\n",
      "output: 224\n",
      "window: 1\n",
      "inputs: [1344, -1344]\n",
      "output: 224\n",
      "window: 4\n",
      "inputs: []\n",
      "output: 224\n",
      "OUTPUT: 0\n",
      "\n",
      "window: 2\n",
      "inputs: [8, 41]\n",
      "output: 223\n",
      "window: 1\n",
      "inputs: [7, 0]\n",
      "output: 224\n",
      "window: 1\n",
      "inputs: [328, 7]\n",
      "output: 223\n",
      "window: 1\n",
      "inputs: [69, 75]\n",
      "output: 225\n",
      "window: 1\n",
      "inputs: [69, 85]\n",
      "output: 224\n",
      "window: 1\n",
      "inputs: [154, -154]\n",
      "output: 224\n",
      "window: 4\n",
      "inputs: []\n",
      "output: 224\n",
      "OUTPUT: 0\n",
      "\n",
      "window: 2\n",
      "inputs: [8, 335]\n",
      "output: 223\n",
      "window: 1\n",
      "inputs: [2, 0]\n",
      "output: 224\n",
      "window: 1\n",
      "inputs: [2, 2680]\n",
      "output: 223\n",
      "window: 1\n",
      "inputs: [15, 59]\n",
      "output: 225\n",
      "window: 2\n",
      "inputs: [67, 42]\n",
      "output: 224\n",
      "window: 1\n",
      "inputs: [-2814, 2814]\n",
      "output: 224\n",
      "window: 4\n",
      "inputs: []\n",
      "output: 224\n",
      "OUTPUT: 0\n",
      "\n",
      "window: 2\n",
      "inputs: [2682, 8]\n",
      "output: 223\n",
      "window: 1\n",
      "inputs: [3, 0]\n",
      "output: 224\n",
      "window: 1\n",
      "inputs: [21456, 3]\n",
      "output: 223\n",
      "window: 1\n",
      "inputs: [28, 63]\n",
      "output: 225\n",
      "window: 1\n",
      "inputs: [45, 22]\n",
      "output: 225\n",
      "window: 1\n",
      "inputs: [90, 16]\n",
      "output: 225\n",
      "window: 2\n",
      "inputs: [16, 75]\n",
      "output: 224\n",
      "window: 1\n",
      "inputs: [1200, -1200]\n",
      "output: 224\n",
      "window: 4\n",
      "inputs: []\n",
      "output: 224\n",
      "OUTPUT: 0\n",
      "\n",
      "window: 2\n",
      "inputs: [8, 21459]\n",
      "output: 223\n",
      "window: 1\n",
      "inputs: [7, 0]\n",
      "output: 224\n",
      "window: 1\n",
      "inputs: [171672, 7]\n",
      "output: 223\n",
      "window: 1\n",
      "inputs: [45, 28]\n",
      "output: 224\n",
      "window: 1\n",
      "inputs: [73, -73]\n",
      "output: 224\n",
      "window: 4\n",
      "inputs: []\n",
      "output: 224\n",
      "OUTPUT: 0\n",
      "\n",
      "window: 2\n",
      "inputs: [171679, 8]\n",
      "output: 223\n",
      "window: 1\n",
      "inputs: [7, 0]\n",
      "output: 224\n",
      "window: 1\n",
      "inputs: [7, 1373432]\n",
      "output: 223\n",
      "window: 1\n",
      "inputs: [8, 59]\n",
      "output: 224\n",
      "window: 1\n",
      "inputs: [-67, 67]\n",
      "output: 224\n",
      "window: 4\n",
      "inputs: []\n",
      "output: 224\n",
      "OUTPUT: 0\n",
      "\n",
      "window: 2\n",
      "inputs: [1373439, 8]\n",
      "output: 223\n",
      "window: 1\n",
      "inputs: [0, 2]\n",
      "output: 224\n",
      "window: 1\n",
      "inputs: [10987512, 2]\n",
      "output: 223\n",
      "window: 4\n",
      "inputs: []\n",
      "output: 223\n",
      "OUTPUT: 10987514\n",
      "\n",
      "'RESULT: 10987514'\n",
      "\n",
      "'TIME............................................................'\n",
      "CPU times: user 16.3 ms, sys: 6.86 ms, total: 23.2 ms\n",
      "Wall time: 1.28 s\n"
     ]
    }
   ],
   "source": [
    "%%time\n",
    "def run_computer(comp_string):\n",
    "    i=0\n",
    "    last_output = 0\n",
    "    # print_computer(comp_string)\n",
    "    while(True):\n",
    "        opcode_and_settings = \"0000\"+str(comp_string[i])\n",
    "        opcode = int(opcode_and_settings[-2:])\n",
    "        if(opcode == END): return comp_string, last_output\n",
    "        input_modes = [int(opcode_and_settings[-3]), int(opcode_and_settings[-4]), int(opcode_and_settings[-5])]\n",
    "        \n",
    "        window = operation_length[opcode]\n",
    "        win = comp_string[i: i+window]\n",
    "        i+=window\n",
    "        \n",
    "        \n",
    "        output = win[-1]\n",
    "        num_inputs = operation_num_inputs[opcode]\n",
    "        inputs = [win[i+1] if input_modes[i] else comp_string[win[i+1]] for i in range(operation_num_inputs[opcode])]\n",
    "         \n",
    "        \n",
    "        if(opcode == INPUT): \n",
    "            inputs = [int(input(\"provide input value: \")), 0]\n",
    "            print(\"\")\n",
    "        \n",
    "        if(opcode == OUTPUT): \n",
    "            print(f\"OUTPUT: {comp_string[output]}\\n\")\n",
    "            last_output = comp_string[output]\n",
    "            continue\n",
    "            \n",
    "        if(opcode in JUMPS):\n",
    "            i = {\n",
    "                JUMP_IF_TRUE: inputs[1] if inputs[0] != 0 else i,\n",
    "                JUMP_IF_FALSE: inputs[1] if inputs[0] == 0 else i, \n",
    "            }[opcode]\n",
    "            \n",
    "        else:\n",
    "            comp_string[output] = {\n",
    "                ADD: (inputs[0] + inputs[1]),\n",
    "                MULT: (inputs[0] * inputs[1]),\n",
    "                INPUT: inputs[0],\n",
    "                LESS_THAN: 1 if inputs[0] < inputs[1] else 0, \n",
    "                EQUALS: 1 if inputs[0] == inputs[1] else 0 \n",
    "            }[opcode]\n",
    "            # print_computer(comp_string)\n",
    "\n",
    "print_result(run_computer(list(comp_string))[1])"
   ]
  },
  {
   "cell_type": "markdown",
   "metadata": {},
   "source": [
    "# 6"
   ]
  },
  {
   "cell_type": "markdown",
   "metadata": {},
   "source": [
    "## setup "
   ]
  },
  {
   "cell_type": "code",
   "execution_count": 115,
   "metadata": {},
   "outputs": [],
   "source": [
    "orbits = get_level_input(\"06\").splitlines()\n",
    "orbits = [orbit.split(')') for orbit in orbits]"
   ]
  },
  {
   "cell_type": "markdown",
   "metadata": {},
   "source": [
    "## part one"
   ]
  },
  {
   "cell_type": "code",
   "execution_count": 113,
   "metadata": {},
   "outputs": [
    {
     "name": "stdout",
     "output_type": "stream",
     "text": [
      "'RESULT: 144909'\n",
      "\n",
      "'TIME............................................................'\n",
      "CPU times: user 448 ms, sys: 6.68 ms, total: 455 ms\n",
      "Wall time: 460 ms\n"
     ]
    }
   ],
   "source": [
    "%%time\n",
    "\n",
    "orbit_graph = nx.DiGraph()\n",
    "for orbit in orbits:\n",
    "    orbit_graph.add_edge(*orbit)\n",
    "\n",
    "orbit_checksum = sum([len(nx.descendants(orbit_graph, node)) for node in orbit_graph.nodes()])\n",
    "\n",
    "print_result(orbit_checksum)"
   ]
  },
  {
   "cell_type": "markdown",
   "metadata": {},
   "source": [
    "## part two "
   ]
  },
  {
   "cell_type": "code",
   "execution_count": 117,
   "metadata": {},
   "outputs": [
    {
     "name": "stdout",
     "output_type": "stream",
     "text": [
      "'RESULT: 259'\n",
      "\n",
      "'TIME............................................................'\n"
     ]
    }
   ],
   "source": [
    "TARGET = \"SAN\"\n",
    "START = \"YOU\"\n",
    "\n",
    "orbit_graph = nx.Graph()\n",
    "for orbit in orbits:\n",
    "    orbit_graph.add_edge(*orbit)\n",
    "\n",
    "START_SR = list(orbit_graph.neighbors(START))[0]\n",
    "SAN_SR = list(orbit_graph.neighbors(TARGET))[0]\n",
    "\n",
    "print_result(nx.shortest_path_length(orbit_graph, str(START_SR), str(SAN_SR)))\n",
    "    "
   ]
  },
  {
   "cell_type": "markdown",
   "metadata": {},
   "source": [
    "# 7"
   ]
  },
  {
   "cell_type": "markdown",
   "metadata": {},
   "source": [
    "## setup "
   ]
  },
  {
   "cell_type": "code",
   "execution_count": 44,
   "metadata": {},
   "outputs": [],
   "source": [
    "amp_prog = get_level_input(\"07\")\n",
    "amp_prog = list(map(int, amp_prog.split(',')))\n",
    "#amp_prog = [3,23,3,24,1002,24,10,24,1002,23,-1,23,101,5,23,23,1,24,23,23,4,23,99,0,0] #[3,15,3,16,1002,16,10,16,1,16,15,15,4,15,99,0,0]\n",
    "NUM_AMPS = 5\n",
    "\n",
    "def run_computer(comp_string, c_i):\n",
    "    i=0\n",
    "    last_output = 0\n",
    "    while(True):\n",
    "        opcode_and_settings = \"0000\"+str(comp_string[i])\n",
    "        opcode = int(opcode_and_settings[-2:])\n",
    "        if(opcode == END): return comp_string, last_output\n",
    "        input_modes = [int(opcode_and_settings[-3]), int(opcode_and_settings[-4]), int(opcode_and_settings[-5])]\n",
    "        \n",
    "        window = operation_length[opcode]\n",
    "        win = comp_string[i: i+window]\n",
    "        i+=window        \n",
    "        output = win[-1]\n",
    "        num_inputs = operation_num_inputs[opcode]\n",
    "        inputs = [win[j+1] if input_modes[j] else comp_string[win[j+1]] for j in range(operation_num_inputs[opcode])]\n",
    "        \n",
    "        if(opcode == INPUT): \n",
    "            inputs = [c_i.pop(0), 0]\n",
    "            \n",
    "        if(opcode == OUTPUT): \n",
    "            return comp_string[output]\n",
    "            continue\n",
    "            \n",
    "        if(opcode in JUMPS):\n",
    "            i = {\n",
    "                JUMP_IF_TRUE: inputs[1] if inputs[0] != 0 else i,\n",
    "                JUMP_IF_FALSE: inputs[1] if inputs[0] == 0 else i, \n",
    "            }[opcode]\n",
    "            \n",
    "        else:\n",
    "            comp_string[output] = {\n",
    "                ADD: (inputs[0] + inputs[1]),\n",
    "                MULT: (inputs[0] * inputs[1]),\n",
    "                INPUT: inputs[0],\n",
    "                LESS_THAN: 1 if inputs[0] < inputs[1] else 0, \n",
    "                EQUALS: 1 if inputs[0] == inputs[1] else 0 \n",
    "            }[opcode]"
   ]
  },
  {
   "cell_type": "markdown",
   "metadata": {},
   "source": [
    "## part one"
   ]
  },
  {
   "cell_type": "code",
   "execution_count": 15,
   "metadata": {},
   "outputs": [
    {
     "name": "stdout",
     "output_type": "stream",
     "text": [
      "'RESULT: 21760'\n",
      "\n",
      "'TIME............................................................'\n",
      "CPU times: user 25.1 ms, sys: 1.66 ms, total: 26.8 ms\n",
      "Wall time: 26.1 ms\n"
     ]
    }
   ],
   "source": [
    "%%time\n",
    "\n",
    "amp_pos = list(itertools.permutations(list(range(NUM_AMPS))))\n",
    "\n",
    "max_val = 0\n",
    "\n",
    "for perm in amp_pos:\n",
    "    inputs = [perm[0], 0]\n",
    "    for i in range(NUM_AMPS):\n",
    "        inputs = [perm[i+1] if i+1<NUM_AMPS else 0, run_computer(amp_prog[:], inputs)]\n",
    "        if(inputs[1]>max_val):\n",
    "            max_val = inputs[1]\n",
    "        \n",
    "print_result(max_val)"
   ]
  },
  {
   "cell_type": "code",
   "execution_count": 45,
   "metadata": {},
   "outputs": [
    {
     "name": "stdout",
     "output_type": "stream",
     "text": [
      "'RESULT: 69816958'\n",
      "\n",
      "'TIME............................................................'\n",
      "CPU times: user 273 ms, sys: 3.63 ms, total: 276 ms\n",
      "Wall time: 278 ms\n"
     ]
    }
   ],
   "source": [
    "%%time\n",
    "\n",
    "#amp_prog = [3,26,1001,26,-4,26,3,27,1002,27,2,27,1,27,26,27,4,27,1001,28,-1,28,1005,28,6,99,0,0,5]\n",
    "\n",
    "def run_computer(ip, comp_string, c_i):\n",
    "    while(True):\n",
    "        opcode_and_settings = \"0000\"+str(comp_string[ip])\n",
    "        opcode = int(opcode_and_settings[-2:])\n",
    "        if(opcode == END): \n",
    "            return -1, ip, c_i\n",
    "        \n",
    "        input_modes = [int(opcode_and_settings[-3]), int(opcode_and_settings[-4]), int(opcode_and_settings[-5])]\n",
    "        \n",
    "        window = operation_length[opcode]\n",
    "        win = comp_string[ip: ip+window]\n",
    "        ip += window\n",
    "        \n",
    "        output = win[-1]\n",
    "        num_inputs = operation_num_inputs[opcode]\n",
    "        inputs_prog = [win[i+1] if input_modes[i] else comp_string[win[i+1]] for i in range(operation_num_inputs[opcode])] \n",
    "        if(opcode == INPUT): \n",
    "            inputs_prog = [c_i.pop(0), 0]\n",
    "        if(opcode == OUTPUT): \n",
    "            return comp_string[output], ip, c_i\n",
    "            \n",
    "        if(opcode in JUMPS):\n",
    "            ip = {\n",
    "                JUMP_IF_TRUE: inputs_prog[1] if inputs_prog[0] != 0 else ip,\n",
    "                JUMP_IF_FALSE: inputs_prog[1] if inputs_prog[0] == 0 else ip, \n",
    "            }[opcode]\n",
    "        else:\n",
    "            comp_string[output] = {\n",
    "                ADD: (inputs_prog[0] + inputs_prog[1]),\n",
    "                MULT: (inputs_prog[0] * inputs_prog[1]),\n",
    "                INPUT: inputs_prog[0],\n",
    "                LESS_THAN: 1 if inputs_prog[0] < inputs_prog[1] else 0, \n",
    "                EQUALS: 1 if inputs_prog[0] == inputs_prog[1] else 0 \n",
    "            }[opcode]\n",
    "\n",
    "amp_pos = list(itertools.permutations(list(range(NUM_AMPS, NUM_AMPS+5))))\n",
    "\n",
    "signals = []\n",
    "for perm in amp_pos:\n",
    "    i = 0\n",
    "    inputs = [[perm[j]] for j in range(NUM_AMPS)]\n",
    "    inputs[0].append(0)\n",
    "    last_e = 0\n",
    "    amp_progs = [deepcopy(amp_prog) for j in range(NUM_AMPS)]\n",
    "    ips = [0 for j in range(NUM_AMPS)]\n",
    "    while(True):\n",
    "        output, ips[i%NUM_AMPS],inputs[i%NUM_AMPS] = run_computer(ips[i%NUM_AMPS], amp_progs[i%NUM_AMPS], inputs[i%NUM_AMPS])\n",
    "        if output == -1:\n",
    "            break\n",
    "        if(i%NUM_AMPS == 4):\n",
    "            last_e = output\n",
    "        i+=1\n",
    "        inputs[i%NUM_AMPS].append(output)\n",
    "    signals.append(last_e)\n",
    "        \n",
    "print_result(max(signals))"
   ]
  },
  {
   "cell_type": "markdown",
   "metadata": {},
   "source": [
    "# 8"
   ]
  },
  {
   "cell_type": "markdown",
   "metadata": {},
   "source": [
    "## setup "
   ]
  },
  {
   "cell_type": "code",
   "execution_count": 46,
   "metadata": {},
   "outputs": [],
   "source": [
    "orbits = get_level_input(\"08\").splitlines()\n",
    "orbits = [orbit.split(')') for orbit in orbits]"
   ]
  },
  {
   "cell_type": "markdown",
   "metadata": {},
   "source": [
    "## part one"
   ]
  },
  {
   "cell_type": "code",
   "execution_count": null,
   "metadata": {},
   "outputs": [],
   "source": []
  },
  {
   "cell_type": "markdown",
   "metadata": {},
   "source": [
    "## part two"
   ]
  },
  {
   "cell_type": "code",
   "execution_count": null,
   "metadata": {},
   "outputs": [],
   "source": []
  }
 ],
 "metadata": {
  "kernelspec": {
   "display_name": "Python 3",
   "language": "python",
   "name": "python3"
  },
  "language_info": {
   "codemirror_mode": {
    "name": "ipython",
    "version": 3
   },
   "file_extension": ".py",
   "mimetype": "text/x-python",
   "name": "python",
   "nbconvert_exporter": "python",
   "pygments_lexer": "ipython3",
   "version": "3.7.5"
  }
 },
 "nbformat": 4,
 "nbformat_minor": 4
}
